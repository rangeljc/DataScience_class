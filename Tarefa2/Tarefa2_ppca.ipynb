{
 "cells": [
  {
   "cell_type": "markdown",
   "metadata": {},
   "source": [
    "# TAREFA 2 - CIÊNCIA DE DADOS\n",
    "##### ALUNO: JULIO CESAR RANGEL"
   ]
  },
  {
   "cell_type": "markdown",
   "metadata": {},
   "source": [
    "### IMPORTAÇÃO DAS BIBLIOTECAS"
   ]
  },
  {
   "cell_type": "code",
   "execution_count": null,
   "metadata": {},
   "outputs": [],
   "source": [
    "import pandas as pd\n",
    "import matplotlib.pyplot as plt\n",
    "#%matplotlib inline"
   ]
  },
  {
   "cell_type": "markdown",
   "metadata": {},
   "source": [
    "### AQUISIÇÃO DOS DADOS"
   ]
  },
  {
   "cell_type": "code",
   "execution_count": null,
   "metadata": {},
   "outputs": [],
   "source": [
    "dataset = pd.read_csv('consumo_cerveja.csv')\n",
    "dataset.head(2)"
   ]
  },
  {
   "cell_type": "markdown",
   "metadata": {},
   "source": [
    "### QUESTÃO 1"
   ]
  },
  {
   "cell_type": "code",
   "execution_count": null,
   "metadata": {},
   "outputs": [],
   "source": [
    "consumo_sem = dataset.groupby('dia_semana')['Consumo_de_cerveja_litros'].mean()\n",
    "consumo_du = consumo_sem[consumo_sem.index < 5]\n",
    "consumo_fs = consumo_sem[consumo_sem.index > 4]\n",
    "\n",
    "semana = ['Segunda', 'Terça', 'Quarta', 'Quinta', 'Sexta', 'Sabado', 'Domingo']"
   ]
  },
  {
   "cell_type": "markdown",
   "metadata": {},
   "source": [
    "###### GRAFICO DE BARRAS"
   ]
  },
  {
   "cell_type": "code",
   "execution_count": null,
   "metadata": {},
   "outputs": [],
   "source": [
    "fig = plt.figure(figsize=(10,5))\n",
    "eixos = fig.add_axes([0, 0, 1, 1])\n",
    "\n",
    "indice_du = range(len(consumo_du))\n",
    "indice_fs = range(len(consumo_du), len(consumo_sem))\n",
    "\n",
    "eixos.bar(indice_du, consumo_du)\n",
    "eixos.bar(indice_fs, consumo_fs)\n",
    "for i in indice_du:\n",
    "        eixos.text(i,consumo_du[i],consumo_du[i].round(1), fontsize=12, ha='center')\n",
    "for i in indice_fs:\n",
    "        eixos.text(i,consumo_fs[i],consumo_fs[i].round(1), fontsize=12, ha='center')\n",
    "eixos.set_title('Consumo de Cerveja por Dias da Semana', fontsize=20)\n",
    "eixos.set_xlabel('Dia da Semana', fontsize=15)\n",
    "eixos.set_ylabel('Consumo Médio', fontsize=15)\n",
    "eixos.set_xticks(range(len(consumo_sem)))\n",
    "eixos.set_xticklabels(semana)\n",
    "eixos.legend(['Dias Úteis', 'Fim de Semana'], fontsize=15, loc='best')\n",
    "\n",
    "plt.show()"
   ]
  },
  {
   "cell_type": "markdown",
   "metadata": {},
   "source": [
    "###### GRAFICO DE PIZZA"
   ]
  },
  {
   "cell_type": "code",
   "execution_count": null,
   "metadata": {},
   "outputs": [],
   "source": [
    "fig = plt.figure(figsize=(5,4))\n",
    "eixos = fig.add_axes([0, 0, 1, 1])\n",
    "\n",
    "cor = ['gray','gray','gray','gray','gray','orange','orange']\n",
    "exp = [0,0,0,0,0,0.1,0.1]\n",
    "\n",
    "eixos.pie(consumo_sem, labels=semana, explode=exp, shadow = True,\n",
    "          autopct='%.1f%%', colors = cor, wedgeprops = {'edgecolor': 'k'})\n",
    "eixos.set_title('Consumo de Cerveja por Dias da Semana', fontsize=20)\n",
    "\n",
    "plt.show()"
   ]
  },
  {
   "cell_type": "markdown",
   "metadata": {},
   "source": [
    "### QUESTÃO 2"
   ]
  },
  {
   "cell_type": "code",
   "execution_count": null,
   "metadata": {},
   "outputs": [],
   "source": [
    "total_mes = dataset.groupby('mes')['Consumo_de_cerveja_litros'].sum()\n",
    "\n",
    "indice_mes = range(1,len(total_mes)+1)\n",
    "\n",
    "meses = ['Janeiro', 'Fevereiro', 'Março', 'Abril', 'Maio', 'Junho',\n",
    "         'Julho', 'Agosto', 'Setembro', 'Outubro', 'Novembro', 'Dezembro']"
   ]
  },
  {
   "cell_type": "code",
   "execution_count": null,
   "metadata": {},
   "outputs": [],
   "source": [
    "fig = plt.figure(figsize=(12,5))\n",
    "eixos = fig.add_axes([0, 0, 1, 1])\n",
    "\n",
    "eixos.bar(indice_mes, total_mes)\n",
    "\n",
    "for i in indice_mes:\n",
    "        eixos.text(i,total_mes[i],total_mes[i].round(1), fontsize=12, ha='center')\n",
    "\n",
    "eixos.set_title('Consumo de Cerveja pelos Meses do Anos', fontsize=20)\n",
    "eixos.set_xlabel('Meses do Ano', fontsize=15)\n",
    "eixos.set_ylabel('Consumo Total (L)', fontsize=15)\n",
    "eixos.set_xticks(indice_mes)\n",
    "eixos.set_xticklabels(meses)\n",
    "\n",
    "plt.show()"
   ]
  },
  {
   "cell_type": "markdown",
   "metadata": {},
   "source": [
    "### QUESTÃO 3"
   ]
  },
  {
   "cell_type": "code",
   "execution_count": null,
   "metadata": {},
   "outputs": [],
   "source": [
    "temp_mes = dataset.groupby('mes')['Temperatura_Media_C'].mean()\n",
    "precip_mes = dataset.groupby('mes')['Precipitacao_mm'].mean()\n",
    "consumo_mes = dataset.groupby('mes')['Consumo_de_cerveja_litros'].mean()"
   ]
  },
  {
   "cell_type": "markdown",
   "metadata": {},
   "source": [
    "#### PLOTAGEM"
   ]
  },
  {
   "cell_type": "code",
   "execution_count": null,
   "metadata": {},
   "outputs": [],
   "source": [
    "fig = plt.figure(figsize=(12,5))\n",
    "eixos = fig.add_axes([0, 0, 1, 1])\n",
    "\n",
    "eixos.plot(indice_mes, consumo_mes)\n",
    "eixos.plot(indice_mes, temp_mes, color='r')\n",
    "\n",
    "for i in indice_mes:\n",
    "    eixos.text(i, consumo_mes[i], consumo_mes[i].round(1), fontsize=12, ha='center')\n",
    "    eixos.text(i, temp_mes[i], temp_mes[i].round(1), fontsize=12, ha='center')\n",
    "\n",
    "eixos.set_title('Comparação da Média de Consumo e Temperatura por Mes', fontsize=20)\n",
    "eixos.set_xlabel('Meses', fontsize=15)\n",
    "eixos.set_ylabel('Consumo | Temperatura', fontsize=15)\n",
    "eixos.set_xticks(indice_mes)\n",
    "eixos.set_xticklabels(meses)\n",
    "eixos.legend(['Consumo de Cerveja (Litros)', 'Temperatura Média (Celsius)'], fontsize=15, loc='best')\n",
    "\n",
    "plt.show()"
   ]
  },
  {
   "cell_type": "code",
   "execution_count": null,
   "metadata": {},
   "outputs": [],
   "source": [
    "fig = plt.figure(figsize=(12,5))\n",
    "eixos = fig.add_axes([0, 0, 1, 1])\n",
    "\n",
    "eixos.bar(indice_mes, consumo_mes)\n",
    "eixos.bar(indice_mes, precip_mes, color='r')\n",
    "\n",
    "for i in indice_mes:\n",
    "    eixos.text(i, consumo_mes[i], consumo_mes[i].round(1), fontsize=12, ha='center')\n",
    "    eixos.text(i, precip_mes[i], precip_mes[i].round(1), fontsize=12, ha='center', color='w')\n",
    "\n",
    "eixos.set_title('Comparação da Média de Consumo e Precipitação por Mes', fontsize=20)\n",
    "eixos.set_xlabel('Meses', fontsize=15)\n",
    "eixos.set_ylabel('Consumo | Precipitação', fontsize=15)\n",
    "eixos.set_xticks(indice_mes)\n",
    "eixos.set_xticklabels(meses)\n",
    "eixos.legend(['Consumo de Cerveja (Litros)', 'Precipitação Mensal (mm)'], fontsize=10, loc='best')\n",
    "\n",
    "plt.show()"
   ]
  },
  {
   "cell_type": "markdown",
   "metadata": {},
   "source": [
    "### QUESTÃO 4"
   ]
  },
  {
   "cell_type": "code",
   "execution_count": null,
   "metadata": {},
   "outputs": [],
   "source": [
    "for x in indice_mes:\n",
    "    consumo_diario = dataset[dataset['mes'] == x]['Consumo_de_cerveja_litros']\n",
    "    consumo_diario.index = range(1,len(consumo_diario)+1)\n",
    "    \n",
    "    fig = plt.figure(figsize=(12,5))\n",
    "    eixos = fig.add_axes([0, 0, 1, 1])\n",
    "    \n",
    "    eixos.bar(consumo_diario.index, consumo_diario)\n",
    "    \n",
    "    for i in consumo_diario.index:\n",
    "        eixos.text(i, consumo_diario[i]+1, consumo_diario[i].round(1), fontsize=10, ha='center')\n",
    "        \n",
    "    eixos.set_xlim(0,len(consumo_diario)+1)\n",
    "    eixos.set_ylim(0,consumo_diario.max()+5)\n",
    "    eixos.set_title('Consumo Diario de Cerveja no Mês de '+meses[x-1], fontsize=20)\n",
    "    eixos.set_xlabel('Dia do Mes', fontsize=15)\n",
    "    eixos.set_ylabel('Consumo em Litros', fontsize=15)\n",
    "    eixos.set_xticks(consumo_diario.index)\n",
    "    eixos.set_xticklabels(consumo_diario.index)\n",
    "    \n",
    "    #fig.savefig(str(x)+'.png', bbox_inches='tight')\n",
    "    plt.show()"
   ]
  }
 ],
 "metadata": {
  "kernelspec": {
   "display_name": "Python 3",
   "language": "python",
   "name": "python3"
  },
  "language_info": {
   "codemirror_mode": {
    "name": "ipython",
    "version": 3
   },
   "file_extension": ".py",
   "mimetype": "text/x-python",
   "name": "python",
   "nbconvert_exporter": "python",
   "pygments_lexer": "ipython3",
   "version": "3.7.1"
  }
 },
 "nbformat": 4,
 "nbformat_minor": 2
}
