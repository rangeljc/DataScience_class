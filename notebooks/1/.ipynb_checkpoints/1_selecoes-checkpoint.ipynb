{
 "cells": [
  {
   "cell_type": "markdown",
   "metadata": {
    "id": "3_b05loENMng"
   },
   "source": [
    "# Relatório de Análise I - Base de dados e infos gerais"
   ]
  },
  {
   "cell_type": "markdown",
   "metadata": {
    "id": "it-1NyY1NMnp"
   },
   "source": [
    "## Importando a Base de Dados"
   ]
  },
  {
   "cell_type": "code",
   "execution_count": null,
   "metadata": {
    "id": "DZSqOkJ3NMns"
   },
   "outputs": [],
   "source": [
    "import pandas as pd"
   ]
  },
  {
   "cell_type": "code",
   "execution_count": null,
   "metadata": {
    "id": "SeN6K7IcNMnv",
    "scrolled": true
   },
   "outputs": [],
   "source": [
    "# importando\n",
    "dados = pd.read_csv('aluguel.csv', sep = ';')\n",
    "dados.head()"
   ]
  },
  {
   "cell_type": "code",
   "execution_count": null,
   "metadata": {
    "id": "65RLewupNMn0"
   },
   "outputs": [],
   "source": [
    "type(dados) #exibe o tipo da variável passada como parametro"
   ]
  },
  {
   "cell_type": "markdown",
   "metadata": {
    "id": "MqWV_J8aNMn4"
   },
   "source": [
    "## Informações Gerais sobre a Base de Dados"
   ]
  },
  {
   "cell_type": "code",
   "execution_count": null,
   "metadata": {
    "id": "19zMMWMWNMn1"
   },
   "outputs": [],
   "source": [
    "dados.info() #exibe informações gerais sobra o dataframe"
   ]
  },
  {
   "cell_type": "code",
   "execution_count": null,
   "metadata": {
    "id": "zfCNnSeFNMn5"
   },
   "outputs": [],
   "source": [
    "dados.dtypes"
   ]
  },
  {
   "cell_type": "code",
   "execution_count": null,
   "metadata": {
    "id": "aNXZxDzKNMn5"
   },
   "outputs": [],
   "source": [
    "tipos_de_dados = pd.DataFrame(dados.dtypes, columns = ['Tipos de Dados'])"
   ]
  },
  {
   "cell_type": "code",
   "execution_count": null,
   "metadata": {
    "id": "of0rs5UVNMn6"
   },
   "outputs": [],
   "source": [
    "tipos_de_dados.columns.name = 'Variáveis'"
   ]
  },
  {
   "cell_type": "code",
   "execution_count": null,
   "metadata": {
    "id": "jIr8eOpWNMn7"
   },
   "outputs": [],
   "source": [
    "tipos_de_dados"
   ]
  },
  {
   "cell_type": "code",
   "execution_count": null,
   "metadata": {},
   "outputs": [],
   "source": [
    "#listas suportam atribuições diretas, são expressas por colchetes\n",
    "lista = [1, 2, 3, 4]\n",
    "lista[0] = 10\n",
    "lista"
   ]
  },
  {
   "cell_type": "code",
   "execution_count": null,
   "metadata": {},
   "outputs": [],
   "source": [
    "#Tuplas não suportam atribuição direta de valores, são expressas por parenteses\n",
    "tupla = (1, 2, 3, 4)\n",
    "tupla"
   ]
  },
  {
   "cell_type": "code",
   "execution_count": null,
   "metadata": {},
   "outputs": [],
   "source": [
    "tupla[0] = 10"
   ]
  },
  {
   "cell_type": "code",
   "execution_count": null,
   "metadata": {
    "id": "1OWLyHiGNMn8"
   },
   "outputs": [],
   "source": [
    "#atributo; exibe uma tupla que informa a qtde de linhas e colunas do dataframe\n",
    "dados.shape"
   ]
  },
  {
   "cell_type": "code",
   "execution_count": null,
   "metadata": {
    "id": "vpD16DoCNMn9"
   },
   "outputs": [],
   "source": [
    "dados.shape[0]"
   ]
  },
  {
   "cell_type": "code",
   "execution_count": null,
   "metadata": {
    "id": "QnQHJBdTNMn-"
   },
   "outputs": [],
   "source": [
    "dados.shape[1]"
   ]
  },
  {
   "cell_type": "code",
   "execution_count": null,
   "metadata": {
    "id": "idfKK_J8NMn_"
   },
   "outputs": [],
   "source": [
    "print('A base de dados apresenta {} registros (imóveis) e {} variáveis'.format(dados.shape[0], dados.shape[1]))"
   ]
  },
  {
   "cell_type": "code",
   "execution_count": null,
   "metadata": {
    "id": "oV2Pe3wzR2BI"
   },
   "outputs": [],
   "source": [
    "print(f'A base de dados apresenta {dados.shape[0]} registros (imóveis) e {dados.shape[1]} variáveis')"
   ]
  },
  {
   "cell_type": "code",
   "execution_count": null,
   "metadata": {},
   "outputs": [],
   "source": [
    "dados['Tipo'].unique()"
   ]
  },
  {
   "cell_type": "code",
   "execution_count": null,
   "metadata": {},
   "outputs": [],
   "source": [
    "len(dados['Tipo'].unique())"
   ]
  },
  {
   "cell_type": "code",
   "execution_count": null,
   "metadata": {},
   "outputs": [],
   "source": [
    "dados['Tipo'].value_counts()"
   ]
  },
  {
   "cell_type": "code",
   "execution_count": null,
   "metadata": {
    "id": "s8kRaNekT1Z3"
   },
   "outputs": [],
   "source": [
    "dados['Tipo'].value_counts(normalize = True) #em porcentagem"
   ]
  },
  {
   "cell_type": "code",
   "execution_count": null,
   "metadata": {},
   "outputs": [],
   "source": [
    "dados['Tipo'].value_counts().plot.bar()"
   ]
  },
  {
   "cell_type": "code",
   "execution_count": null,
   "metadata": {},
   "outputs": [],
   "source": []
  },
  {
   "cell_type": "markdown",
   "metadata": {
    "id": "szxYSNTBT1Zr"
   },
   "source": [
    "# Relatório de Análise II - Análise básica e organização"
   ]
  },
  {
   "cell_type": "markdown",
   "metadata": {
    "id": "QlKJIyX3T1Zy"
   },
   "source": [
    "## Tipos de Imóveis"
   ]
  },
  {
   "cell_type": "code",
   "execution_count": null,
   "metadata": {
    "id": "zQzvbadGT1Z0"
   },
   "outputs": [],
   "source": [
    "#import pandas as pd\n",
    "#dados = pd.read_csv('aluguel.csv', sep = ';')"
   ]
  },
  {
   "cell_type": "code",
   "execution_count": null,
   "metadata": {
    "id": "wnfuwfzkT1Z4"
   },
   "outputs": [],
   "source": [
    "dados.head()"
   ]
  },
  {
   "cell_type": "code",
   "execution_count": null,
   "metadata": {
    "id": "m3MKO4EMT1Z6",
    "scrolled": true
   },
   "outputs": [],
   "source": [
    "#dados.Tipo = dados['Tipo']\n",
    "dados.Tipo.head()"
   ]
  },
  {
   "cell_type": "code",
   "execution_count": null,
   "metadata": {
    "id": "tcvF9rf1T1Z7",
    "scrolled": true
   },
   "outputs": [],
   "source": [
    "dados['Tipo'].head()"
   ]
  },
  {
   "cell_type": "code",
   "execution_count": null,
   "metadata": {
    "id": "0ZLm_0w_T1Z9"
   },
   "outputs": [],
   "source": [
    "tipos_de_imovel = dados['Tipo']\n",
    "type(tipos_de_imovel)"
   ]
  },
  {
   "cell_type": "code",
   "execution_count": null,
   "metadata": {},
   "outputs": [],
   "source": [
    "tipos_de_imovel.head()"
   ]
  },
  {
   "cell_type": "code",
   "execution_count": null,
   "metadata": {
    "id": "ExByR8A6T1Z-"
   },
   "outputs": [],
   "source": [
    "#unique() - devolve um array com os itens unicos da série\n",
    "tipos_de_imovel.unique()"
   ]
  },
  {
   "cell_type": "code",
   "execution_count": null,
   "metadata": {
    "id": "HDCgE9jIT1Z_"
   },
   "outputs": [],
   "source": [
    "#função que apaga os registros duplicados da serie.\n",
    "#devolve a informação em formato sintatico, diferente de unique\n",
    "tipos_de_imovel.drop_duplicates()"
   ]
  },
  {
   "cell_type": "code",
   "execution_count": null,
   "metadata": {
    "id": "aGsTa9zqT1aB"
   },
   "outputs": [],
   "source": [
    "tipos_de_imovel"
   ]
  },
  {
   "cell_type": "code",
   "execution_count": null,
   "metadata": {
    "id": "Fk7l9jHKT1aA",
    "scrolled": true
   },
   "outputs": [],
   "source": [
    "#na celula passada embora a serie tenha sido exibida com os valores duplicados\n",
    "#removidos, essa operação não foi de fato implementada na série.\n",
    "#para isso, é necessário informar o parametro inplace = True\n",
    "tipos_de_imovel.drop_duplicates(inplace = True)\n",
    "tipos_de_imovel"
   ]
  },
  {
   "cell_type": "markdown",
   "metadata": {
    "id": "EdcSfaKbT1aC"
   },
   "source": [
    "## Organizando a Visualização"
   ]
  },
  {
   "cell_type": "code",
   "execution_count": null,
   "metadata": {
    "id": "u1DsF70rT1aC"
   },
   "outputs": [],
   "source": [
    "tipos_de_imovel = pd.DataFrame(tipos_de_imovel)"
   ]
  },
  {
   "cell_type": "code",
   "execution_count": null,
   "metadata": {
    "id": "MF9Xy-m5T1aD"
   },
   "outputs": [],
   "source": [
    "tipos_de_imovel"
   ]
  },
  {
   "cell_type": "code",
   "execution_count": null,
   "metadata": {
    "id": "DKCkB3akT1aE"
   },
   "outputs": [],
   "source": [
    "tipos_de_imovel.reset_index()"
   ]
  },
  {
   "cell_type": "code",
   "execution_count": null,
   "metadata": {
    "id": "q_Qd_pBvT1aE"
   },
   "outputs": [],
   "source": [
    "tipos_de_imovel.reset_index(drop = True)"
   ]
  },
  {
   "cell_type": "code",
   "execution_count": null,
   "metadata": {
    "id": "2006uyMiT1aF"
   },
   "outputs": [],
   "source": [
    "tipos_de_imovel"
   ]
  },
  {
   "cell_type": "code",
   "execution_count": null,
   "metadata": {
    "id": "JkqIQ6oQT1aF"
   },
   "outputs": [],
   "source": [
    "tipos_de_imovel.reset_index(drop = True, inplace = True)"
   ]
  },
  {
   "cell_type": "code",
   "execution_count": null,
   "metadata": {
    "id": "oD-lLYipT1aG"
   },
   "outputs": [],
   "source": [
    "tipos_de_imovel"
   ]
  },
  {
   "cell_type": "code",
   "execution_count": null,
   "metadata": {
    "id": "h8bF-WeDT1aH"
   },
   "outputs": [],
   "source": [
    "tipos_de_imovel.columns.name = 'ID'\n",
    "tipos_de_imovel"
   ]
  },
  {
   "cell_type": "markdown",
   "metadata": {
    "id": "eH-_UcjrWKSq"
   },
   "source": [
    "# Relatório  de Análise III - Seleção e exportação"
   ]
  },
  {
   "cell_type": "markdown",
   "metadata": {
    "id": "pSDQ-YfcWKSx"
   },
   "source": [
    "## Imóveis Residenciais"
   ]
  },
  {
   "cell_type": "code",
   "execution_count": null,
   "metadata": {
    "id": "zSVdTzlBWKSz"
   },
   "outputs": [],
   "source": [
    "#import pandas as pd\n",
    "dados = pd.read_csv('aluguel.csv', sep = ';')"
   ]
  },
  {
   "cell_type": "code",
   "execution_count": null,
   "metadata": {
    "id": "2hmHhhP-WKS1"
   },
   "outputs": [],
   "source": [
    "list(dados['Tipo'].drop_duplicates())"
   ]
  },
  {
   "cell_type": "code",
   "execution_count": null,
   "metadata": {
    "id": "y4jo3xA0WKS5"
   },
   "outputs": [],
   "source": [
    "#dados.query('Tipo==\"Quitinete\" or Tipo==\"Casa\" or Tipo==\"Apartamento\" ...')\n",
    "#outra forma de fazer\n",
    "residencial = ['Quitinete',\n",
    " 'Casa',\n",
    " 'Apartamento',\n",
    " 'Casa de Condomínio',\n",
    " 'Casa de Vila']\n",
    "residencial"
   ]
  },
  {
   "cell_type": "code",
   "execution_count": null,
   "metadata": {
    "id": "PQAqmSLvWKS8"
   },
   "outputs": [],
   "source": [
    "dados.head(10)"
   ]
  },
  {
   "cell_type": "code",
   "execution_count": null,
   "metadata": {
    "id": "Kl6U-2gZWKS4"
   },
   "outputs": [],
   "source": [
    "selecao = dados['Tipo'].isin(residencial)\n",
    "selecao.head(10)"
   ]
  },
  {
   "cell_type": "code",
   "execution_count": null,
   "metadata": {
    "id": "gO7e2XJXWKS2"
   },
   "outputs": [],
   "source": [
    "dados_residencial = dados[selecao]\n",
    "dados_residencial.head()"
   ]
  },
  {
   "cell_type": "code",
   "execution_count": null,
   "metadata": {
    "id": "rG7QxyWmWKTD"
   },
   "outputs": [],
   "source": [
    "#verificacao\n",
    "dados_residencial['Tipo'].unique()"
   ]
  },
  {
   "cell_type": "code",
   "execution_count": null,
   "metadata": {
    "id": "zjzqmyTsWKTE"
   },
   "outputs": [],
   "source": [
    "dados_residencial.reset_index(drop = True, inplace = True)\n",
    "dados_residencial"
   ]
  },
  {
   "cell_type": "markdown",
   "metadata": {
    "id": "OTdYMJw9WKTG"
   },
   "source": [
    "## Exportando a Base de Dados"
   ]
  },
  {
   "cell_type": "code",
   "execution_count": null,
   "metadata": {
    "id": "oHK0_izuWKTH"
   },
   "outputs": [],
   "source": [
    "dados_residencial.to_csv('aluguel_res.csv', sep=';')"
   ]
  },
  {
   "cell_type": "code",
   "execution_count": null,
   "metadata": {
    "id": "HU9YuEwYWKTI"
   },
   "outputs": [],
   "source": [
    "pd.read_csv('aluguel_res.csv', sep=';')"
   ]
  },
  {
   "cell_type": "code",
   "execution_count": null,
   "metadata": {
    "id": "6JfLOefuWKTJ"
   },
   "outputs": [],
   "source": [
    "dados_residencial.to_csv('aluguel_residencial.csv', sep=';', index = False)\n",
    "pd.read_csv('aluguel_residencial.csv', sep=';')"
   ]
  },
  {
   "cell_type": "markdown",
   "metadata": {
    "id": "ndDtBTKIhjve"
   },
   "source": [
    "# Relatório de Análise IV - Seleções e frequências (exercícios)"
   ]
  },
  {
   "cell_type": "markdown",
   "metadata": {
    "id": "3kTgd2IMZcsu"
   },
   "source": [
    "## Seleções e Frequências"
   ]
  },
  {
   "cell_type": "code",
   "execution_count": null,
   "metadata": {
    "id": "01-An7eRZcsv"
   },
   "outputs": [],
   "source": [
    "#import pandas as pd"
   ]
  },
  {
   "cell_type": "code",
   "execution_count": null,
   "metadata": {
    "id": "0axdewe2Zcsx"
   },
   "outputs": [],
   "source": [
    "dados = pd.read_csv('aluguel_residencial.csv', sep = ';')"
   ]
  },
  {
   "cell_type": "code",
   "execution_count": null,
   "metadata": {
    "id": "C4rS_nfgZcsx"
   },
   "outputs": [],
   "source": [
    "dados.head()"
   ]
  },
  {
   "cell_type": "code",
   "execution_count": null,
   "metadata": {
    "id": "TBcUZHAAZcsz"
   },
   "outputs": [],
   "source": [
    "# Selecione somente os imóveis classificados com tipo 'Apartamento'\n",
    "selecao1 = dados.query('Tipo==\"Apartamento\"')\n",
    "selecao1.head()"
   ]
  },
  {
   "cell_type": "code",
   "execution_count": null,
   "metadata": {},
   "outputs": [],
   "source": [
    "# Outra forma de selecionar somente os imóveis classificados com tipo 'Apartamento'\n",
    "sel = dados['Tipo']=='Apartamento'\n",
    "selecao1 = dados[sel]\n",
    "n1 = selecao1.shape[0]\n",
    "selecao1.head()"
   ]
  },
  {
   "cell_type": "code",
   "execution_count": null,
   "metadata": {
    "id": "swAzYS_XrT32"
   },
   "outputs": [],
   "source": [
    "# Selecione os imóveis classificados com tipos 'Casa', 'Casa de Condomínio' e 'Casa de Vila'\n",
    "casas = ['Casa', 'Casa de Condomínio', 'Casa de Vila']\n",
    "sel = dados['Tipo'].isin(casas)\n",
    "selecao2 = dados[sel]\n",
    "n2 = selecao2.shape[0]\n",
    "selecao2.head()"
   ]
  },
  {
   "cell_type": "code",
   "execution_count": null,
   "metadata": {
    "id": "XReOr37mZcs4"
   },
   "outputs": [],
   "source": [
    "# Selecione os imóveis com área entre 60 e 100 metros quadrados, incluindo os limites\n",
    "# 60 <= Area <= 100\n",
    "selecao3 = dados.query('Area>=60 and Area<=100')\n",
    "n3 = selecao3.shape[0]\n",
    "selecao3"
   ]
  },
  {
   "cell_type": "code",
   "execution_count": null,
   "metadata": {
    "id": "bZrGs8e_Zcs5"
   },
   "outputs": [],
   "source": [
    "# Selecione os imóveis que tenham pelo menos 4 quartos e aluguel menor que R$ 2.000,00\n",
    "selecao4 = dados.query('Quartos>=4 and Valor<=2000')\n",
    "n4 = selecao4.shape[0]\n",
    "selecao4"
   ]
  },
  {
   "cell_type": "code",
   "execution_count": null,
   "metadata": {
    "id": "BbnUJpWOZcs6"
   },
   "outputs": [],
   "source": [
    "#Imprima a frequencia das selecoes anteriores\n",
    "\n",
    "print(\"Nº de imóveis classificados com tipo 'Apartamento' -> {}\".format(n1))\n",
    "print(\"Nº de imóveis classificados com tipos 'Casa', 'Casa de Condomínio' e 'Casa de Vila' -> {}\".format(n2))\n",
    "print(\"Nº de imóveis com área entre 60 e 100 metros quadrados, incluindo os limites -> {}\".format(n3))\n",
    "print(\"Nº de imóveis que tenham pelo menos 4 quartos e aluguel menor que R$ 2.000,00 -> {}\".format(n4))"
   ]
  }
 ],
 "metadata": {
  "colab": {
   "collapsed_sections": [
    "it-1NyY1NMnp",
    "MqWV_J8aNMn4",
    "szxYSNTBT1Zr",
    "QlKJIyX3T1Zy",
    "EdcSfaKbT1aC",
    "eH-_UcjrWKSq",
    "pSDQ-YfcWKSx",
    "OTdYMJw9WKTG",
    "ndDtBTKIhjve",
    "3kTgd2IMZcsu"
   ],
   "provenance": [
    {
     "file_id": "134PDtZdAIVGRZloea6Xi0r-IqMt5HXSa",
     "timestamp": 1663271877378
    }
   ]
  },
  "kernelspec": {
   "display_name": "Python 3",
   "language": "python",
   "name": "python3"
  },
  "language_info": {
   "codemirror_mode": {
    "name": "ipython",
    "version": 3
   },
   "file_extension": ".py",
   "mimetype": "text/x-python",
   "name": "python",
   "nbconvert_exporter": "python",
   "pygments_lexer": "ipython3",
   "version": "3.7.1"
  }
 },
 "nbformat": 4,
 "nbformat_minor": 1
}
