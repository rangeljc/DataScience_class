{
 "cells": [
  {
   "cell_type": "markdown",
   "metadata": {
    "id": "pZpnrfpHj_9g"
   },
   "source": [
    "# Relatório de Análise V - Criação e exclusão de variáveis"
   ]
  },
  {
   "cell_type": "markdown",
   "metadata": {
    "id": "uO7Rmikyj_9k"
   },
   "source": [
    "## Criando Novas Variáveis"
   ]
  },
  {
   "cell_type": "markdown",
   "metadata": {
    "id": "r7gjlfdRwhH8"
   },
   "source": [
    "**Tarefa**: Adicionar variáveis relacionadas com o preço bruto (valor+condominio+iptu), valor por metro$^2$ e preço bruto por metro$^2$"
   ]
  },
  {
   "cell_type": "code",
   "execution_count": null,
   "metadata": {
    "id": "uL8-dih-j_9l"
   },
   "outputs": [],
   "source": [
    "import pandas as pd"
   ]
  },
  {
   "cell_type": "code",
   "execution_count": null,
   "metadata": {
    "id": "kFfBzEScj_9m"
   },
   "outputs": [],
   "source": [
    "dados = pd.read_csv('aluguel_residencial.csv', sep = ';')"
   ]
  },
  {
   "cell_type": "code",
   "execution_count": null,
   "metadata": {
    "id": "DRIEkm8aj_9o"
   },
   "outputs": [],
   "source": [
    "#o .pop efetua a alteração sem a necessidade do parametro inplace\n",
    "dados.pop('Valor m2')\n",
    "dados.pop('Tipo Agregado')"
   ]
  },
  {
   "cell_type": "code",
   "execution_count": null,
   "metadata": {
    "id": "qFmti6w6j_9n"
   },
   "outputs": [],
   "source": [
    "dados.head()"
   ]
  },
  {
   "cell_type": "code",
   "execution_count": null,
   "metadata": {
    "id": "Tz9-SrnWj_9n"
   },
   "outputs": [],
   "source": [
    "dados.shape[1]"
   ]
  },
  {
   "cell_type": "code",
   "execution_count": null,
   "metadata": {
    "id": "-3hoDZ0Gj_9o"
   },
   "outputs": [],
   "source": [
    "dados['Preço Bruto'] = dados['Valor'] + dados['Condominio'] + dados['IPTU']"
   ]
  },
  {
   "cell_type": "code",
   "execution_count": null,
   "metadata": {
    "id": "a5nKXLTtj_9p"
   },
   "outputs": [],
   "source": [
    "dados['Valor m2'] = dados['Valor'] / dados['Area']"
   ]
  },
  {
   "cell_type": "code",
   "execution_count": null,
   "metadata": {
    "id": "6OQt8Bs6j_9p"
   },
   "outputs": [],
   "source": [
    "dados['Preço Bruto m2'] = dados['Preço Bruto'] / dados['Area']"
   ]
  },
  {
   "cell_type": "code",
   "execution_count": null,
   "metadata": {
    "id": "kkld2zkEj_9q"
   },
   "outputs": [],
   "source": [
    "dados['Valor m2'] = dados['Valor m2'].round(2)"
   ]
  },
  {
   "cell_type": "code",
   "execution_count": null,
   "metadata": {
    "id": "z4Q5VaVIj_9r"
   },
   "outputs": [],
   "source": [
    "dados['Preço Bruto m2'] = dados['Preço Bruto m2'].round(2)"
   ]
  },
  {
   "cell_type": "code",
   "execution_count": null,
   "metadata": {
    "id": "9z9MsI5ij_9r"
   },
   "outputs": [],
   "source": [
    "dados.head()"
   ]
  },
  {
   "cell_type": "markdown",
   "metadata": {
    "id": "towleKB7xdR4"
   },
   "source": [
    "**Tarefa**: Criar uma varíavel que defina se o imóvel é casa ou apartamento"
   ]
  },
  {
   "cell_type": "code",
   "execution_count": null,
   "metadata": {
    "id": "ca2YPUb7j_9r"
   },
   "outputs": [],
   "source": [
    "dados['Tipo'].unique()"
   ]
  },
  {
   "cell_type": "code",
   "execution_count": null,
   "metadata": {
    "id": "7jcWM6wkj_9s"
   },
   "outputs": [],
   "source": [
    "# utilizando função lambda para generalizar ou classificar uma informação\n",
    "casa = ['Quitinete', 'Casa de Condominio', 'Casa', 'Casa']\n",
    "dados['Classe'] = dados['Tipo'].apply(lambda x: 'Casa' if x in casa else 'Apartamento')"
   ]
  },
  {
   "cell_type": "code",
   "execution_count": null,
   "metadata": {},
   "outputs": [],
   "source": [
    "dados.head(10)"
   ]
  },
  {
   "cell_type": "markdown",
   "metadata": {
    "id": "VV-0jrcKj_9s"
   },
   "source": [
    "## Excluindo Variáveis"
   ]
  },
  {
   "cell_type": "markdown",
   "metadata": {
    "id": "LwXDxJNwzUfm"
   },
   "source": [
    "**Tarefa**: O IPTU é informado para alguns imóveis e para outros não, fazendo com que o valor bruto não seja confiável. Assim, seria interessante excluir as variáveis que são obtidas com contribuição do IPTU."
   ]
  },
  {
   "cell_type": "code",
   "execution_count": null,
   "metadata": {
    "id": "4fnl0RyWj_9s"
   },
   "outputs": [],
   "source": [
    "#criar um dataframe auxiliar para testar e depois fazer as modificacoes no principal\n",
    "#se fizer dados_aux = dados, a variável dados_aux vai apontar\n",
    "#para o mesmo endereço de memória de dados, por isso utilizar .copy()\n",
    "dados_aux = dados.copy()"
   ]
  },
  {
   "cell_type": "code",
   "execution_count": null,
   "metadata": {
    "id": "ThJ0EVq0j_9t"
   },
   "outputs": [],
   "source": [
    "#formas de excluir colunas no dataframe\n",
    "del dados_aux['Preço Bruto']"
   ]
  },
  {
   "cell_type": "code",
   "execution_count": null,
   "metadata": {
    "id": "z0S9iFBTj_9t"
   },
   "outputs": [],
   "source": [
    "dados_aux.head(10)"
   ]
  },
  {
   "cell_type": "code",
   "execution_count": null,
   "metadata": {
    "id": "qRAuqs1nj_9u",
    "scrolled": true
   },
   "outputs": [],
   "source": [
    "dados_aux.pop('Preço Bruto m2')"
   ]
  },
  {
   "cell_type": "code",
   "execution_count": null,
   "metadata": {
    "id": "7qGTFiPGj_9t"
   },
   "outputs": [],
   "source": [
    "dados_aux.head(10)"
   ]
  },
  {
   "cell_type": "code",
   "execution_count": null,
   "metadata": {
    "id": "4cYD6r3Jj_9u",
    "scrolled": true
   },
   "outputs": [],
   "source": [
    "dados_aux.drop(['Valor m2', 'Classe'], axis = 1)"
   ]
  },
  {
   "cell_type": "code",
   "execution_count": null,
   "metadata": {
    "id": "YlWmB__rj_9v"
   },
   "outputs": [],
   "source": [
    "dados_aux.head(10)"
   ]
  },
  {
   "cell_type": "code",
   "execution_count": null,
   "metadata": {
    "id": "l2dZsxP-j_9u"
   },
   "outputs": [],
   "source": [
    "dados_aux.drop(['Valor m2', 'Classe'], axis = 1, inplace = True)\n",
    "dados_aux.head(10)"
   ]
  },
  {
   "cell_type": "code",
   "execution_count": null,
   "metadata": {
    "id": "mXeBoLm8j_9v"
   },
   "outputs": [],
   "source": []
  },
  {
   "cell_type": "markdown",
   "metadata": {
    "id": "45Z7NlBAEoQS"
   },
   "source": [
    "# Relatório de Análise VI - Agrupamentos e estatística básica"
   ]
  },
  {
   "cell_type": "markdown",
   "metadata": {
    "id": "EHT7wI81EoQW"
   },
   "source": [
    "## Criando Agrupamentos"
   ]
  },
  {
   "cell_type": "code",
   "execution_count": null,
   "metadata": {
    "id": "LInoWMwAEoQX"
   },
   "outputs": [],
   "source": [
    "#import pandas as pd"
   ]
  },
  {
   "cell_type": "code",
   "execution_count": null,
   "metadata": {
    "id": "b8mzx3TnEoQY"
   },
   "outputs": [],
   "source": [
    "dados = pd.read_csv('aluguel_residencial.csv', sep = ';')"
   ]
  },
  {
   "cell_type": "code",
   "execution_count": null,
   "metadata": {
    "id": "Xxuuglx5EoQZ"
   },
   "outputs": [],
   "source": [
    "dados.head(10)"
   ]
  },
  {
   "cell_type": "markdown",
   "metadata": {
    "id": "ZgEeMlxwEoQa"
   },
   "source": [
    "#### https://pandas.pydata.org/pandas-docs/stable/api.html#api-dataframe-stats"
   ]
  },
  {
   "cell_type": "markdown",
   "metadata": {
    "id": "-bLh1mkZF0Zy"
   },
   "source": [
    "**Tarefa**: Valor médio de aluguel por bairros específicos"
   ]
  },
  {
   "cell_type": "code",
   "execution_count": null,
   "metadata": {
    "id": "mFzv6JzVEoQa"
   },
   "outputs": [],
   "source": [
    "#retorna a quantidade de elementos únicos em cada coluna\n",
    "dados.nunique()"
   ]
  },
  {
   "cell_type": "code",
   "execution_count": null,
   "metadata": {},
   "outputs": [],
   "source": [
    "dados['Tipo'].unique()"
   ]
  },
  {
   "cell_type": "code",
   "execution_count": null,
   "metadata": {
    "id": "cNBL2U7DEoQc"
   },
   "outputs": [],
   "source": [
    "dados['Valor'].mean()"
   ]
  },
  {
   "cell_type": "code",
   "execution_count": null,
   "metadata": {},
   "outputs": [],
   "source": [
    "dados['Valor'].hist(bins=20)"
   ]
  },
  {
   "cell_type": "code",
   "execution_count": null,
   "metadata": {},
   "outputs": [],
   "source": [
    "dados[['Valor']].boxplot()"
   ]
  },
  {
   "cell_type": "code",
   "execution_count": null,
   "metadata": {
    "id": "isMQCNpREoQb"
   },
   "outputs": [],
   "source": [
    "bairros = ['Barra da Tijuca', 'Copacabana', 'Ipanema', 'Leblon', 'Botafogo', 'Flamengo', 'Tijuca']"
   ]
  },
  {
   "cell_type": "code",
   "execution_count": null,
   "metadata": {
    "id": "FmQXDONfEoQd"
   },
   "outputs": [],
   "source": [
    "selecao = dados['Bairro'].isin(bairros)\n",
    "dados[selecao]"
   ]
  },
  {
   "cell_type": "code",
   "execution_count": null,
   "metadata": {
    "id": "YiU5G2T9EoQd"
   },
   "outputs": [],
   "source": [
    "#executa uma espécie de clusterização\n",
    "grupo_bairro = dados.groupby('Bairro')"
   ]
  },
  {
   "cell_type": "code",
   "execution_count": null,
   "metadata": {
    "id": "v6MyyY3lEoQe"
   },
   "outputs": [],
   "source": [
    "type(grupo_bairro)"
   ]
  },
  {
   "cell_type": "code",
   "execution_count": null,
   "metadata": {
    "id": "Hs0vAlADFWiJ"
   },
   "outputs": [],
   "source": [
    "#o pandas fez a separação dos imoveis por bairros, gerando um dicionário\n",
    "grupo_bairro.groups"
   ]
  },
  {
   "cell_type": "code",
   "execution_count": null,
   "metadata": {
    "id": "63-G2P2nFats"
   },
   "outputs": [],
   "source": [
    "grupo_bairro.groups['Flamengo']"
   ]
  },
  {
   "cell_type": "code",
   "execution_count": null,
   "metadata": {
    "id": "GEL08mDeEoQe"
   },
   "outputs": [],
   "source": [
    "for bairro, data in grupo_bairro:\n",
    "    print('{} -> {}'.format(bairro, data.Valor.mean()))"
   ]
  },
  {
   "cell_type": "code",
   "execution_count": null,
   "metadata": {
    "id": "zp6FV2uOGMQ2"
   },
   "outputs": [],
   "source": [
    "grupo_bairro[['Valor']].mean().round(2)"
   ]
  },
  {
   "cell_type": "code",
   "execution_count": null,
   "metadata": {
    "id": "UrLTc-6QEoQf"
   },
   "outputs": [],
   "source": [
    "dados.head()"
   ]
  },
  {
   "cell_type": "code",
   "execution_count": null,
   "metadata": {},
   "outputs": [],
   "source": [
    "grupo_bairro[['Valor', 'Condominio']].mean().round(2)"
   ]
  },
  {
   "cell_type": "markdown",
   "metadata": {
    "id": "4dJt9FlEEoQf"
   },
   "source": [
    "## Estatísticas Descritivas"
   ]
  },
  {
   "cell_type": "code",
   "execution_count": null,
   "metadata": {
    "id": "8gJEIunxEoQf"
   },
   "outputs": [],
   "source": [
    "grupo_bairro['Valor'].describe()"
   ]
  },
  {
   "cell_type": "code",
   "execution_count": null,
   "metadata": {
    "id": "1_JZ5L2oEoQg"
   },
   "outputs": [],
   "source": [
    "#a função aggregate já prevê a função describe.\n",
    "grupo_bairro['Valor'].aggregate(['min', 'max'])"
   ]
  },
  {
   "cell_type": "code",
   "execution_count": null,
   "metadata": {},
   "outputs": [],
   "source": [
    "grupo_bairro['Valor'].aggregate(['min', 'max']).rename(columns={'min': 'Minimo', 'max': 'Maximo'})"
   ]
  },
  {
   "cell_type": "markdown",
   "metadata": {
    "id": "lorSv_wtY-Cm"
   },
   "source": [
    "**E se fosse para todos os bairros? Ainda seria fácil de verificar via dataframe resultante?**"
   ]
  },
  {
   "cell_type": "code",
   "execution_count": null,
   "metadata": {
    "id": "jufk4RB1EoQg"
   },
   "outputs": [],
   "source": [
    "%matplotlib inline\n",
    "import matplotlib.pyplot as plt\n",
    "plt.rc('figure', figsize = (20, 10))"
   ]
  },
  {
   "cell_type": "code",
   "execution_count": null,
   "metadata": {
    "id": "eLkJ1trDEoQg"
   },
   "outputs": [],
   "source": [
    "dados = dados[selecao]"
   ]
  },
  {
   "cell_type": "code",
   "execution_count": null,
   "metadata": {
    "id": "gKI2t1W3EoQh"
   },
   "outputs": [],
   "source": [
    "grupo_bairro = dados.groupby('Bairro')\n",
    "#grupo_bairro.groupby(dados['Bairro'])"
   ]
  },
  {
   "cell_type": "code",
   "execution_count": null,
   "metadata": {},
   "outputs": [],
   "source": [
    "fig = grupo_bairro['Valor'].mean().plot.bar(color = 'black')"
   ]
  },
  {
   "cell_type": "code",
   "execution_count": null,
   "metadata": {
    "id": "Scv8PJIKZg2X"
   },
   "outputs": [],
   "source": [
    "fig = grupo_bairro['Valor'].std().plot.bar(color = 'red', )\n",
    "fig.set_ylabel('Valor do Aluguel')\n",
    "fig.set_title('Valor Médio do Aluguel Por Bairro', {'fontsize':22})"
   ]
  },
  {
   "cell_type": "code",
   "execution_count": null,
   "metadata": {},
   "outputs": [],
   "source": [
    "dados"
   ]
  },
  {
   "cell_type": "code",
   "execution_count": null,
   "metadata": {},
   "outputs": [],
   "source": [
    "pd.crosstab(dados['Tipo'], dados['Bairro'])"
   ]
  },
  {
   "cell_type": "code",
   "execution_count": null,
   "metadata": {},
   "outputs": [],
   "source": [
    "pd.crosstab(dados['Tipo'], dados['Bairro'], normalize = True)*100"
   ]
  },
  {
   "cell_type": "code",
   "execution_count": null,
   "metadata": {},
   "outputs": [],
   "source": [
    "#no momento do cruzamento, se um doz valores for 0, crosstab atribui o NaN (Not a Number)\n",
    "pd.crosstab(dados['Tipo'], dados['Bairro'], aggfunc='mean', values=dados['Valor'])"
   ]
  },
  {
   "cell_type": "code",
   "execution_count": null,
   "metadata": {},
   "outputs": [],
   "source": [
    "pd.crosstab(dados['Tipo'], dados['Bairro'], aggfunc='mean', values=dados['Quartos'])"
   ]
  },
  {
   "cell_type": "code",
   "execution_count": null,
   "metadata": {},
   "outputs": [],
   "source": [
    "pd.crosstab(dados['Tipo'], dados['Bairro'], aggfunc='max', values=dados['Valor'])"
   ]
  }
 ],
 "metadata": {
  "colab": {
   "collapsed_sections": [
    "pZpnrfpHj_9g",
    "uO7Rmikyj_9k",
    "VV-0jrcKj_9s",
    "45Z7NlBAEoQS",
    "EHT7wI81EoQW",
    "ZgEeMlxwEoQa",
    "4dJt9FlEEoQf"
   ],
   "provenance": [
    {
     "file_id": "1lhwPPpcBvwy2bgu0UUa1vezrd3_55UD8",
     "timestamp": 1663358631692
    },
    {
     "file_id": "1opmhFLya-MXw_FtwTpRfIxkaVwxhDAoX",
     "timestamp": 1663358448622
    }
   ]
  },
  "kernelspec": {
   "display_name": "Python 3",
   "language": "python",
   "name": "python3"
  },
  "language_info": {
   "codemirror_mode": {
    "name": "ipython",
    "version": 3
   },
   "file_extension": ".py",
   "mimetype": "text/x-python",
   "name": "python",
   "nbconvert_exporter": "python",
   "pygments_lexer": "ipython3",
   "version": "3.7.1"
  }
 },
 "nbformat": 4,
 "nbformat_minor": 1
}
