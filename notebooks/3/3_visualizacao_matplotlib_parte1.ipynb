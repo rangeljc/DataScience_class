{
 "cells": [
  {
   "cell_type": "markdown",
   "metadata": {
    "id": "5P-m-Kf5pRUD"
   },
   "source": [
    "# Aula 1"
   ]
  },
  {
   "cell_type": "markdown",
   "metadata": {
    "id": "1cQDzztLpRUE"
   },
   "source": [
    "### Fazendo as primeiras visualizações"
   ]
  },
  {
   "cell_type": "code",
   "execution_count": null,
   "metadata": {
    "id": "Z74wW_RUpRUF"
   },
   "outputs": [],
   "source": [
    "import pandas as pd"
   ]
  },
  {
   "cell_type": "code",
   "execution_count": null,
   "metadata": {
    "id": "FTcFKCmRpRUG"
   },
   "outputs": [],
   "source": [
    "df = pd.read_csv('monitoramento_tempo.csv')"
   ]
  },
  {
   "cell_type": "code",
   "execution_count": null,
   "metadata": {
    "id": "SA9gqZsdpRUG"
   },
   "outputs": [],
   "source": [
    "df.head(3)"
   ]
  },
  {
   "cell_type": "code",
   "execution_count": null,
   "metadata": {
    "id": "a-666LkupRUH"
   },
   "outputs": [],
   "source": [
    "df.info() #sem dados nulos, mas a data eh um objeto str; precisa ser datetime"
   ]
  },
  {
   "cell_type": "code",
   "execution_count": null,
   "metadata": {
    "id": "ayZoZkR5pRUI"
   },
   "outputs": [],
   "source": [
    "df['data'] = pd.to_datetime(df['data'], utc = True)"
   ]
  },
  {
   "cell_type": "code",
   "execution_count": null,
   "metadata": {
    "id": "eOLqpFhKvIac"
   },
   "outputs": [],
   "source": [
    "df.info()"
   ]
  },
  {
   "cell_type": "code",
   "execution_count": null,
   "metadata": {
    "id": "SK4NtyBKwELL"
   },
   "outputs": [],
   "source": [
    "df.describe()"
   ]
  },
  {
   "cell_type": "code",
   "execution_count": null,
   "metadata": {},
   "outputs": [],
   "source": [
    "#df['temperatura'] = (df['temperatura']-32)*5/9 converter para celsius"
   ]
  },
  {
   "cell_type": "code",
   "execution_count": null,
   "metadata": {
    "id": "snt5quFVpRUI"
   },
   "outputs": [],
   "source": [
    "import matplotlib.pyplot as plt\n",
    "%matplotlib inline\n",
    "#graficos iram aparecer de forma automatica, uso apenas para notebooks python"
   ]
  },
  {
   "cell_type": "code",
   "execution_count": null,
   "metadata": {
    "id": "jXaiDLX6pRUI"
   },
   "outputs": [],
   "source": [
    "plt.plot(df['data'], df['temperatura'])\n",
    "plt.show() #retirar o retorno da funcao de plotar"
   ]
  },
  {
   "cell_type": "code",
   "execution_count": null,
   "metadata": {
    "id": "3sGRcDfIpRUI"
   },
   "outputs": [],
   "source": [
    "#dimensoes na forma da tupla (largura, altura)\n",
    "plt.figure(figsize=(15,5))\n",
    "plt.plot(df['data'], df['temperatura'])"
   ]
  },
  {
   "cell_type": "code",
   "execution_count": null,
   "metadata": {
    "id": "5CJexkjTpRUJ"
   },
   "outputs": [],
   "source": [
    "plt.figure(figsize=(20,5))\n",
    "plt.plot(df['data'], df['temperatura'])\n",
    "plt.title('Temperatura no Tempo')\n",
    "plt.xlabel('Tempo')\n",
    "plt.ylabel('Temperatura')\n",
    "plt.show()"
   ]
  },
  {
   "cell_type": "code",
   "execution_count": null,
   "metadata": {
    "id": "D3I5iKXPpRUJ"
   },
   "outputs": [],
   "source": [
    "#objeto figura com redimensionamento de tamanho\n",
    "fig = plt.figure(figsize=(20,5))\n",
    "#adicionar os eixos ([left, bottom, width, height] )\n",
    "eixos = fig.add_axes([0, 0, 1, 1])\n",
    "#possibilita realizar mais customizacoes\n",
    "eixos.plot(df['data'], df['temperatura'])\n",
    "eixos.set_title('Temperatura no Tempo')\n",
    "eixos.set_xlabel('Tempo')\n",
    "eixos.set_ylabel('Temperatura')\n",
    "#eixos.legend(['Temperatura'])\n",
    "plt.show()"
   ]
  },
  {
   "cell_type": "code",
   "execution_count": null,
   "metadata": {
    "id": "x_ENZSqJpRUJ"
   },
   "outputs": [],
   "source": [
    "fig = plt.figure(figsize=(20,5))\n",
    "eixos = fig.add_axes([0, 0, 1, 1])\n",
    "\n",
    "eixos.plot(df['data'], df['temperatura'], color='y')\n",
    "eixos.set_title('Temperatura no Tempo', fontsize=25, pad=30)\n",
    "eixos.set_xlabel('Tempo', fontsize=20)\n",
    "eixos.set_ylabel('Temperatura', fontsize=20)\n",
    "plt.show()"
   ]
  },
  {
   "cell_type": "code",
   "execution_count": null,
   "metadata": {
    "id": "sKM-DSXNpRUK"
   },
   "outputs": [],
   "source": [
    "fig = plt.figure(figsize=(20,5))\n",
    "eixos = fig.add_axes([0, 0, 1, 1])\n",
    "\n",
    "eixos.plot(df['data'], df['temperatura'])\n",
    "eixos.plot(df['data'], df['humidade'], color='g')\n",
    "eixos.plot(df['data'], df['velocidade do vento'], color='y')\n",
    "eixos.set_title('Temperatura no Tempo', fontsize=25, pad=30)\n",
    "eixos.set_xlabel('Grandeza no Tempo', fontsize=20)\n",
    "eixos.set_ylabel('Temperatura', fontsize=20)\n",
    "eixos.legend(['Temperatura', 'Humidade', 'Vel Vento'], fontsize=15, loc='best')\n",
    "plt.show()"
   ]
  },
  {
   "cell_type": "code",
   "execution_count": null,
   "metadata": {
    "id": "KUO17nt4pRUK"
   },
   "outputs": [],
   "source": []
  },
  {
   "cell_type": "code",
   "execution_count": null,
   "metadata": {
    "id": "D-sIcpWnpRUK"
   },
   "outputs": [],
   "source": []
  },
  {
   "cell_type": "code",
   "execution_count": null,
   "metadata": {
    "id": "5cTt4e3VpRUL"
   },
   "outputs": [],
   "source": []
  },
  {
   "cell_type": "markdown",
   "metadata": {
    "id": "ILijTtyLpcRn"
   },
   "source": [
    "# Aula 2\n",
    "### Customizando nossas visualizações"
   ]
  },
  {
   "cell_type": "code",
   "execution_count": null,
   "metadata": {
    "id": "yevB4Oz1pcRn"
   },
   "outputs": [],
   "source": [
    "#simplificar green para g e espessura da linha (line width)\n",
    "#diminuir a espessura da linha\n",
    "fig = plt.figure(figsize=(20,5))\n",
    "eixos = fig.add_axes([0, 0, 1, 1])\n",
    "\n",
    "eixos.plot(df['data'], df['temperatura'], lw=2)\n",
    "eixos.plot(df['data'], df['humidade'], color='g', lw=0.1)\n",
    "eixos.plot(df['data'], df['velocidade do vento'], color='y')\n",
    "eixos.set_title('Temperatura no Tempo', fontsize=25, pad=30)\n",
    "eixos.set_xlabel('Grandeza no Tempo', fontsize=20)\n",
    "eixos.set_ylabel('Temperatura', fontsize=20)\n",
    "eixos.legend(['Temperatura', 'Humidade', 'Vel Vento'], fontsize=15, loc='best')\n",
    "plt.show()"
   ]
  },
  {
   "cell_type": "code",
   "execution_count": null,
   "metadata": {
    "id": "p_EcpvMOpcRo"
   },
   "outputs": [],
   "source": []
  },
  {
   "cell_type": "code",
   "execution_count": null,
   "metadata": {
    "id": "6FKiz4_QpcRo"
   },
   "outputs": [],
   "source": [
    "#line style\n",
    "fig = plt.figure(figsize=(20,5))\n",
    "eixos = fig.add_axes([0, 0, 1, 1])\n",
    "\n",
    "eixos.plot(df['data'], df['temperatura'], ls=':')\n",
    "eixos.plot(df['data'], df['humidade'], color='g', ls='--')\n",
    "eixos.plot(df['data'], df['velocidade do vento'], color='y', ls='-.')\n",
    "eixos.set_title('Temperatura no Tempo', fontsize=25, pad=30)\n",
    "eixos.set_xlabel('Grandeza no Tempo', fontsize=20)\n",
    "eixos.set_ylabel('Temperatura', fontsize=20)\n",
    "eixos.legend(['Temperatura', 'Humidade', 'Vel Vento'], fontsize=15, loc='best')\n",
    "plt.show()"
   ]
  },
  {
   "cell_type": "code",
   "execution_count": null,
   "metadata": {
    "id": "wuNGodx9pcRp"
   },
   "outputs": [],
   "source": [
    "import datetime"
   ]
  },
  {
   "cell_type": "code",
   "execution_count": null,
   "metadata": {
    "id": "naVPH4kPpcRp"
   },
   "outputs": [],
   "source": [
    "#grafico dentro de um recorte temporal\n",
    "fig = plt.figure(figsize=(15,7))\n",
    "eixos = fig.add_axes([0, 0, 1, 1])\n",
    "\n",
    "#confirgura os limites do eixo x\n",
    "eixos.set_xlim(datetime.datetime(2014, 1, 1), datetime.datetime(2014, 12, 31))\n",
    "\n",
    "#o atributo marker altera o marcador dos valores da série\n",
    "eixos.plot(df['data'], df['temperatura'], color='r', marker='o')\n",
    "eixos.set_title('Temperatura no Tempo', fontsize=30)\n",
    "eixos.set_xlabel('Tempo', fontsize=20)\n",
    "eixos.set_ylabel('Temperatura', fontsize=20)\n",
    "#eixos.legend(['Temperatura', 'Humidade', 'Vel Vento'], fontsize=15, loc='best')\n",
    "\n",
    "plt.show()"
   ]
  },
  {
   "cell_type": "code",
   "execution_count": null,
   "metadata": {},
   "outputs": [],
   "source": [
    "#outra opção...\n",
    "fig = plt.figure(figsize=(15,7))\n",
    "eixos = fig.add_axes([0, 0, 1, 1])\n",
    "\n",
    "#eixos.set_xlim(datetime.datetime(2014, 1, 1), datetime.datetime(2014, 12, 31))\n",
    "sel = (df['data'] >= '2014-01-01') & (df['data'] <= '2014-12-31')\n",
    "\n",
    "\n",
    "eixos.plot(df[sel]['data'], df[sel]['temperatura'], color='r')\n",
    "eixos.set_title('Temperatura no Tempo', fontsize=30)\n",
    "eixos.set_xlabel('Tempo', fontsize=20)\n",
    "eixos.set_ylabel('Temperatura', fontsize=20)\n",
    "eixos.grid(True)#exibe linhas de grade no grafico\n",
    "plt.show()"
   ]
  },
  {
   "cell_type": "code",
   "execution_count": null,
   "metadata": {
    "id": "9kD70TkUpcRp"
   },
   "outputs": [],
   "source": [
    "#adicionar marcadores\n",
    "\n"
   ]
  },
  {
   "cell_type": "code",
   "execution_count": null,
   "metadata": {
    "id": "NAZ_5mnfpcRq"
   },
   "outputs": [],
   "source": [
    "#adiciona o grid"
   ]
  },
  {
   "cell_type": "code",
   "execution_count": null,
   "metadata": {
    "id": "XRqkf5_PpcRq"
   },
   "outputs": [],
   "source": [
    "#([left, bottom, width, height] )"
   ]
  },
  {
   "cell_type": "code",
   "execution_count": null,
   "metadata": {
    "id": "Z9hQ5hYppcRq"
   },
   "outputs": [],
   "source": [
    "#pad -> espacamento entre o titulo e o grafico\n"
   ]
  },
  {
   "cell_type": "code",
   "execution_count": null,
   "metadata": {
    "id": "n9jFkrGBpcRr"
   },
   "outputs": [],
   "source": [
    "fig = plt.figure(figsize=(15,7))\n",
    "eixo1 = fig.add_axes([0, 0, 1, 1]) #left, bottom, width, height\n",
    "eixo2 = fig.add_axes([0.68, 0.65, 0.3, 0.3])\n",
    "\n",
    "eixo1.plot(df['data'], df['temperatura'], color='b')\n",
    "eixo1.set_title('Temperatura em 2014', fontsize=30)\n",
    "eixo1.set_xlabel('Tempo', fontsize=10)\n",
    "eixo1.set_ylabel('Temperatura', fontsize=10)\n",
    "eixo1.grid(True)\n",
    "eixo1.set_ylim(260, 380)\n",
    "\n",
    "sel = (df['data'] >= '2014-01-01') & (df['data'] <= '2014-12-31')\n",
    "eixo2.plot(df[sel]['data'], df[sel]['temperatura'], color='r')\n",
    "eixo2.set_title('Temperatura em 2014', fontsize=10)\n",
    "eixo2.set_xlabel('Tempo', fontsize=5)\n",
    "eixo2.set_ylabel('Temperatura', fontsize=5)\n",
    "\n",
    "plt.show()"
   ]
  },
  {
   "cell_type": "code",
   "execution_count": null,
   "metadata": {},
   "outputs": [],
   "source": [
    "fig = plt.figure(figsize=(15,7))\n",
    "eixo1 = fig.add_axes([0, 0, 1, 1]) #left, bottom, width, height\n",
    "eixo2 = fig.add_axes([0.68, 0.65, 0.3, 0.3])\n",
    "\n",
    "sel = (df['data'] >= '2014-01-01') & (df['data'] <= '2014-12-31')\n",
    "\n",
    "eixo1.plot(df['data'], df['temperatura'], color='b')\n",
    "eixo1.plot(df[sel]['data'], df[sel]['temperatura'], color='r')\n",
    "eixo1.set_title('Temperatura em 2014', fontsize=30)\n",
    "eixo1.set_xlabel('Tempo', fontsize=10)\n",
    "eixo1.set_ylabel('Temperatura', fontsize=10)\n",
    "eixo1.grid(True)\n",
    "eixo1.set_ylim(260, 380)\n",
    "\n",
    "#sel = (df['data'] >= '2014-01-01') & (df['data'] <= '2014-12-31')\n",
    "eixo2.plot(df[sel]['data'], df[sel]['temperatura'], color='r')\n",
    "eixo2.set_title('Temperatura em 2014', fontsize=10)\n",
    "eixo2.set_xlabel('Tempo', fontsize=5)\n",
    "eixo2.set_ylabel('Temperatura', fontsize=5)\n",
    "\n",
    "plt.show()"
   ]
  },
  {
   "cell_type": "code",
   "execution_count": null,
   "metadata": {
    "id": "CITIDZ8xpcRr"
   },
   "outputs": [],
   "source": []
  },
  {
   "cell_type": "code",
   "execution_count": null,
   "metadata": {
    "id": "RhNgPJbmpcRr"
   },
   "outputs": [],
   "source": []
  },
  {
   "cell_type": "code",
   "execution_count": null,
   "metadata": {
    "id": "xQX_ag_qpcRs"
   },
   "outputs": [],
   "source": [
    "#altera levemente o left\n",
    "\n"
   ]
  },
  {
   "cell_type": "markdown",
   "metadata": {
    "id": "ncj7tdQ8hFzO"
   },
   "source": [
    "**Destacar o mês de maio/2014 no gráfico interno**"
   ]
  },
  {
   "cell_type": "code",
   "execution_count": null,
   "metadata": {
    "id": "S98hbJRJpcRs"
   },
   "outputs": [],
   "source": [
    "\n",
    "\n",
    "#ajustando a lista de legendas\n"
   ]
  },
  {
   "cell_type": "markdown",
   "metadata": {
    "id": "cKq8YCKhWBk5"
   },
   "source": [
    "# Aula 3"
   ]
  },
  {
   "cell_type": "markdown",
   "metadata": {
    "id": "0tI0naa_CcgO"
   },
   "source": [
    "**Delimitar horizontalmente máximo e mínimo**"
   ]
  },
  {
   "cell_type": "code",
   "execution_count": null,
   "metadata": {
    "id": "Qah313_vpdcs"
   },
   "outputs": [],
   "source": [
    "\n",
    "\n",
    "#linha horizontal\n",
    "fig = plt.figure(figsize=(15,7))\n",
    "eixo1 = fig.add_axes([0, 0, 1, 1])\n",
    "\n",
    "eixo1.plot(df['data'], df['temperatura'], color='b')\n",
    "eixo1.set_title('Temperatura em 2014', fontsize=30)\n",
    "eixo1.set_xlabel('Tempo', fontsize=10)\n",
    "eixo1.set_ylabel('Temperatura', fontsize=10)\n",
    "eixo1.grid(True)\n",
    "\n",
    "eixo1.axhline(df['temperatura'].max(), color='g', ls='--')\n",
    "eixo1.axhline(df['temperatura'].min(), color='r', ls='-.')"
   ]
  },
  {
   "cell_type": "markdown",
   "metadata": {
    "id": "WEhkHUHaDFUa"
   },
   "source": [
    "**Fazer uma anotação**"
   ]
  },
  {
   "cell_type": "code",
   "execution_count": null,
   "metadata": {
    "id": "ML3xTBEApdct"
   },
   "outputs": [],
   "source": [
    "#indice da temperatura maxima\n",
    " #valor da temperatura maxima -> df['temperatura'].max()\n",
    "\n",
    "#anotacao(x,y)\n",
    "\n"
   ]
  },
  {
   "cell_type": "markdown",
   "metadata": {
    "id": "H9KSCvakGJ9y"
   },
   "source": [
    "**Anotar com seta e texto**"
   ]
  },
  {
   "cell_type": "code",
   "execution_count": null,
   "metadata": {
    "id": "aoV-szabpdct"
   },
   "outputs": [],
   "source": [
    "#x destino seta\n",
    "#y destino seta\n",
    "\n",
    "#x origem seta, 7000horas antes (+/-)\n",
    "#y origem seta\n",
    "\n"
   ]
  },
  {
   "cell_type": "markdown",
   "metadata": {
    "id": "mHnVE4rLHzYf"
   },
   "source": [
    "**Replicar a ideia para o mínimo**"
   ]
  },
  {
   "cell_type": "code",
   "execution_count": null,
   "metadata": {
    "id": "mPN6XhTWpdcu"
   },
   "outputs": [],
   "source": [
    "# para esquerda\n",
    "# para baixo\n",
    "\n",
    "\n",
    "\n",
    "# para esquerda\n",
    "# para cima\n",
    "\n"
   ]
  },
  {
   "cell_type": "markdown",
   "metadata": {
    "id": "__Cax4bqIFeK"
   },
   "source": [
    "**Análise da temperatura por dia da semana**"
   ]
  },
  {
   "cell_type": "code",
   "execution_count": null,
   "metadata": {},
   "outputs": [],
   "source": [
    "temp_dia_semana = df.groupby('dia_da_semana')['temperatura'].mean()\n",
    "temp_dia_semana"
   ]
  },
  {
   "cell_type": "code",
   "execution_count": null,
   "metadata": {
    "id": "PfFLT2zJIg7W"
   },
   "outputs": [],
   "source": [
    "#agrupar por dia da semana"
   ]
  },
  {
   "cell_type": "code",
   "execution_count": null,
   "metadata": {
    "id": "AvbXSpHYpdcv"
   },
   "outputs": [],
   "source": [
    "\n",
    "nome_dias = ['Domingo', 'Segunda', 'Terça', 'Quarta', 'Quinta', 'Sexta', 'Sábado'] #selecao para colocar em ordem\n",
    "temp_dia_semana = temp_dia_semana[nome_dias]\n",
    "temp_dia_semana"
   ]
  },
  {
   "cell_type": "code",
   "execution_count": null,
   "metadata": {
    "id": "VcgkSTjGpdcv"
   },
   "outputs": [],
   "source": [
    "fig = plt.figure(figsize=(15,7))\n",
    "eixos = fig.add_axes([0, 0, 1, 1])\n",
    "\n",
    "indice = range(len(temp_dia_semana))\n",
    "\n",
    "eixos.bar(indice, temp_dia_semana)# grafico de barras\n",
    "eixos.set_title('Temperatura por Dia da Semana', fontsize=30, color='b')\n",
    "eixos.set_xlabel('Dia da Semana', fontsize=15)\n",
    "eixos.set_ylabel('Temperatura Média', fontsize=15)"
   ]
  },
  {
   "cell_type": "code",
   "execution_count": null,
   "metadata": {
    "id": "rH_XTZ78pdcw"
   },
   "outputs": [],
   "source": [
    "fig = plt.figure(figsize=(15,7))\n",
    "eixos = fig.add_axes([0, 0, 1, 1])\n",
    "\n",
    "indice = range(len(temp_dia_semana))\n",
    "\n",
    "eixos.bar(indice, temp_dia_semana)# grafico de barras\n",
    "eixos.set_title('Temperatura por Dia da Semana', fontsize=30, color='b')\n",
    "eixos.set_xlabel('Dia da Semana', fontsize=15)\n",
    "eixos.set_ylabel('Temperatura Média', fontsize=15)\n",
    "eixos.set_xticks(indice)\n",
    "eixos.set_xticklabels(nome_dias)\n",
    "plt.show()"
   ]
  },
  {
   "cell_type": "code",
   "execution_count": null,
   "metadata": {
    "id": "2zSg3zeIpdcw"
   },
   "outputs": [],
   "source": [
    "cores = ['black', 'r', 'g', 'b', 'yellow', 'orange', 'magenta'] #cores\n",
    "\n",
    "fig = plt.figure(figsize=(15,7))\n",
    "eixos = fig.add_axes([0, 0, 1, 1])\n",
    "\n",
    "indice = range(len(temp_dia_semana))\n",
    "\n",
    "eixos.bar(indice, temp_dia_semana, color = cores, edgecolor = 'k')\n",
    "eixos.set_title('Temperatura por Dia da Semana', fontsize=30, color='b')\n",
    "eixos.set_xlabel('Dia da Semana', fontsize=15)\n",
    "eixos.set_ylabel('Temperatura Média', fontsize=15)\n",
    "eixos.set_xticks(indice)\n",
    "eixos.set_xticklabels(nome_dias)\n",
    "plt.show()"
   ]
  },
  {
   "cell_type": "code",
   "execution_count": null,
   "metadata": {
    "id": "l6QVyquFpdcw"
   },
   "outputs": [],
   "source": [
    "\n",
    "#add cor da borda da barra\n"
   ]
  },
  {
   "cell_type": "markdown",
   "metadata": {
    "id": "72PbqmrAXepC"
   },
   "source": [
    "**Visualização em gráfico de pizza**"
   ]
  },
  {
   "cell_type": "code",
   "execution_count": null,
   "metadata": {
    "id": "W34cGkE_XmGx"
   },
   "outputs": [],
   "source": [
    "temp_dia_semana"
   ]
  },
  {
   "cell_type": "code",
   "execution_count": null,
   "metadata": {
    "id": "G3ahA_2dpdcx"
   },
   "outputs": [],
   "source": [
    "fig = plt.figure(figsize=(5,4))\n",
    "eixos = fig.add_axes([0, 0, 1, 1])\n",
    "\n",
    "eixos.pie(temp_dia_semana, labels=temp_dia_semana.index)#grafico de pizza\n",
    "plt.show()"
   ]
  },
  {
   "cell_type": "code",
   "execution_count": null,
   "metadata": {
    "id": "yU6ZExCfpdcx"
   },
   "outputs": [],
   "source": [
    "#add a porcentagem\n",
    "\n",
    "fig = plt.figure(figsize=(5,4))\n",
    "eixos = fig.add_axes([0, 0, 1, 1])\n",
    "\n",
    "#autopct - exibe a porcentagem da fatia automaticmente\n",
    "eixos.pie(temp_dia_semana, labels=temp_dia_semana.index, autopct='%.1f%%')\n",
    "plt.show()"
   ]
  },
  {
   "cell_type": "markdown",
   "metadata": {
    "id": "gnRLPW0YYgVb"
   },
   "source": [
    "**Ênfase ou explosão de partes específicas da pizza**"
   ]
  },
  {
   "cell_type": "code",
   "execution_count": null,
   "metadata": {
    "id": "8w5wowLjpdcx"
   },
   "outputs": [],
   "source": [
    "fig = plt.figure(figsize=(5,4))\n",
    "eixos = fig.add_axes([0, 0, 1, 1])\n",
    "\n",
    "exp = [0,0,0.2,0,0,0,0]\n",
    "\n",
    "eixos.pie(temp_dia_semana, labels=temp_dia_semana.index, autopct='%.1f%%', explode=exp)\n",
    "plt.show()"
   ]
  },
  {
   "cell_type": "code",
   "execution_count": null,
   "metadata": {
    "id": "GWdzMGGNpdcy"
   },
   "outputs": [],
   "source": [
    "#add sombra\n",
    "fig = plt.figure(figsize=(5,4))\n",
    "eixos = fig.add_axes([0, 0, 1, 1])\n",
    "\n",
    "exp = [0,0.1,0.3,0,0,0.2,0]\n",
    "\n",
    "eixos.pie(temp_dia_semana, labels=temp_dia_semana.index, autopct='%.1f%%', explode=exp, shadow = True)\n",
    "plt.show()"
   ]
  }
 ],
 "metadata": {
  "colab": {
   "collapsed_sections": [
    "5P-m-Kf5pRUD",
    "1cQDzztLpRUE",
    "ILijTtyLpcRn",
    "cKq8YCKhWBk5"
   ],
   "provenance": []
  },
  "kernelspec": {
   "display_name": "Python 3",
   "language": "python",
   "name": "python3"
  },
  "language_info": {
   "codemirror_mode": {
    "name": "ipython",
    "version": 3
   },
   "file_extension": ".py",
   "mimetype": "text/x-python",
   "name": "python",
   "nbconvert_exporter": "python",
   "pygments_lexer": "ipython3",
   "version": "3.7.1"
  }
 },
 "nbformat": 4,
 "nbformat_minor": 1
}
