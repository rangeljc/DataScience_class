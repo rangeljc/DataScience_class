{
 "cells": [
  {
   "cell_type": "markdown",
   "metadata": {
    "id": "0lLSwDuMBS9q"
   },
   "source": [
    "# Importando base de dados"
   ]
  },
  {
   "cell_type": "code",
   "execution_count": 1,
   "metadata": {
    "id": "E01201ePA0r2"
   },
   "outputs": [],
   "source": [
    "import pandas as pd"
   ]
  },
  {
   "cell_type": "code",
   "execution_count": 2,
   "metadata": {
    "id": "EqvigJ-gBk2H"
   },
   "outputs": [],
   "source": [
    "dados = pd.read_csv('tips.csv')"
   ]
  },
  {
   "cell_type": "code",
   "execution_count": 3,
   "metadata": {
    "id": "ctf8qLO8CD3H"
   },
   "outputs": [
    {
     "data": {
      "text/html": [
       "<div>\n",
       "<style scoped>\n",
       "    .dataframe tbody tr th:only-of-type {\n",
       "        vertical-align: middle;\n",
       "    }\n",
       "\n",
       "    .dataframe tbody tr th {\n",
       "        vertical-align: top;\n",
       "    }\n",
       "\n",
       "    .dataframe thead th {\n",
       "        text-align: right;\n",
       "    }\n",
       "</style>\n",
       "<table border=\"1\" class=\"dataframe\">\n",
       "  <thead>\n",
       "    <tr style=\"text-align: right;\">\n",
       "      <th></th>\n",
       "      <th>total_bill</th>\n",
       "      <th>tip</th>\n",
       "      <th>dessert</th>\n",
       "      <th>day</th>\n",
       "      <th>time</th>\n",
       "      <th>size</th>\n",
       "    </tr>\n",
       "  </thead>\n",
       "  <tbody>\n",
       "    <tr>\n",
       "      <th>0</th>\n",
       "      <td>16.99</td>\n",
       "      <td>1.01</td>\n",
       "      <td>No</td>\n",
       "      <td>Sun</td>\n",
       "      <td>Dinner</td>\n",
       "      <td>2</td>\n",
       "    </tr>\n",
       "    <tr>\n",
       "      <th>1</th>\n",
       "      <td>10.34</td>\n",
       "      <td>1.66</td>\n",
       "      <td>No</td>\n",
       "      <td>Sun</td>\n",
       "      <td>Dinner</td>\n",
       "      <td>3</td>\n",
       "    </tr>\n",
       "    <tr>\n",
       "      <th>2</th>\n",
       "      <td>21.01</td>\n",
       "      <td>3.50</td>\n",
       "      <td>No</td>\n",
       "      <td>Sun</td>\n",
       "      <td>Dinner</td>\n",
       "      <td>3</td>\n",
       "    </tr>\n",
       "    <tr>\n",
       "      <th>3</th>\n",
       "      <td>23.68</td>\n",
       "      <td>3.31</td>\n",
       "      <td>No</td>\n",
       "      <td>Sun</td>\n",
       "      <td>Dinner</td>\n",
       "      <td>2</td>\n",
       "    </tr>\n",
       "    <tr>\n",
       "      <th>4</th>\n",
       "      <td>24.59</td>\n",
       "      <td>3.61</td>\n",
       "      <td>No</td>\n",
       "      <td>Sun</td>\n",
       "      <td>Dinner</td>\n",
       "      <td>4</td>\n",
       "    </tr>\n",
       "  </tbody>\n",
       "</table>\n",
       "</div>"
      ],
      "text/plain": [
       "   total_bill   tip dessert  day    time  size\n",
       "0       16.99  1.01      No  Sun  Dinner     2\n",
       "1       10.34  1.66      No  Sun  Dinner     3\n",
       "2       21.01  3.50      No  Sun  Dinner     3\n",
       "3       23.68  3.31      No  Sun  Dinner     2\n",
       "4       24.59  3.61      No  Sun  Dinner     4"
      ]
     },
     "execution_count": 3,
     "metadata": {},
     "output_type": "execute_result"
    }
   ],
   "source": [
    "dados.head()"
   ]
  },
  {
   "cell_type": "code",
   "execution_count": 4,
   "metadata": {
    "id": "o_YeRj6S7zcC"
   },
   "outputs": [
    {
     "data": {
      "text/plain": [
       "array(['Sun', 'Sat', 'Thur', 'Fri'], dtype=object)"
      ]
     },
     "execution_count": 4,
     "metadata": {},
     "output_type": "execute_result"
    }
   ],
   "source": [
    "dados['day'].unique()"
   ]
  },
  {
   "cell_type": "code",
   "execution_count": 5,
   "metadata": {
    "id": "ODhYZToG8Ftj"
   },
   "outputs": [
    {
     "data": {
      "text/plain": [
       "Sat     87\n",
       "Sun     76\n",
       "Thur    62\n",
       "Fri     19\n",
       "Name: day, dtype: int64"
      ]
     },
     "execution_count": 5,
     "metadata": {},
     "output_type": "execute_result"
    }
   ],
   "source": [
    "dados['day'].value_counts()"
   ]
  },
  {
   "cell_type": "code",
   "execution_count": 6,
   "metadata": {
    "id": "-aiRYZSL79hw"
   },
   "outputs": [
    {
     "data": {
      "text/plain": [
       "array(['Dinner', 'Lunch'], dtype=object)"
      ]
     },
     "execution_count": 6,
     "metadata": {},
     "output_type": "execute_result"
    }
   ],
   "source": [
    "dados['time'].unique()"
   ]
  },
  {
   "cell_type": "code",
   "execution_count": 7,
   "metadata": {
    "id": "JeYGiUCQ8M1q"
   },
   "outputs": [
    {
     "data": {
      "text/plain": [
       "Dinner    176\n",
       "Lunch      68\n",
       "Name: time, dtype: int64"
      ]
     },
     "execution_count": 7,
     "metadata": {},
     "output_type": "execute_result"
    }
   ],
   "source": [
    "dados['time'].value_counts()"
   ]
  },
  {
   "cell_type": "code",
   "execution_count": 8,
   "metadata": {
    "id": "Yy85X_PKK911"
   },
   "outputs": [
    {
     "data": {
      "text/plain": [
       "No     151\n",
       "Yes     93\n",
       "Name: dessert, dtype: int64"
      ]
     },
     "execution_count": 8,
     "metadata": {},
     "output_type": "execute_result"
    }
   ],
   "source": [
    "dados['dessert'].value_counts()"
   ]
  },
  {
   "cell_type": "code",
   "execution_count": 9,
   "metadata": {
    "id": "QZIXfGGZLFxm"
   },
   "outputs": [
    {
     "data": {
      "text/plain": [
       "array([2, 3, 4, 1, 6, 5], dtype=int64)"
      ]
     },
     "execution_count": 9,
     "metadata": {},
     "output_type": "execute_result"
    }
   ],
   "source": [
    "dados['size'].unique()"
   ]
  },
  {
   "cell_type": "code",
   "execution_count": 10,
   "metadata": {
    "id": "fuzFfEm1LLQJ"
   },
   "outputs": [
    {
     "data": {
      "text/plain": [
       "2    156\n",
       "3     38\n",
       "4     37\n",
       "5      5\n",
       "6      4\n",
       "1      4\n",
       "Name: size, dtype: int64"
      ]
     },
     "execution_count": 10,
     "metadata": {},
     "output_type": "execute_result"
    }
   ],
   "source": [
    "dados['size'].value_counts()"
   ]
  },
  {
   "cell_type": "markdown",
   "metadata": {
    "id": "tiDQoARqOrz7"
   },
   "source": [
    "# Tradução"
   ]
  },
  {
   "cell_type": "code",
   "execution_count": 11,
   "metadata": {
    "id": "FM9_dPFDJPSh"
   },
   "outputs": [
    {
     "data": {
      "text/plain": [
       "Index(['total_bill', 'tip', 'dessert', 'day', 'time', 'size'], dtype='object')"
      ]
     },
     "execution_count": 11,
     "metadata": {},
     "output_type": "execute_result"
    }
   ],
   "source": [
    "dados.columns"
   ]
  },
  {
   "cell_type": "code",
   "execution_count": 12,
   "metadata": {
    "id": "G2T-0kAZO1XO"
   },
   "outputs": [],
   "source": [
    "renomear = {\n",
    "    'total_bill' : 'valor_da_conta', \n",
    "    'tip': 'gorjeta', \n",
    "    'dessert': 'sobremesa', \n",
    "    'day' : 'dia_da_semana', \n",
    "    'time' : 'hora_do_dia', \n",
    "    'size' : 'total_de_pessoas'   \n",
    "}"
   ]
  },
  {
   "cell_type": "code",
   "execution_count": 13,
   "metadata": {
    "id": "a5TeqF2YPZbI"
   },
   "outputs": [],
   "source": [
    "gorjetas = dados.rename(columns = renomear)"
   ]
  },
  {
   "cell_type": "code",
   "execution_count": 14,
   "metadata": {
    "id": "3Be1tVynPiCL"
   },
   "outputs": [
    {
     "data": {
      "text/html": [
       "<div>\n",
       "<style scoped>\n",
       "    .dataframe tbody tr th:only-of-type {\n",
       "        vertical-align: middle;\n",
       "    }\n",
       "\n",
       "    .dataframe tbody tr th {\n",
       "        vertical-align: top;\n",
       "    }\n",
       "\n",
       "    .dataframe thead th {\n",
       "        text-align: right;\n",
       "    }\n",
       "</style>\n",
       "<table border=\"1\" class=\"dataframe\">\n",
       "  <thead>\n",
       "    <tr style=\"text-align: right;\">\n",
       "      <th></th>\n",
       "      <th>valor_da_conta</th>\n",
       "      <th>gorjeta</th>\n",
       "      <th>sobremesa</th>\n",
       "      <th>dia_da_semana</th>\n",
       "      <th>hora_do_dia</th>\n",
       "      <th>total_de_pessoas</th>\n",
       "    </tr>\n",
       "  </thead>\n",
       "  <tbody>\n",
       "    <tr>\n",
       "      <th>0</th>\n",
       "      <td>16.99</td>\n",
       "      <td>1.01</td>\n",
       "      <td>No</td>\n",
       "      <td>Sun</td>\n",
       "      <td>Dinner</td>\n",
       "      <td>2</td>\n",
       "    </tr>\n",
       "  </tbody>\n",
       "</table>\n",
       "</div>"
      ],
      "text/plain": [
       "   valor_da_conta  gorjeta sobremesa dia_da_semana hora_do_dia  \\\n",
       "0           16.99     1.01        No           Sun      Dinner   \n",
       "\n",
       "   total_de_pessoas  \n",
       "0                 2  "
      ]
     },
     "execution_count": 14,
     "metadata": {},
     "output_type": "execute_result"
    }
   ],
   "source": [
    "gorjetas.head(1)"
   ]
  },
  {
   "cell_type": "code",
   "execution_count": 15,
   "metadata": {
    "id": "7ZBGmUFePj39"
   },
   "outputs": [
    {
     "data": {
      "text/plain": [
       "array(['No', 'Yes'], dtype=object)"
      ]
     },
     "execution_count": 15,
     "metadata": {},
     "output_type": "execute_result"
    }
   ],
   "source": [
    "gorjetas.sobremesa.unique()"
   ]
  },
  {
   "cell_type": "code",
   "execution_count": 16,
   "metadata": {
    "id": "SkJX8DeFPwV9"
   },
   "outputs": [],
   "source": [
    "sim_nao = {\n",
    "    'No' : 'Não', \n",
    "    'Yes' : 'Sim'\n",
    "}"
   ]
  },
  {
   "cell_type": "code",
   "execution_count": 17,
   "metadata": {
    "id": "If25mPimQFyv"
   },
   "outputs": [],
   "source": [
    "gorjetas.sobremesa = gorjetas.sobremesa.map(sim_nao)"
   ]
  },
  {
   "cell_type": "code",
   "execution_count": 18,
   "metadata": {
    "id": "bxT6uKvoQPfO"
   },
   "outputs": [
    {
     "data": {
      "text/html": [
       "<div>\n",
       "<style scoped>\n",
       "    .dataframe tbody tr th:only-of-type {\n",
       "        vertical-align: middle;\n",
       "    }\n",
       "\n",
       "    .dataframe tbody tr th {\n",
       "        vertical-align: top;\n",
       "    }\n",
       "\n",
       "    .dataframe thead th {\n",
       "        text-align: right;\n",
       "    }\n",
       "</style>\n",
       "<table border=\"1\" class=\"dataframe\">\n",
       "  <thead>\n",
       "    <tr style=\"text-align: right;\">\n",
       "      <th></th>\n",
       "      <th>valor_da_conta</th>\n",
       "      <th>gorjeta</th>\n",
       "      <th>sobremesa</th>\n",
       "      <th>dia_da_semana</th>\n",
       "      <th>hora_do_dia</th>\n",
       "      <th>total_de_pessoas</th>\n",
       "    </tr>\n",
       "  </thead>\n",
       "  <tbody>\n",
       "    <tr>\n",
       "      <th>0</th>\n",
       "      <td>16.99</td>\n",
       "      <td>1.01</td>\n",
       "      <td>Não</td>\n",
       "      <td>Sun</td>\n",
       "      <td>Dinner</td>\n",
       "      <td>2</td>\n",
       "    </tr>\n",
       "  </tbody>\n",
       "</table>\n",
       "</div>"
      ],
      "text/plain": [
       "   valor_da_conta  gorjeta sobremesa dia_da_semana hora_do_dia  \\\n",
       "0           16.99     1.01       Não           Sun      Dinner   \n",
       "\n",
       "   total_de_pessoas  \n",
       "0                 2  "
      ]
     },
     "execution_count": 18,
     "metadata": {},
     "output_type": "execute_result"
    }
   ],
   "source": [
    "gorjetas.head(1)"
   ]
  },
  {
   "cell_type": "code",
   "execution_count": 19,
   "metadata": {
    "id": "2FJJAb7EQSDk"
   },
   "outputs": [
    {
     "data": {
      "text/plain": [
       "array(['Sun', 'Sat', 'Thur', 'Fri'], dtype=object)"
      ]
     },
     "execution_count": 19,
     "metadata": {},
     "output_type": "execute_result"
    }
   ],
   "source": [
    "gorjetas.dia_da_semana.unique()"
   ]
  },
  {
   "cell_type": "code",
   "execution_count": 20,
   "metadata": {
    "id": "nPb-SaE3Qavi"
   },
   "outputs": [],
   "source": [
    "dias = {\n",
    "    'Sun' : 'Domingo',\n",
    "    'Sat': 'Sábado',\n",
    "    'Thur': 'Quinta', \n",
    "    'Fri' : 'Sexta'\n",
    "}"
   ]
  },
  {
   "cell_type": "code",
   "execution_count": 21,
   "metadata": {
    "id": "lDVq3Kb2Qo9K"
   },
   "outputs": [],
   "source": [
    "gorjetas.dia_da_semana = gorjetas.dia_da_semana.map(dias)"
   ]
  },
  {
   "cell_type": "code",
   "execution_count": 22,
   "metadata": {
    "id": "kpsLa7egQwfe"
   },
   "outputs": [
    {
     "data": {
      "text/html": [
       "<div>\n",
       "<style scoped>\n",
       "    .dataframe tbody tr th:only-of-type {\n",
       "        vertical-align: middle;\n",
       "    }\n",
       "\n",
       "    .dataframe tbody tr th {\n",
       "        vertical-align: top;\n",
       "    }\n",
       "\n",
       "    .dataframe thead th {\n",
       "        text-align: right;\n",
       "    }\n",
       "</style>\n",
       "<table border=\"1\" class=\"dataframe\">\n",
       "  <thead>\n",
       "    <tr style=\"text-align: right;\">\n",
       "      <th></th>\n",
       "      <th>valor_da_conta</th>\n",
       "      <th>gorjeta</th>\n",
       "      <th>sobremesa</th>\n",
       "      <th>dia_da_semana</th>\n",
       "      <th>hora_do_dia</th>\n",
       "      <th>total_de_pessoas</th>\n",
       "    </tr>\n",
       "  </thead>\n",
       "  <tbody>\n",
       "    <tr>\n",
       "      <th>0</th>\n",
       "      <td>16.99</td>\n",
       "      <td>1.01</td>\n",
       "      <td>Não</td>\n",
       "      <td>Domingo</td>\n",
       "      <td>Dinner</td>\n",
       "      <td>2</td>\n",
       "    </tr>\n",
       "  </tbody>\n",
       "</table>\n",
       "</div>"
      ],
      "text/plain": [
       "   valor_da_conta  gorjeta sobremesa dia_da_semana hora_do_dia  \\\n",
       "0           16.99     1.01       Não       Domingo      Dinner   \n",
       "\n",
       "   total_de_pessoas  \n",
       "0                 2  "
      ]
     },
     "execution_count": 22,
     "metadata": {},
     "output_type": "execute_result"
    }
   ],
   "source": [
    "gorjetas.head(1)"
   ]
  },
  {
   "cell_type": "code",
   "execution_count": 23,
   "metadata": {
    "id": "7FC1OhtoQy2H"
   },
   "outputs": [
    {
     "data": {
      "text/plain": [
       "array(['Dinner', 'Lunch'], dtype=object)"
      ]
     },
     "execution_count": 23,
     "metadata": {},
     "output_type": "execute_result"
    }
   ],
   "source": [
    "gorjetas.hora_do_dia.unique()"
   ]
  },
  {
   "cell_type": "code",
   "execution_count": 24,
   "metadata": {
    "id": "8IGqhmFcQ3nz"
   },
   "outputs": [],
   "source": [
    "hora = {\n",
    "    'Dinner' : 'Jantar',\n",
    "    'Lunch' : 'Almoço'\n",
    "}"
   ]
  },
  {
   "cell_type": "code",
   "execution_count": 25,
   "metadata": {
    "id": "76DLpyQrRFO7"
   },
   "outputs": [],
   "source": [
    "gorjetas.hora_do_dia = gorjetas.hora_do_dia.map(hora)"
   ]
  },
  {
   "cell_type": "code",
   "execution_count": 26,
   "metadata": {
    "id": "5X1PoovrRLkG"
   },
   "outputs": [
    {
     "data": {
      "text/html": [
       "<div>\n",
       "<style scoped>\n",
       "    .dataframe tbody tr th:only-of-type {\n",
       "        vertical-align: middle;\n",
       "    }\n",
       "\n",
       "    .dataframe tbody tr th {\n",
       "        vertical-align: top;\n",
       "    }\n",
       "\n",
       "    .dataframe thead th {\n",
       "        text-align: right;\n",
       "    }\n",
       "</style>\n",
       "<table border=\"1\" class=\"dataframe\">\n",
       "  <thead>\n",
       "    <tr style=\"text-align: right;\">\n",
       "      <th></th>\n",
       "      <th>valor_da_conta</th>\n",
       "      <th>gorjeta</th>\n",
       "      <th>sobremesa</th>\n",
       "      <th>dia_da_semana</th>\n",
       "      <th>hora_do_dia</th>\n",
       "      <th>total_de_pessoas</th>\n",
       "    </tr>\n",
       "  </thead>\n",
       "  <tbody>\n",
       "    <tr>\n",
       "      <th>0</th>\n",
       "      <td>16.99</td>\n",
       "      <td>1.01</td>\n",
       "      <td>Não</td>\n",
       "      <td>Domingo</td>\n",
       "      <td>Jantar</td>\n",
       "      <td>2</td>\n",
       "    </tr>\n",
       "  </tbody>\n",
       "</table>\n",
       "</div>"
      ],
      "text/plain": [
       "   valor_da_conta  gorjeta sobremesa dia_da_semana hora_do_dia  \\\n",
       "0           16.99     1.01       Não       Domingo      Jantar   \n",
       "\n",
       "   total_de_pessoas  \n",
       "0                 2  "
      ]
     },
     "execution_count": 26,
     "metadata": {},
     "output_type": "execute_result"
    }
   ],
   "source": [
    "gorjetas.head(1)"
   ]
  },
  {
   "cell_type": "raw",
   "metadata": {},
   "source": []
  },
  {
   "cell_type": "code",
   "execution_count": null,
   "metadata": {},
   "outputs": [],
   "source": []
  },
  {
   "cell_type": "markdown",
   "metadata": {
    "id": "bN_C0FhNlsMD"
   },
   "source": [
    "# Importando o Seaborn"
   ]
  },
  {
   "cell_type": "code",
   "execution_count": 27,
   "metadata": {
    "id": "M6PzT5mulzot"
   },
   "outputs": [],
   "source": [
    "import seaborn as sns"
   ]
  },
  {
   "cell_type": "markdown",
   "metadata": {
    "id": "Orzl5o7fmEOg"
   },
   "source": [
    "# Análise 1 - Valor da conta e gorjeta"
   ]
  },
  {
   "cell_type": "code",
   "execution_count": 28,
   "metadata": {
    "id": "Oc-rBLcKmA4_"
   },
   "outputs": [
    {
     "data": {
      "text/plain": [
       "Index(['valor_da_conta', 'gorjeta', 'sobremesa', 'dia_da_semana',\n",
       "       'hora_do_dia', 'total_de_pessoas'],\n",
       "      dtype='object')"
      ]
     },
     "execution_count": 28,
     "metadata": {},
     "output_type": "execute_result"
    }
   ],
   "source": [
    "gorjetas.columns"
   ]
  },
  {
   "cell_type": "code",
   "execution_count": 29,
   "metadata": {
    "id": "a93bJMsZmPFY"
   },
   "outputs": [
    {
     "data": {
      "image/png": "[encoded data removed]",
      "text/plain": [
       "<Figure size 432x288 with 1 Axes>"
      ]
     },
     "metadata": {
      "needs_background": "light"
     },
     "output_type": "display_data"
    }
   ],
   "source": [
    "valor_gorjeta = sns.scatterplot(x='valor_da_conta', y='gorjeta', data=gorjetas)"
   ]
  },
  {
   "cell_type": "markdown",
   "metadata": {
    "id": "7efs4v06mvjY"
   },
   "source": [
    "**Visualmente, o valor da gorjeta aumenta conforme aumenta o valor da conta**"
   ]
  },
  {
   "cell_type": "code",
   "execution_count": 30,
   "metadata": {
    "id": "c7uLIovamfEN"
   },
   "outputs": [
    {
     "name": "stdout",
     "output_type": "stream",
     "text": [
      "A base de dados contém 244 registros \n",
      "\n",
      "Registros não nulos\n"
     ]
    },
    {
     "data": {
      "text/plain": [
       "valor_da_conta      244\n",
       "gorjeta             244\n",
       "sobremesa           244\n",
       "dia_da_semana       244\n",
       "hora_do_dia         244\n",
       "total_de_pessoas    244\n",
       "dtype: int64"
      ]
     },
     "execution_count": 30,
     "metadata": {},
     "output_type": "execute_result"
    }
   ],
   "source": [
    "print('A base de dados contém {} registros \\n'.format(gorjetas.shape[0]))\n",
    "print('Registros não nulos')\n",
    "gorjetas.count()"
   ]
  },
  {
   "cell_type": "markdown",
   "metadata": {
    "id": "jrkSV05vA_L_"
   },
   "source": [
    "# Análise 2 - Sobremesa"
   ]
  },
  {
   "cell_type": "code",
   "execution_count": null,
   "metadata": {
    "id": "1xQifgku_lca"
   },
   "outputs": [],
   "source": [
    "gorjetas.head()"
   ]
  },
  {
   "cell_type": "code",
   "execution_count": null,
   "metadata": {
    "id": "PlcER8xxBCS9"
   },
   "outputs": [],
   "source": [
    "gorjetas[gorjetas.sobremesa =='Sim'].describe()"
   ]
  },
  {
   "cell_type": "code",
   "execution_count": null,
   "metadata": {
    "id": "-jIKUpk4BTSg"
   },
   "outputs": [],
   "source": [
    "gorjetas[gorjetas.sobremesa =='Não'].describe()"
   ]
  },
  {
   "cell_type": "code",
   "execution_count": null,
   "metadata": {
    "id": "7n766h7rNR0z"
   },
   "outputs": [],
   "source": [
    "sns.catplot(x='sobremesa', y='gorjeta',data=gorjetas)"
   ]
  },
  {
   "cell_type": "code",
   "execution_count": null,
   "metadata": {
    "id": "qrh_cDK0YDN6"
   },
   "outputs": [],
   "source": [
    "sns.relplot(x='valor_da_conta', y='gorjeta', hue='sobremesa', data=gorjetas)"
   ]
  },
  {
   "cell_type": "code",
   "execution_count": null,
   "metadata": {
    "id": "RQlOJaevYi8s"
   },
   "outputs": [],
   "source": [
    "sns.relplot(x='valor_da_conta', y='gorjeta', hue='sobremesa', col='sobremesa', data=gorjetas)"
   ]
  },
  {
   "cell_type": "code",
   "execution_count": null,
   "metadata": {
    "id": "XMOC63aVY8bA"
   },
   "outputs": [],
   "source": [
    "sns.lmplot(x='valor_da_conta', y='gorjeta', col='sobremesa', hue='sobremesa', data=gorjetas)"
   ]
  },
  {
   "cell_type": "markdown",
   "metadata": {
    "id": "jv6OHlI4Zg4n"
   },
   "source": [
    "**Visualmente, existe uma diferença no valor da gorjeta daqueles que pediram sobremesa e não pediram sobremesa**"
   ]
  },
  {
   "cell_type": "markdown",
   "metadata": {
    "id": "Fdzi49n3AkX4"
   },
   "source": [
    "## Teste de hipótese"
   ]
  },
  {
   "cell_type": "markdown",
   "metadata": {
    "id": "K5BNNcS7An9L"
   },
   "source": [
    "**H<sup>null</sup>**\n",
    "\n",
    "> **A distribuição da gorjeta é a mesma nos dois grupos**\n",
    "\n",
    "**H<sup>alt</sup>**\n",
    "\n",
    "> **A distribuição da gorjeta não é a mesma nos dois grupos**"
   ]
  },
  {
   "cell_type": "code",
   "execution_count": null,
   "metadata": {
    "id": "KT1YHGTXAnYp"
   },
   "outputs": [],
   "source": [
    "from scipy.stats import ranksums"
   ]
  },
  {
   "cell_type": "code",
   "execution_count": null,
   "metadata": {
    "id": "2QKQWCW9BChU"
   },
   "outputs": [],
   "source": [
    "sobremesa = gorjetas.query(\"sobremesa == 'Sim'\").gorjeta"
   ]
  },
  {
   "cell_type": "code",
   "execution_count": null,
   "metadata": {
    "id": "O_WWneJ-BQe3"
   },
   "outputs": [],
   "source": [
    "sem_sobremesa = gorjetas.query(\"sobremesa == 'Não'\").gorjeta"
   ]
  },
  {
   "cell_type": "code",
   "execution_count": null,
   "metadata": {
    "id": "KK1eRdPnBcsQ"
   },
   "outputs": [],
   "source": [
    "r = ranksums(sobremesa, sem_sobremesa)"
   ]
  },
  {
   "cell_type": "code",
   "execution_count": null,
   "metadata": {
    "id": "jqt3ZkDcBlR9"
   },
   "outputs": [],
   "source": [
    "print('O valor do p-value é {}'.format(r.pvalue)) # Rejeita H_null se p-value <= nivel_significancia, ex.: 5% -> 0.05"
   ]
  },
  {
   "cell_type": "markdown",
   "metadata": {
    "id": "2ONrq-FICBNU"
   },
   "source": [
    "**H<sup>null</sup>**\n",
    "\n",
    "> **A distribuição da gorjeta é a mesma nos dois grupos**"
   ]
  },
  {
   "cell_type": "markdown",
   "metadata": {
    "id": "mWxSpueiRqLC"
   },
   "source": [
    "# Análise 3 - Dia da semana"
   ]
  },
  {
   "cell_type": "code",
   "execution_count": null,
   "metadata": {
    "id": "bUZ7BV1hRbi4"
   },
   "outputs": [],
   "source": [
    "gorjetas.head()"
   ]
  },
  {
   "cell_type": "code",
   "execution_count": null,
   "metadata": {
    "id": "P96GUhZ4Rkim"
   },
   "outputs": [],
   "source": [
    "gorjetas.dia_da_semana.unique()"
   ]
  },
  {
   "cell_type": "code",
   "execution_count": null,
   "metadata": {
    "id": "HlkkT2kbR9w5"
   },
   "outputs": [],
   "source": [
    "sns.catplot(x='dia_da_semana',y='valor_da_conta', data=gorjetas)"
   ]
  },
  {
   "cell_type": "code",
   "execution_count": null,
   "metadata": {
    "id": "efcVxWMPSR76"
   },
   "outputs": [],
   "source": [
    "sns.relplot(x='valor_da_conta', y='gorjeta', hue='dia_da_semana', data=gorjetas)"
   ]
  },
  {
   "cell_type": "code",
   "execution_count": null,
   "metadata": {
    "id": "jmExpmbVSwns"
   },
   "outputs": [],
   "source": [
    "sns.relplot(x='valor_da_conta', y='gorjeta', hue='dia_da_semana', col='dia_da_semana', data=gorjetas)"
   ]
  },
  {
   "cell_type": "code",
   "execution_count": null,
   "metadata": {
    "id": "kiBZcRmMW5JT"
   },
   "outputs": [],
   "source": [
    "media_geral_gorjetas = gorjetas.gorjeta.mean()"
   ]
  },
  {
   "cell_type": "code",
   "execution_count": null,
   "metadata": {
    "id": "8iqTD1XnXFFl"
   },
   "outputs": [],
   "source": [
    "print('A média geral das gorjetas é de {}'.format(media_geral_gorjetas))"
   ]
  },
  {
   "cell_type": "code",
   "execution_count": null,
   "metadata": {
    "id": "cKnwkNP-XQS_"
   },
   "outputs": [],
   "source": [
    "gorjetas.groupby(['dia_da_semana']).mean()[['valor_da_conta', 'gorjeta']]"
   ]
  },
  {
   "cell_type": "code",
   "execution_count": null,
   "metadata": {
    "id": "DRD5NeY4XdXP"
   },
   "outputs": [],
   "source": [
    "print('Frequência dos dias')\n",
    "gorjetas.dia_da_semana.value_counts()"
   ]
  },
  {
   "cell_type": "markdown",
   "metadata": {
    "id": "Y-Bn2TtSbpVu"
   },
   "source": [
    "## Teste de hipótese"
   ]
  },
  {
   "cell_type": "markdown",
   "metadata": {
    "id": "3RS5ai3hbtIN"
   },
   "source": [
    "**H<sup>null</sup>**\n",
    "\n",
    "> **A distribuição do valor da conta é igual no sábado e no domingo**\n",
    "\n",
    "**H<sup>alt</sup>**\n",
    "\n",
    "> **A distribuição do valor da conta não é igual no sábado e no domingo**"
   ]
  },
  {
   "cell_type": "code",
   "execution_count": null,
   "metadata": {
    "id": "7J2cak_gYDRg"
   },
   "outputs": [],
   "source": [
    "valor_conta_domingo = gorjetas.query(\"dia_da_semana == 'Domingo'\").valor_da_conta"
   ]
  },
  {
   "cell_type": "code",
   "execution_count": null,
   "metadata": {
    "id": "0bwSVSI8cPTh"
   },
   "outputs": [],
   "source": [
    "valor_conta_sabado = gorjetas.query(\"dia_da_semana == 'Sábado'\").valor_da_conta"
   ]
  },
  {
   "cell_type": "code",
   "execution_count": null,
   "metadata": {
    "id": "Yu5YQIu5cYiW"
   },
   "outputs": [],
   "source": [
    "r2 = ranksums(valor_conta_domingo, valor_conta_sabado)\n",
    "print('O valor do p-value é {}'.format(r2.pvalue))"
   ]
  },
  {
   "cell_type": "markdown",
   "metadata": {
    "id": "rDxg8RDycpg8"
   },
   "source": [
    "**H<sup>null</sup>**\n",
    "\n",
    "> **A distribuição do valor da conta é igual no sábado e no domingo**"
   ]
  },
  {
   "cell_type": "code",
   "execution_count": null,
   "metadata": {
    "id": "GBIg2w5vGimc"
   },
   "outputs": [],
   "source": [
    "#Comparar sábado ou domingo com quinta e/ou sexta, tanto pelo valor da conta\n",
    "#quanto pela gorjeta"
   ]
  },
  {
   "cell_type": "markdown",
   "metadata": {
    "id": "207u4xyxgBw4"
   },
   "source": [
    "# Análise 4 - Hora do dia"
   ]
  },
  {
   "cell_type": "code",
   "execution_count": null,
   "metadata": {
    "id": "4IIt7A4acp8L"
   },
   "outputs": [],
   "source": [
    "gorjetas.head()"
   ]
  },
  {
   "cell_type": "code",
   "execution_count": null,
   "metadata": {
    "id": "UdkcFgngf32T"
   },
   "outputs": [],
   "source": [
    "gorjetas.hora_do_dia.unique()"
   ]
  },
  {
   "cell_type": "code",
   "execution_count": null,
   "metadata": {
    "id": "fyobk40Ef-PM"
   },
   "outputs": [],
   "source": [
    "sns.catplot(x='hora_do_dia', y='valor_da_conta', data=gorjetas)"
   ]
  },
  {
   "cell_type": "code",
   "execution_count": null,
   "metadata": {
    "id": "2jmB9HSLgV6L"
   },
   "outputs": [],
   "source": [
    "sns.catplot(x='hora_do_dia', y='valor_da_conta', kind='swarm',data=gorjetas)"
   ]
  },
  {
   "cell_type": "code",
   "execution_count": null,
   "metadata": {
    "id": "7_IhLFLpgnT8"
   },
   "outputs": [],
   "source": [
    "sns.violinplot(x='hora_do_dia', y='valor_da_conta', data=gorjetas)"
   ]
  },
  {
   "cell_type": "code",
   "execution_count": null,
   "metadata": {
    "id": "S_15AoEpg0ba"
   },
   "outputs": [],
   "source": [
    "sns.boxplot(x='hora_do_dia', y='valor_da_conta', data=gorjetas)"
   ]
  },
  {
   "cell_type": "code",
   "execution_count": null,
   "metadata": {
    "id": "tyGLXBnHhC9s"
   },
   "outputs": [],
   "source": [
    "almoco = gorjetas.query(\"hora_do_dia == 'Almoço'\").valor_da_conta"
   ]
  },
  {
   "cell_type": "code",
   "execution_count": null,
   "metadata": {
    "id": "0Zbd2QO3hhrm"
   },
   "outputs": [],
   "source": [
    "sns.distplot(almoco)"
   ]
  },
  {
   "cell_type": "code",
   "execution_count": null,
   "metadata": {
    "id": "eyVeE51ihmAH"
   },
   "outputs": [],
   "source": [
    "sns.distplot(almoco, kde=False)"
   ]
  },
  {
   "cell_type": "code",
   "execution_count": null,
   "metadata": {
    "id": "1nY4cQcdhtaD"
   },
   "outputs": [],
   "source": [
    "jantar = gorjetas.query(\"hora_do_dia == 'Jantar'\").valor_da_conta"
   ]
  },
  {
   "cell_type": "code",
   "execution_count": null,
   "metadata": {
    "id": "CS-4HfnFh0c9"
   },
   "outputs": [],
   "source": [
    "sns.distplot(jantar)"
   ]
  },
  {
   "cell_type": "code",
   "execution_count": null,
   "metadata": {
    "id": "UejxnwJUh2x3"
   },
   "outputs": [],
   "source": [
    "sns.distplot(jantar, kde=False)"
   ]
  },
  {
   "cell_type": "code",
   "execution_count": null,
   "metadata": {
    "id": "uILizqKBtPpB"
   },
   "outputs": [],
   "source": [
    "gorjetas.groupby(['hora_do_dia']).mean()[['valor_da_conta', 'gorjeta']]"
   ]
  },
  {
   "cell_type": "markdown",
   "metadata": {
    "id": "fY-aTlm_ttDL"
   },
   "source": [
    "## Teste de hipótese 1"
   ]
  },
  {
   "cell_type": "markdown",
   "metadata": {
    "id": "-YQAwMNdtz9I"
   },
   "source": [
    "**H<sup>null</sup>**\n",
    "\n",
    "> **A distribuição do valor da conta é igual no jantar e no almoço**\n",
    "\n",
    "**H<sup>alt</sup>**\n",
    "\n",
    "> **A distribuição do valor da conta não é igual no jantar e no almoço**"
   ]
  },
  {
   "cell_type": "code",
   "execution_count": null,
   "metadata": {
    "id": "bW2Yiz7ptV6S"
   },
   "outputs": [],
   "source": [
    "r2 = ranksums(jantar, almoco)"
   ]
  },
  {
   "cell_type": "code",
   "execution_count": null,
   "metadata": {
    "id": "ft6tGVMAuBuW"
   },
   "outputs": [],
   "source": [
    "print('O valor do p-value é de {}'.format(r2.pvalue))"
   ]
  },
  {
   "cell_type": "markdown",
   "metadata": {
    "id": "L_Egd-MXuS_2"
   },
   "source": [
    "**H<sup>alt</sup>**\n",
    "\n",
    "> **A distribuição do valor da conta não é igual no jantar e no almoço**"
   ]
  },
  {
   "cell_type": "markdown",
   "metadata": {
    "id": "HV5Mh0_Tx8Gf"
   },
   "source": [
    "## Teste de hipótese 2"
   ]
  },
  {
   "cell_type": "markdown",
   "metadata": {
    "id": "YmHj5Ob9u58z"
   },
   "source": [
    "**H<sup>null</sup>**\n",
    "\n",
    "> **A distribuição da gorjeta é igual no jantar e no almoço**\n",
    "\n",
    "**H<sup>alt</sup>**\n",
    "\n",
    "> **A distribuição da gorjeta não é igual no jantar e no almoço**"
   ]
  },
  {
   "cell_type": "code",
   "execution_count": null,
   "metadata": {
    "id": "5dCxLfdVuQE9"
   },
   "outputs": [],
   "source": [
    "gorj_almoco = gorjetas.query(\"hora_do_dia == 'Almoço'\").gorjeta"
   ]
  },
  {
   "cell_type": "code",
   "execution_count": null,
   "metadata": {
    "id": "I0TxeaKtuiiu"
   },
   "outputs": [],
   "source": [
    "gorj_jantar = gorjetas.query(\"hora_do_dia == 'Jantar'\").gorjeta"
   ]
  },
  {
   "cell_type": "code",
   "execution_count": null,
   "metadata": {
    "id": "EoW8Cr3GusHA"
   },
   "outputs": [],
   "source": [
    "r3 = ranksums(gorj_almoco, gorj_jantar)"
   ]
  },
  {
   "cell_type": "code",
   "execution_count": null,
   "metadata": {
    "id": "zphCu8fgvSfr"
   },
   "outputs": [],
   "source": [
    "print('O valor do p-value é de {}'.format(r3.pvalue))"
   ]
  },
  {
   "cell_type": "markdown",
   "metadata": {
    "id": "tis7DoM1vOtI"
   },
   "source": [
    "**H<sup>alt</sup>**\n",
    "\n",
    "> **A distribuição da gorjeta não é igual no jantar e no almoço**"
   ]
  },
  {
   "cell_type": "markdown",
   "metadata": {
    "id": "VHsfrO0ELaFv"
   },
   "source": [
    "# Análise 5 - Total de pessoas (Exercícios, gráficos e testes de hipóteses)"
   ]
  },
  {
   "cell_type": "code",
   "execution_count": null,
   "metadata": {
    "id": "Ul6LzIFXLkBs"
   },
   "outputs": [],
   "source": []
  }
 ],
 "metadata": {
  "colab": {
   "collapsed_sections": [
    "0lLSwDuMBS9q",
    "tiDQoARqOrz7",
    "bN_C0FhNlsMD",
    "Orzl5o7fmEOg",
    "jrkSV05vA_L_",
    "Fdzi49n3AkX4",
    "mWxSpueiRqLC",
    "Y-Bn2TtSbpVu",
    "207u4xyxgBw4",
    "fY-aTlm_ttDL",
    "HV5Mh0_Tx8Gf",
    "VHsfrO0ELaFv"
   ],
   "provenance": []
  },
  "kernelspec": {
   "display_name": "Python 3",
   "language": "python",
   "name": "python3"
  },
  "language_info": {
   "codemirror_mode": {
    "name": "ipython",
    "version": 3
   },
   "file_extension": ".py",
   "mimetype": "text/x-python",
   "name": "python",
   "nbconvert_exporter": "python",
   "pygments_lexer": "ipython3",
   "version": "3.7.1"
  }
 },
 "nbformat": 4,
 "nbformat_minor": 1
}
