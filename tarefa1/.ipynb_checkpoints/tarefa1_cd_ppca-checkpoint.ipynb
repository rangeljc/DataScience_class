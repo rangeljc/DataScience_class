{
 "cells": [
  {
   "cell_type": "markdown",
   "metadata": {
    "id": "PMSF31op5whN"
   },
   "source": [
    "# **Questão 1**"
   ]
  },
  {
   "cell_type": "code",
   "execution_count": null,
   "metadata": {
    "id": "_2jQfM6l5rZE"
   },
   "outputs": [],
   "source": [
    "import pandas as pd\n",
    "\n",
    "dados = {\n",
    "    'Nome': ['Jetta', 'Passat', 'Crossfox', 'DS5', 'Fusca'], \n",
    "    'Motor': ['Motor 4.0 Turbo', 'Motor Diesel', 'Motor Diesel V8', 'Motor 2.0', 'Motor 1.6'],\n",
    "    'Ano': [2019, 2003, 1991, 2019, 1990],\n",
    "    'Quilometragem': [0.0, 5712.0, 37123.0, 0.0, 120000.0],\n",
    "    'Zero_km': [True, False, False, True, False],\n",
    "    'Valor': [88000.0, 106000.0, 72000.0, 89000.0, 32000.0]\n",
    "}\n",
    "\n",
    "dataset = pd.DataFrame(dados)"
   ]
  },
  {
   "cell_type": "markdown",
   "metadata": {
    "id": "HLIypyplqpi4"
   },
   "source": [
    "**Considere o código da 1ª questão, selecione somente as informações de Nome, Ano, Quilometragem e Valor dos carros Passat e Crossfox.**"
   ]
  },
  {
   "cell_type": "code",
   "execution_count": null,
   "metadata": {
    "id": "IdYV5x6h5zZ7"
   },
   "outputs": [],
   "source": [
    "dataset.head()"
   ]
  },
  {
   "cell_type": "code",
   "execution_count": null,
   "metadata": {},
   "outputs": [],
   "source": [
    "sel = dataset['Nome'].isin(['Passat', 'Crossfox'])\n",
    "q1 = dataset.drop(['Motor', 'Zero_km'], axis = 1)[sel]\n",
    "q1"
   ]
  },
  {
   "cell_type": "markdown",
   "metadata": {
    "id": "rG4VmUnI6ZVB"
   },
   "source": [
    "# **Questão 2**"
   ]
  },
  {
   "cell_type": "code",
   "execution_count": null,
   "metadata": {
    "id": "kphsl67h6bmX"
   },
   "outputs": [],
   "source": [
    "import pandas as pd\n",
    "#(Note os nomes dos veiculos sao utilizados como indice do DataFrame)\n",
    "dados = {\n",
    "    'Motor': ['Motor 4.0 Turbo', 'Motor Diesel', 'Motor Diesel V8', 'Motor 2.0', 'Motor 1.6'],\n",
    "    'Ano': [2019, 2003, 1991, 2019, 1990],\n",
    "    'Quilometragem': [0.0, 5712.0, 37123.0, 0.0, 120000.0],\n",
    "    'Zero_km': [True, False, False, True, False],\n",
    "    'Valor': [88000.0, 106000.0, 72000.0, 89000.0, 32000.0]\n",
    "}\n",
    "\n",
    "dataset = pd.DataFrame(dados, index = ['Jetta', 'Passat', 'Crossfox', 'DS5', 'Fusca'])"
   ]
  },
  {
   "cell_type": "markdown",
   "metadata": {
    "id": "O8IEj0ihqy4k"
   },
   "source": [
    "**Considere o código da 2ª questão, utilizando as funções iloc e loc, selecione somente as informações de Motor e Valor dos carros Passat e DS5. (Note que os nomes dos veículos são utilizados como índice do DataFrame).**"
   ]
  },
  {
   "cell_type": "code",
   "execution_count": null,
   "metadata": {},
   "outputs": [],
   "source": [
    "dataset.head()"
   ]
  },
  {
   "cell_type": "code",
   "execution_count": null,
   "metadata": {
    "id": "cYj_xfFo6cC3"
   },
   "outputs": [],
   "source": [
    "# com .iloc\n",
    "q2 = dataset.iloc[[1,3], [0,-1]]\n",
    "q2"
   ]
  },
  {
   "cell_type": "code",
   "execution_count": null,
   "metadata": {
    "id": "Ylyha7Vv6cYr"
   },
   "outputs": [],
   "source": [
    "# com .loc\n",
    "q2 = dataset.loc[['Passat','DS5'], ['Motor','Valor']]\n",
    "q2"
   ]
  },
  {
   "cell_type": "markdown",
   "metadata": {
    "id": "rywu7g-d7Nq7"
   },
   "source": [
    "# **Questão 3**"
   ]
  },
  {
   "cell_type": "code",
   "execution_count": null,
   "metadata": {
    "id": "dIabyVPm7QBU"
   },
   "outputs": [],
   "source": [
    "import pandas as pd\n",
    "\n",
    "dados = {\n",
    "    'Motor': ['Motor 4.0 Turbo', 'Motor Diesel', 'Motor Diesel V8', 'Motor Diesel', 'Motor 1.6'],\n",
    "    'Ano': [2019, 2003, 1991, 2019, 1990],\n",
    "    'Quilometragem': [0.0, 5712.0, 37123.0, 0.0, 120000.0],\n",
    "    'Zero_km': [True, False, False, True, False],\n",
    "    'Valor': [88000.0, 106000.0, 72000.0, 89000.0, 32000.0]\n",
    "}\n",
    "\n",
    "dataset = pd.DataFrame(dados, index = ['Jetta', 'Passat', 'Crossfox', 'DS5', 'Fusca'])"
   ]
  },
  {
   "cell_type": "markdown",
   "metadata": {
    "id": "tVM1v8U7rCrC"
   },
   "source": [
    "**Considere o código da 3ª questão, utilizando a função query ou outras formas de seleção, selecione de pelo menos duas formas todas as informações de carros que possuam \"Motor Diesel\" ou que sejam zero quilômetro.**"
   ]
  },
  {
   "cell_type": "code",
   "execution_count": null,
   "metadata": {},
   "outputs": [],
   "source": [
    "dataset.head()"
   ]
  },
  {
   "cell_type": "code",
   "execution_count": null,
   "metadata": {
    "id": "-MWvqDo_7VKp"
   },
   "outputs": [],
   "source": [
    "# forma 1\n",
    "sel1 = dataset.query('Motor == \"Motor Diesel\" or Motor == \"Motor Diesel V8\" or Quilometragem == 0.0')\n",
    "sel1"
   ]
  },
  {
   "cell_type": "code",
   "execution_count": null,
   "metadata": {
    "id": "Nj9Px1_K7VkY"
   },
   "outputs": [],
   "source": [
    "# forma 2\n",
    "sel2 = (dataset['Motor'] == 'Motor Diesel') | (dataset['Motor'] == 'Motor Diesel V8') | (dataset['Quilometragem'] == 0.0)\n",
    "dataset[sel2]"
   ]
  },
  {
   "cell_type": "code",
   "execution_count": null,
   "metadata": {
    "id": "uMuub5dE7V09"
   },
   "outputs": [],
   "source": [
    "# forma 3\n",
    "sel3 = (dataset['Motor'].str.contains('Motor Diesel')) | (dataset['Quilometragem'] == 0.0)\n",
    "dataset[sel3]"
   ]
  },
  {
   "cell_type": "markdown",
   "metadata": {
    "id": "sWao5erGrJll"
   },
   "source": [
    "# **Questão 4**"
   ]
  },
  {
   "cell_type": "markdown",
   "metadata": {
    "id": "Z3oYQ7gfrQnE"
   },
   "source": [
    "**Considerando a base de dados “db.csv”, crie/exporte uma nova base de dados que contenha apenas carros até o ano de 2017 com quilometragem inferior a 50.000 km.**"
   ]
  },
  {
   "cell_type": "code",
   "execution_count": null,
   "metadata": {
    "id": "qkEzmIG4rOsz"
   },
   "outputs": [],
   "source": [
    "import pandas as pd\n",
    "\n",
    "dados = pd.read_csv('db.csv', sep=';')\n",
    "dados.head(3)"
   ]
  },
  {
   "cell_type": "code",
   "execution_count": null,
   "metadata": {
    "id": "AX14nEZbrK3r"
   },
   "outputs": [],
   "source": [
    "#q4 = (dados['Ano'] <= 2017) & (dados['Quilometragem'] <= 50000)\n",
    "#dados[q4].reset_index(drop = True).to_csv('q4db.csv', sep = ';')\n",
    "dados.query('Ano <= 2017 and Quilometragem <= 50000').reset_index(drop = True).to_csv('q4db.csv', sep = ';')"
   ]
  },
  {
   "cell_type": "markdown",
   "metadata": {
    "id": "TMrC9wuoD6Dv"
   },
   "source": [
    "# **Questão 5 (Desafio)**"
   ]
  },
  {
   "cell_type": "markdown",
   "metadata": {
    "id": "2RcT7cnV1Ce2"
   },
   "source": [
    "**Considerando a base de dados “db.csv”, crie/exporte uma nova base de dados que contenha apenas carros que possuem o acessório \"Rodas de liga\".**"
   ]
  },
  {
   "cell_type": "code",
   "execution_count": null,
   "metadata": {
    "id": "uy41uIHl1C5B"
   },
   "outputs": [],
   "source": [
    "import pandas as pd\n",
    "\n",
    "dados = pd.read_csv('db.csv', sep=';')\n",
    "dados.head(3)"
   ]
  },
  {
   "cell_type": "markdown",
   "metadata": {
    "id": "pg-EQnKaEZDn"
   },
   "source": [
    "**Pré-processamento**"
   ]
  },
  {
   "cell_type": "code",
   "execution_count": null,
   "metadata": {
    "id": "SP0s42_ZEYnq"
   },
   "outputs": [],
   "source": [
    "dados['Acessórios'][0]"
   ]
  },
  {
   "cell_type": "code",
   "execution_count": null,
   "metadata": {
    "id": "7o_cHIrDWU_Q"
   },
   "outputs": [],
   "source": [
    "type(dados['Acessórios'][0])"
   ]
  },
  {
   "cell_type": "code",
   "execution_count": null,
   "metadata": {
    "id": "WMAqFbxWWVNU"
   },
   "outputs": [],
   "source": [
    "ex_str = dados['Acessórios'][0]\n",
    "ex_str"
   ]
  },
  {
   "cell_type": "code",
   "execution_count": null,
   "metadata": {
    "id": "YHzznq4iWVgl"
   },
   "outputs": [],
   "source": [
    "#.strip - remove os caracteres, informados como parametro (padrão é espaço em branco), do inicio e final da string\n",
    "#.replace - localiza e substitui o primeiro argumento, pelo segundo.\n",
    "#.split - divide a string em várias, por meio do parametro informado.\n",
    "f = ex_str.strip(\"[]\").replace(\"'\",\"\").split(\", \")\n",
    "f"
   ]
  },
  {
   "cell_type": "code",
   "execution_count": null,
   "metadata": {
    "id": "qP4r5KpbWcWk"
   },
   "outputs": [],
   "source": [
    "f[0]"
   ]
  },
  {
   "cell_type": "code",
   "execution_count": null,
   "metadata": {
    "id": "SFw3r1P0We7g"
   },
   "outputs": [],
   "source": [
    "dados['Acessórios'] = dados['Acessórios'].str.strip(\"[]\").str.replace(\"'\",\"\").str.split(\", \")"
   ]
  },
  {
   "cell_type": "code",
   "execution_count": null,
   "metadata": {
    "id": "RP-HaiBcWjpE"
   },
   "outputs": [],
   "source": [
    "dados.head(3)"
   ]
  },
  {
   "cell_type": "markdown",
   "metadata": {
    "id": "YFj47ZtwEb5s"
   },
   "source": [
    "**Resolução**"
   ]
  },
  {
   "cell_type": "code",
   "execution_count": null,
   "metadata": {
    "id": "0xFxmlvPEeEU"
   },
   "outputs": [],
   "source": [
    "#Dicas: (1) usar o método apply da série de acessórios colocando uma função que\n",
    "#verifique se 'Rodas de liga' está em cada registro da série\n",
    "#ou (2) Usar um laço for para buscar 'Rodas de liga' em cada registro da série\n",
    "#acessórios adicionando a uma série do pandas -> pd.Series()\n",
    "q5 = dados['Acessórios'].apply(lambda x: True if 'Rodas de liga' in x else False)\n",
    "dados[q5].reset_index(drop = True).to_csv('q5db.csv', sep = ';')"
   ]
  },
  {
   "cell_type": "code",
   "execution_count": null,
   "metadata": {
    "id": "AO1DBBDvZv8q"
   },
   "outputs": [],
   "source": []
  },
  {
   "cell_type": "markdown",
   "metadata": {
    "id": "X0rVY3lJZyaF"
   },
   "source": [
    "# **Questão 6**"
   ]
  },
  {
   "cell_type": "code",
   "execution_count": null,
   "metadata": {
    "id": "IcCTos8zZyaF"
   },
   "outputs": [],
   "source": [
    "import pandas as pd\n",
    "data = [['Fulano', 12, 7.0, True],\n",
    "        ['Sicrano', 15, 3.5, False], \n",
    "        ['Beltrano', 18, 9.3, True]]\n",
    "dados = pd.DataFrame(data, \n",
    "        columns = ['Aluno', 'Idade', 'Nota', 'Aprovado'])\n",
    "dados"
   ]
  },
  {
   "cell_type": "markdown",
   "metadata": {
    "id": "hzpH1JvLZ2Qw"
   },
   "source": [
    "**Considerando o código da 6ª questão, crie um novo DataFrame que apresente uma coluna com as variáveis e outra com os tipos de dados. A coluna de variáveis pode ser o índice do novo DataFrame.**"
   ]
  },
  {
   "cell_type": "code",
   "execution_count": null,
   "metadata": {
    "id": "uTd3nA-ppqz-"
   },
   "outputs": [],
   "source": [
    "q6 = pd.DataFrame(dados.dtypes, columns = ['Tipo de Dados'])\n",
    "q6.columns.name = 'Indice'\n",
    "q6"
   ]
  },
  {
   "cell_type": "markdown",
   "metadata": {
    "id": "yC-pgzXUaE9P"
   },
   "source": [
    "# **Questão 7**"
   ]
  },
  {
   "cell_type": "code",
   "execution_count": null,
   "metadata": {
    "id": "b_xgJJJzaE9Q"
   },
   "outputs": [],
   "source": [
    "import pandas as pd\n",
    "dados = pd.DataFrame([1, 1, 2, 3, 3, 3, 4, 4], columns = ['X'])"
   ]
  },
  {
   "cell_type": "markdown",
   "metadata": {
    "id": "Sls-k0e0aG4W"
   },
   "source": [
    "**Considerando o código da 7ª questão, remova os registros duplicados.**"
   ]
  },
  {
   "cell_type": "code",
   "execution_count": null,
   "metadata": {
    "id": "6tl6aQbi2osY"
   },
   "outputs": [],
   "source": [
    "q7 = pd.DataFrame(dados['X'].drop_duplicates().reset_index(drop = True))\n",
    "q7"
   ]
  },
  {
   "cell_type": "markdown",
   "metadata": {
    "id": "bYl18aelaN9H"
   },
   "source": [
    "# **Questão 8**"
   ]
  },
  {
   "cell_type": "code",
   "execution_count": null,
   "metadata": {
    "id": "LsSJgtJdaN9I"
   },
   "outputs": [],
   "source": [
    "import pandas as pd\n",
    "\n",
    "dados = {\n",
    "    'Nome':['Jetta', 'Passat', 'Crossfox', 'DS5', 'Fusca'],\n",
    "    'Motor': ['Motor 4.0 Turbo', 'Motor Diesel', 'Motor Diesel V8', 'Motor Diesel', 'Motor 1.6'],\n",
    "    'Ano': [2019, 2003, 1991, 2019, 1990],\n",
    "    'Quilometragem': [0.0, 5712.0, 37123.0, 0.0, 120000.0],\n",
    "    'Zero_km': [True, False, False, True, False],\n",
    "    'Valor': [88000.0, 106000.0, 72000.0, 89000.0, 32000.0]\n",
    "}\n",
    "\n",
    "dataset = pd.DataFrame(dados, index = range(5))\n",
    "\n",
    "dataset"
   ]
  },
  {
   "cell_type": "markdown",
   "metadata": {
    "id": "ZYBhvRWZaSyc"
   },
   "source": [
    "**Considerando o código da 8ª questão, modifique o índice do DataFrame para iniciar em 1 e seguir a contagem de 1 em 1. Em seguida, faça com que o índice do DataFrame seja o nome do veículo.**"
   ]
  },
  {
   "cell_type": "code",
   "execution_count": null,
   "metadata": {
    "id": "0NCHzpJnaN9J"
   },
   "outputs": [],
   "source": [
    "#Modificar o indice do dataframe para comecar em 1\n",
    "#q8 = dataset.copy()\n",
    "#q8.index = dataset.index+1\n",
    "#q8\n",
    "dataset.set_index(dataset.index+1, drop=True)"
   ]
  },
  {
   "cell_type": "code",
   "execution_count": null,
   "metadata": {
    "id": "jV359qvh30d3"
   },
   "outputs": [],
   "source": [
    "#Modificar o indice do dataframe para ser o nome do veiculo\n",
    "dataset.set_index('Nome')"
   ]
  },
  {
   "cell_type": "markdown",
   "metadata": {
    "id": "xgj-MMUip3Kv"
   },
   "source": [
    "# **Questão 9**"
   ]
  },
  {
   "cell_type": "code",
   "execution_count": null,
   "metadata": {
    "id": "l17C17Wlp5Ij"
   },
   "outputs": [],
   "source": [
    "import pandas as pd\n",
    "\n",
    "numeros = [i for i in range(11)]\n",
    "letras = [chr(i + 65) for i in range(11)]\n",
    "nome_coluna = ['N']\n",
    "\n",
    "df = pd.DataFrame(data = numeros, index = letras, columns = nome_coluna)\n",
    "df"
   ]
  },
  {
   "cell_type": "markdown",
   "metadata": {
    "id": "B-KpRzhaam5I"
   },
   "source": [
    "**Considerando o código da 9ª questão, faça uma seleção para apresentar apenas letras e números, onde os números são pares.**"
   ]
  },
  {
   "cell_type": "code",
   "execution_count": null,
   "metadata": {
    "id": "OStxryx042Gg"
   },
   "outputs": [],
   "source": [
    "sel = (df['N'] > 0) & (df['N']%2 == 0)\n",
    "df[sel]"
   ]
  },
  {
   "cell_type": "markdown",
   "metadata": {
    "id": "O0caRMxrCdM5"
   },
   "source": [
    "# **Questão 10**"
   ]
  },
  {
   "cell_type": "code",
   "execution_count": null,
   "metadata": {
    "id": "vNEzqS6xCdNY"
   },
   "outputs": [],
   "source": [
    "import pandas as pd\n",
    "alunos = pd.DataFrame({'Nome': ['Ary', 'Cátia', 'Denis', 'Beto', 'Bruna', 'Dara', 'Carlos', 'Alice'], \n",
    "                        'Sexo': ['M', 'F', 'M', 'M', 'F', 'F', 'M', 'F'], \n",
    "                        'Idade': [15, 27, 56, 32, 42, 21, 19, 35], \n",
    "                        'Notas': [7.5, 2.5, 5.0, 10, 8.2, 7, 6, 5.6], \n",
    "                        'Aprovado': [True, False, False, True, True, True, False, False]}, \n",
    "                        columns = ['Nome', 'Idade', 'Sexo', 'Notas', 'Aprovado'])\n",
    "alunos"
   ]
  },
  {
   "cell_type": "markdown",
   "metadata": {
    "id": "0ujRHa7sa0mF"
   },
   "source": [
    "**Considerando o código da 10ª questão, faça uma seleção para apresentar apenas aqueles alunos (ambos os sexos) que foram aprovados.**"
   ]
  },
  {
   "cell_type": "code",
   "execution_count": null,
   "metadata": {
    "id": "8zI3ikcfCdNa"
   },
   "outputs": [],
   "source": [
    "sel = alunos['Aprovado'] == True\n",
    "alunos[sel]"
   ]
  },
  {
   "cell_type": "markdown",
   "metadata": {
    "id": "4yjN8rRBHHin"
   },
   "source": [
    "# **Questão 11**"
   ]
  },
  {
   "cell_type": "code",
   "execution_count": null,
   "metadata": {
    "id": "At8jgCnaHHiz"
   },
   "outputs": [],
   "source": [
    "import pandas as pd\n",
    "alunos = pd.DataFrame({'Nome': ['Ary', 'Cátia', 'Denis', 'Beto', 'Bruna', 'Dara', 'Carlos', 'Alice'], \n",
    "                        'Sexo': ['M', 'F', 'M', 'M', 'F', 'F', 'M', 'F'], \n",
    "                        'Idade': [15, 27, 56, 32, 42, 21, 19, 35], \n",
    "                        'Notas': [7.5, 2.5, 5.0, 10, 8.2, 7, 6, 5.6], \n",
    "                        'Aprovado': [True, False, False, True, True, True, False, False]}, \n",
    "                        columns = ['Nome', 'Idade', 'Sexo', 'Notas', 'Aprovado'])\n",
    "alunos"
   ]
  },
  {
   "cell_type": "markdown",
   "metadata": {
    "id": "xTxOeDJWa93s"
   },
   "source": [
    "**Considerando o código da 11ª questão, faça uma seleção para apresentar apenas as alunas aprovadas.**"
   ]
  },
  {
   "cell_type": "code",
   "execution_count": null,
   "metadata": {
    "id": "kKXIeJYLHHi0"
   },
   "outputs": [],
   "source": [
    "#sel = (alunos['Aprovado'] == True) & (alunos['Sexo'] == 'F')\n",
    "#alunos[sel]\n",
    "sel = alunos.query('Sexo == \"F\" and Aprovado == True')\n",
    "sel"
   ]
  },
  {
   "cell_type": "markdown",
   "metadata": {
    "id": "brZmnPuuHyaT"
   },
   "source": [
    "# **Questão 12**"
   ]
  },
  {
   "cell_type": "code",
   "execution_count": null,
   "metadata": {
    "id": "InAB6ACrHyaV"
   },
   "outputs": [],
   "source": [
    "import pandas as pd\n",
    "alunos = pd.DataFrame({'Nome': ['Ary', 'Cátia', 'Denis', 'Beto', 'Bruna', 'Dara', 'Carlos', 'Alice'], \n",
    "                        'Sexo': ['M', 'F', 'M', 'M', 'F', 'F', 'M', 'F'], \n",
    "                        'Idade': [15, 27, 56, 32, 42, 21, 19, 35], \n",
    "                        'Notas': [7.5, 2.5, 5.0, 10, 8.2, 7, 6, 5.6], \n",
    "                        'Aprovado': [True, False, False, True, True, True, False, False]}, \n",
    "                        columns = ['Nome', 'Idade', 'Sexo', 'Notas', 'Aprovado'])\n",
    "alunos"
   ]
  },
  {
   "cell_type": "markdown",
   "metadata": {
    "id": "tTOMiLBNbJmt"
   },
   "source": [
    "**Considerando o código da 12ª questão, faça uma seleção de alunos (ambos os sexos) com idade entre 10 e 20 anos ou com idade maior ou igual a 40 anos.**"
   ]
  },
  {
   "cell_type": "code",
   "execution_count": null,
   "metadata": {
    "id": "cXMt5BSHHyaW"
   },
   "outputs": [],
   "source": [
    "sel = alunos.query('(Idade >= 10 and Idade <= 20) or Idade >= 40')\n",
    "sel"
   ]
  },
  {
   "cell_type": "markdown",
   "metadata": {
    "id": "qpO7xm53dp9n"
   },
   "source": [
    "# **Questão 13**"
   ]
  },
  {
   "cell_type": "code",
   "execution_count": null,
   "metadata": {
    "id": "Fa7d5ZcAdsUT"
   },
   "outputs": [],
   "source": [
    "imoveis = pd.DataFrame([['Apartamento', None, 970, 68], \n",
    "                        ['Apartamento', 2000, 878, 112], \n",
    "                        ['Casa', 5000, None, 500], \n",
    "                        ['Apartamento', None, 1010, 170], \n",
    "                        ['Apartamento', 1500, 850, None], \n",
    "                        ['Casa', None, None, None], \n",
    "                        ['Apartamento', 2000, 878, None], \n",
    "                        ['Apartamento', 1550, None, 228], \n",
    "                        ['Apartamento', 2500, 880, 195]], \n",
    "                        columns = ['Tipo', 'Valor', 'Condominio', 'IPTU'])\n",
    "\n",
    "imoveis"
   ]
  },
  {
   "cell_type": "markdown",
   "metadata": {
    "id": "VcvF5un5bbIt"
   },
   "source": [
    "**Considerando o código da 13ª questão, faça o seguinte conjunto de operações de limpeza de dados: (i) Elimine os registros que não apresentam a variável Valor; (ii) Elimine os imóveis do tipo Apartamento que não apresentam valor Condominio; (iii) Substitua os valores faltantes que restam nas variáveis Condominio e IPTU por zero; (iv) Reconstrua o índice do DataFrame resultante.**"
   ]
  },
  {
   "cell_type": "code",
   "execution_count": null,
   "metadata": {
    "id": "AH0hckC2dyfP"
   },
   "outputs": [],
   "source": [
    "#(i) Elimine os registros que não apresentam a variável Valor;\n",
    "imoveis.dropna(subset = ['Valor'], inplace = True)\n",
    "imoveis"
   ]
  },
  {
   "cell_type": "code",
   "execution_count": null,
   "metadata": {
    "id": "dJIZCYlxePqC"
   },
   "outputs": [],
   "source": [
    "#(ii) Elimine os imóveis do tipo Apartamento que não apresentam valor Condominio;\n",
    "sel = (imoveis['Tipo'] == 'Apartamento') & (imoveis['Condominio'].isna())\n",
    "imoveis.drop(imoveis[sel].index, inplace = True)\n",
    "imoveis"
   ]
  },
  {
   "cell_type": "code",
   "execution_count": null,
   "metadata": {
    "id": "hyeaOV_AeP_N"
   },
   "outputs": [],
   "source": [
    "#(iii) Substitua os valores faltantes que restam nas variáveis Condominio e IPTU por zero;\n",
    "imoveis.fillna(0, inplace = True)\n",
    "imoveis"
   ]
  },
  {
   "cell_type": "code",
   "execution_count": null,
   "metadata": {
    "id": "7yAqsCHieQZ4"
   },
   "outputs": [],
   "source": [
    "#(iv) Reconstrua o índice do DataFrame resultante.\n",
    "imoveis.reset_index(drop = True, inplace = True)\n",
    "imoveis"
   ]
  },
  {
   "cell_type": "markdown",
   "metadata": {
    "id": "bDynjISeeTa8"
   },
   "source": [
    "# **Questão 14**"
   ]
  },
  {
   "cell_type": "code",
   "execution_count": null,
   "metadata": {
    "id": "Y9gyxQaXeTa9"
   },
   "outputs": [],
   "source": [
    "import pandas as pd\n",
    "alunos = pd.DataFrame({'Nome': ['Ary', 'Cátia', 'Denis', 'Beto', 'Bruna', 'Dara', 'Carlos', 'Alice'], \n",
    "                        'Sexo': ['M', 'F', 'M', 'M', 'F', 'F', 'M', 'F'], \n",
    "                        'Idade': [15, 27, 56, 32, 42, 21, 19, 35], \n",
    "                        'Notas': [7.5, 2.5, 5.0, 10, 8.2, 7, 6, 5.6]}, \n",
    "                        columns = ['Nome', 'Idade', 'Sexo', 'Notas'])\n",
    "\n",
    "alunos"
   ]
  },
  {
   "cell_type": "markdown",
   "metadata": {
    "id": "AwF6G1Lvbq4e"
   },
   "source": [
    "**Considerando o código da 14ª questão, faça o seguinte conjunto de operações de criação de novas variáveis: (i) Nova variável que indica a diferença entre cada nota e a média das notas, evidenciando o quanto cada aluno ficou acima ou abaixo da média geral; (ii) Nova variável que indica três faixas etárias (menor que 20 anos, entre 20 e 40 anos, maior que 40 anos).**"
   ]
  },
  {
   "cell_type": "code",
   "execution_count": null,
   "metadata": {
    "id": "0MWelaKaeTa_"
   },
   "outputs": [],
   "source": [
    "#(i) Nova variável que indica a diferença entre cada nota e a média das notas,\n",
    "#evidenciando o quanto cada aluno ficou acima ou abaixo da média geral;\n",
    "alunos['Dist. da Media'] = alunos['Notas'] - alunos['Notas'].mean()\n",
    "alunos"
   ]
  },
  {
   "cell_type": "code",
   "execution_count": null,
   "metadata": {
    "id": "iaNG9007fuYE"
   },
   "outputs": [],
   "source": [
    "#(ii) Nova variável que indica três faixas etárias (menor que 20 anos, entre 20 e 40 anos, maior que 40 anos).\n",
    "alunos['Faixa Etaria'] = alunos['Idade'].apply(lambda x: 'Sub 20' if x < 20 else '20 a 40' if (x >= 20) & (x <= 40) else 'Mais de 40')\n",
    "alunos"
   ]
  },
  {
   "cell_type": "markdown",
   "metadata": {
    "id": "-dr-ZogthfAJ"
   },
   "source": [
    "# **Questão 15**"
   ]
  },
  {
   "cell_type": "code",
   "execution_count": null,
   "metadata": {
    "id": "-Irg1gqGhfAL"
   },
   "outputs": [],
   "source": [
    "import pandas as pd\n",
    "alunos = pd.DataFrame({'Nome': ['Ary', 'Cátia', 'Denis', 'Beto', 'Bruna', 'Dara', 'Carlos', 'Alice'], \n",
    "                        'Sexo': ['M', 'F', 'M', 'M', 'F', 'F', 'M', 'F'], \n",
    "                        'Idade': [15, 27, 56, 32, 42, 21, 19, 35], \n",
    "                        'Notas': [7.5, 2.5, 5.0, 10, 8.2, 7, 6, 5.6]}, \n",
    "                        columns = ['Nome', 'Idade', 'Sexo', 'Notas'])\n",
    "\n",
    "alunos"
   ]
  },
  {
   "cell_type": "markdown",
   "metadata": {
    "id": "rLNFS5S8b8mg"
   },
   "source": [
    "**Considerando o código da 15ª questão, faça o seguinte conjunto de operações de criação/exclusão de variáveis: (i) Inclua uma nova variável que atribua matrícula aos alunos; (ii) Crie um novo DataFrame que apresente apenas matrícula e notas dos alunos, excluindo as outras variáveis.**"
   ]
  },
  {
   "cell_type": "code",
   "execution_count": null,
   "metadata": {
    "id": "PDZMR4nphfAM"
   },
   "outputs": [],
   "source": [
    "#(i) Inclua uma nova variável que atribua matrícula aos alunos;\n",
    "alunos['Matricula'] = ['2022'+str(i) for i in range(len(alunos.index))]\n",
    "alunos"
   ]
  },
  {
   "cell_type": "code",
   "execution_count": null,
   "metadata": {
    "id": "7HctIezxhfAN"
   },
   "outputs": [],
   "source": [
    "#(ii) Crie um novo DataFrame que apresente apenas matrícula e notas dos alunos, excluindo as outras variáveis.\n",
    "alunos2 = alunos.copy()\n",
    "alunos2 = alunos2[['Matricula', 'Notas']]\n",
    "alunos2"
   ]
  },
  {
   "cell_type": "markdown",
   "metadata": {
    "id": "TBewIDUdix3d"
   },
   "source": [
    "# **Questão 16**"
   ]
  },
  {
   "cell_type": "code",
   "execution_count": null,
   "metadata": {
    "id": "t9c2hEYbix3e"
   },
   "outputs": [],
   "source": [
    "import pandas as pd\n",
    "alunos = pd.DataFrame({'Nome': ['Ary', 'Cátia', 'Denis', 'Beto', 'Bruna', 'Dara', 'Carlos', 'Alice'], \n",
    "                        'Sexo': ['M', 'F', 'M', 'M', 'F', 'F', 'M', 'F'], \n",
    "                        'Idade': [15, 27, 56, 32, 42, 21, 19, 35], \n",
    "                        'Notas': [7.5, 2.5, 5.0, 10, 8.2, 7, 6, 5.6]}, \n",
    "                        columns = ['Nome', 'Idade', 'Sexo', 'Notas'])\n",
    "\n",
    "alunos"
   ]
  },
  {
   "cell_type": "markdown",
   "metadata": {
    "id": "6h2LrCr0cKCn"
   },
   "source": [
    "**Considerando o código da 16ª questão, obtenha um DataFrame com as notas médias dos alunos, com duas casas decimais, segundo seu sexo.**"
   ]
  },
  {
   "cell_type": "code",
   "execution_count": null,
   "metadata": {
    "id": "feSSj8hYix3f"
   },
   "outputs": [],
   "source": [
    "selM = alunos['Sexo'] == 'M'\n",
    "selF = alunos['Sexo'] == 'F'\n",
    "dados = {'Sexo': ['M','F'], 'Media': [alunos[selM]['Notas'].mean(), alunos[selF]['Notas'].mean()]}\n",
    "df = pd.DataFrame(dados)\n",
    "df['Media'].round(2)\n",
    "df"
   ]
  },
  {
   "cell_type": "markdown",
   "metadata": {
    "id": "L1ni_evzjijD"
   },
   "source": [
    "# **Questão 17**"
   ]
  },
  {
   "cell_type": "code",
   "execution_count": null,
   "metadata": {
    "id": "eDu-1QNsjija"
   },
   "outputs": [],
   "source": [
    "import pandas as pd\n",
    "precos = pd.DataFrame([['Feira', 'Cebola', 2.5], \n",
    "                        ['Mercado', 'Cebola', 1.99], \n",
    "                        ['Supermercado', 'Cebola', 1.69], \n",
    "                        ['Feira', 'Tomate', 4], \n",
    "                        ['Mercado', 'Tomate', 3.29], \n",
    "                        ['Supermercado', 'Tomate', 2.99], \n",
    "                        ['Feira', 'Batata', 4.2], \n",
    "                        ['Mercado', 'Batata', 3.99], \n",
    "                        ['Supermercado', 'Batata', 3.69]], \n",
    "                        columns = ['Local', 'Produto', 'Preço'])\n",
    "precos"
   ]
  },
  {
   "cell_type": "markdown",
   "metadata": {
    "id": "WhM_5wiOcWZq"
   },
   "source": [
    "**A criação de agrupamentos com o método groupby() facilita bastante na sumarização das informações de um DataFrame. O método describe() aplicado a um agrupamento gera um conjunto de estatísticas descritivas bastante útil no processo de análise de dados. Considerando o código da 17ª questão, obtenha um DataFrame com as variáveis Produto, Média, Desvio Padrão, Mínimo e Máximo. Dica: Agrege e renomeie as colunas\n",
    "requeridas.**"
   ]
  },
  {
   "cell_type": "code",
   "execution_count": null,
   "metadata": {
    "id": "7MQSub7cjijb"
   },
   "outputs": [],
   "source": []
  },
  {
   "cell_type": "code",
   "execution_count": null,
   "metadata": {
    "id": "Ub-jGRs6IqrD"
   },
   "outputs": [],
   "source": []
  },
  {
   "cell_type": "markdown",
   "metadata": {
    "id": "-rQA8Q4eKcHi"
   },
   "source": [
    "# **Questão 18**"
   ]
  },
  {
   "cell_type": "markdown",
   "metadata": {
    "id": "fIOV6Buwcw_P"
   },
   "source": [
    "**Considerando a base de dados “aluguel_amostra.csv” e a variável alvo “Valor m2”, obtenha o seguinte conjunto de estatísticas: Q1, Q3, IIQ, Limite inferior e Limite superior.**"
   ]
  },
  {
   "cell_type": "code",
   "execution_count": null,
   "metadata": {
    "id": "1DshF77mKe0K"
   },
   "outputs": [],
   "source": [
    "import pandas as pd\n",
    "\n",
    "dados = pd.read_csv('aluguel_amostra.csv', sep=';')\n",
    "\n",
    "dados.head(n=10)"
   ]
  },
  {
   "cell_type": "code",
   "execution_count": null,
   "metadata": {
    "id": "S9J3MqL0K5mm"
   },
   "outputs": [],
   "source": []
  }
 ],
 "metadata": {
  "colab": {
   "collapsed_sections": [
    "PMSF31op5whN",
    "rG4VmUnI6ZVB",
    "rywu7g-d7Nq7",
    "sWao5erGrJll",
    "TMrC9wuoD6Dv",
    "X0rVY3lJZyaF",
    "yC-pgzXUaE9P",
    "bYl18aelaN9H",
    "xgj-MMUip3Kv",
    "O0caRMxrCdM5",
    "4yjN8rRBHHin",
    "brZmnPuuHyaT",
    "qpO7xm53dp9n",
    "bDynjISeeTa8",
    "-dr-ZogthfAJ",
    "TBewIDUdix3d",
    "L1ni_evzjijD",
    "-rQA8Q4eKcHi"
   ],
   "provenance": []
  },
  "kernelspec": {
   "display_name": "Python 3",
   "language": "python",
   "name": "python3"
  },
  "language_info": {
   "codemirror_mode": {
    "name": "ipython",
    "version": 3
   },
   "file_extension": ".py",
   "mimetype": "text/x-python",
   "name": "python",
   "nbconvert_exporter": "python",
   "pygments_lexer": "ipython3",
   "version": "3.7.1"
  }
 },
 "nbformat": 4,
 "nbformat_minor": 1
}
