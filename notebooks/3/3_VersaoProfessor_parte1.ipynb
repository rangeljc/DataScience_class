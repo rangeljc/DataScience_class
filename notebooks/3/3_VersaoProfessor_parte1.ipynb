{
  "cells": [
    {
      "cell_type": "markdown",
      "metadata": {
        "id": "5P-m-Kf5pRUD"
      },
      "source": [
        "# Aula 1"
      ]
    },
    {
      "cell_type": "markdown",
      "metadata": {
        "id": "1cQDzztLpRUE"
      },
      "source": [
        "### Fazendo as primeiras visualizações"
      ]
    },
    {
      "cell_type": "code",
      "execution_count": null,
      "metadata": {
        "id": "Z74wW_RUpRUF"
      },
      "outputs": [],
      "source": [
        "import pandas as pd"
      ]
    },
    {
      "cell_type": "code",
      "execution_count": null,
      "metadata": {
        "id": "FTcFKCmRpRUG"
      },
      "outputs": [],
      "source": [
        "df = pd.read_csv('monitoramento_tempo.csv')"
      ]
    },
    {
      "cell_type": "code",
      "execution_count": null,
      "metadata": {
        "id": "SA9gqZsdpRUG"
      },
      "outputs": [],
      "source": [
        "df.head()"
      ]
    },
    {
      "cell_type": "code",
      "execution_count": null,
      "metadata": {
        "id": "a-666LkupRUH"
      },
      "outputs": [],
      "source": [
        "df.info() #sem dados nulos, mas a data eh um objeto str; precisa ser datetime"
      ]
    },
    {
      "cell_type": "code",
      "execution_count": null,
      "metadata": {
        "id": "ayZoZkR5pRUI"
      },
      "outputs": [],
      "source": [
        "df['data'] = pd.to_datetime(df['data'])"
      ]
    },
    {
      "cell_type": "code",
      "source": [
        "df.info()"
      ],
      "metadata": {
        "id": "eOLqpFhKvIac"
      },
      "execution_count": null,
      "outputs": []
    },
    {
      "cell_type": "code",
      "source": [
        "df.describe()"
      ],
      "metadata": {
        "id": "SK4NtyBKwELL"
      },
      "execution_count": null,
      "outputs": []
    },
    {
      "cell_type": "code",
      "execution_count": null,
      "metadata": {
        "id": "snt5quFVpRUI"
      },
      "outputs": [],
      "source": [
        "import matplotlib.pyplot as plt\n",
        "%matplotlib inline \n",
        "#graficos iram aparecer de forma automatica, uso apenas para notebooks python"
      ]
    },
    {
      "cell_type": "code",
      "execution_count": null,
      "metadata": {
        "id": "jXaiDLX6pRUI"
      },
      "outputs": [],
      "source": [
        "plt.plot(df['data'], df['temperatura'])\n",
        "#plt.show() #retirar o retorno da funcao de plotar"
      ]
    },
    {
      "cell_type": "code",
      "execution_count": null,
      "metadata": {
        "id": "3sGRcDfIpRUI"
      },
      "outputs": [],
      "source": [
        "plt.figure(figsize=(15,8)) #dimensoes na forma da tupla (largura, altura)\n",
        "plt.plot(df['data'], df['temperatura'])"
      ]
    },
    {
      "cell_type": "code",
      "execution_count": null,
      "metadata": {
        "id": "5CJexkjTpRUJ"
      },
      "outputs": [],
      "source": [
        "plt.figure(figsize=(15,8))\n",
        "plt.plot(df['data'], df['temperatura'])\n",
        "plt.title('Temperatura no momento')\n",
        "plt.show()"
      ]
    },
    {
      "cell_type": "code",
      "execution_count": null,
      "metadata": {
        "id": "D3I5iKXPpRUJ"
      },
      "outputs": [],
      "source": [
        "fig = plt.figure(figsize=(15,8)) #objeto figura com redimensionamento de tamanho\n",
        "eixo = fig.add_axes([0, 0, 1, 1]) #adicionar os eixos ([left, bottom, width, height] )\n",
        "#possibilita realizar mais customizacoes"
      ]
    },
    {
      "cell_type": "code",
      "execution_count": null,
      "metadata": {
        "id": "x_ENZSqJpRUJ"
      },
      "outputs": [],
      "source": [
        "fig = plt.figure(figsize=(15,8))\n",
        "eixo = fig.add_axes([0, 0, 1, 1])\n",
        "eixo.plot(df['data'], df['temperatura'])\n",
        "\n",
        "eixo.set_title('Temperatura no momento')"
      ]
    },
    {
      "cell_type": "code",
      "execution_count": null,
      "metadata": {
        "id": "sKM-DSXNpRUK"
      },
      "outputs": [],
      "source": [
        "fig = plt.figure(figsize=(15,8))\n",
        "eixo = fig.add_axes([0, 0, 1, 1])\n",
        "eixo.plot(df['data'], df['temperatura'])\n",
        "\n",
        "eixo.set_title('Temperatura no momento')\n",
        "eixo.set_ylabel('Temperatura')\n",
        "eixo.set_xlabel('Data')"
      ]
    },
    {
      "cell_type": "code",
      "execution_count": null,
      "metadata": {
        "id": "KUO17nt4pRUK"
      },
      "outputs": [],
      "source": [
        "fig = plt.figure(figsize=(15,8))\n",
        "eixo = fig.add_axes([0, 0, 1, 1])\n",
        "eixo.plot(df['data'], df['temperatura'])\n",
        "\n",
        "eixo.set_title('Temperatura no momento', fontsize=25)\n",
        "eixo.set_ylabel('Temperatura', fontsize=20)\n",
        "eixo.set_xlabel('Data', fontsize=20)"
      ]
    },
    {
      "cell_type": "code",
      "execution_count": null,
      "metadata": {
        "id": "D-sIcpWnpRUK"
      },
      "outputs": [],
      "source": [
        "fig = plt.figure(figsize=(15,8))\n",
        "eixo = fig.add_axes([0, 0, 1, 1])\n",
        "eixo.plot(df['data'], df['temperatura'])\n",
        "\n",
        "eixo.set_title('Temperatura no momento', fontsize=25)\n",
        "eixo.set_ylabel('Temperatura', fontsize=20)\n",
        "eixo.set_xlabel('Data', fontsize=20)\n",
        "eixo.legend(['temperatura'], loc = 'lower right', fontsize=15)"
      ]
    },
    {
      "cell_type": "code",
      "execution_count": null,
      "metadata": {
        "id": "5cTt4e3VpRUL"
      },
      "outputs": [],
      "source": [
        "fig = plt.figure(figsize=(15,8))\n",
        "eixo = fig.add_axes([0, 0, 1, 1])\n",
        "eixo.plot(df['data'], df['temperatura'], color = 'green')\n",
        "\n",
        "eixo.set_title('Temperatura no momento', fontsize=25)\n",
        "eixo.set_ylabel('Temperatura', fontsize=20)\n",
        "eixo.set_xlabel('Data', fontsize=20)\n",
        "eixo.legend(['temperatura'], loc = 'lower right', fontsize=15)\n",
        "fig.show()"
      ]
    },
    {
      "cell_type": "markdown",
      "metadata": {
        "id": "ILijTtyLpcRn"
      },
      "source": [
        "# Aula 2\n",
        "### Customizando nossas visualizações"
      ]
    },
    {
      "cell_type": "code",
      "execution_count": null,
      "metadata": {
        "id": "yevB4Oz1pcRn"
      },
      "outputs": [],
      "source": [
        "fig = plt.figure(figsize=(15,8))\n",
        "eixo = fig.add_axes([0, 0, 1, 1])\n",
        "eixo.plot(df['data'], df['temperatura'], color = 'g', lw = 4) #simplificar green para g e espessura da linha (line width)\n",
        "\n",
        "eixo.set_title('Temperatura no momento', fontsize=25)\n",
        "eixo.set_ylabel('Temperatura', fontsize=20)\n",
        "eixo.set_xlabel('Data', fontsize=20)\n",
        "eixo.legend(['temperatura'], loc = 'lower right', fontsize=15)"
      ]
    },
    {
      "cell_type": "code",
      "execution_count": null,
      "metadata": {
        "id": "p_EcpvMOpcRo"
      },
      "outputs": [],
      "source": [
        "fig = plt.figure(figsize=(15,8))\n",
        "eixo = fig.add_axes([0, 0, 1, 1])\n",
        "eixo.plot(df['data'], df['temperatura'], color = 'g', lw = 0.4) #diminuir a espessura da linha\n",
        "\n",
        "eixo.set_title('Temperatura no momento', fontsize=25)\n",
        "eixo.set_ylabel('Temperatura', fontsize=20)\n",
        "eixo.set_xlabel('Data', fontsize=20)\n",
        "eixo.legend(['temperatura'], loc = 'lower right', fontsize=15)"
      ]
    },
    {
      "cell_type": "code",
      "execution_count": null,
      "metadata": {
        "id": "6FKiz4_QpcRo"
      },
      "outputs": [],
      "source": [
        "fig = plt.figure(figsize=(15,8))\n",
        "eixo = fig.add_axes([0, 0, 1, 1])\n",
        "eixo.plot(df['data'], df['temperatura'], color = 'g', ls = 'dotted') #line style\n",
        "\n",
        "eixo.set_title('Temperatura no momento', fontsize=25)\n",
        "eixo.set_ylabel('Temperatura', fontsize=20)\n",
        "eixo.set_xlabel('Data', fontsize=20)\n",
        "eixo.legend(['temperatura'], loc = 'lower right', fontsize=15)"
      ]
    },
    {
      "cell_type": "code",
      "source": [
        "fig = plt.figure(figsize=(20,5))\n",
        "eixos = fig.add_axes([0, 0, 1, 1])\n",
        "\n",
        "eixos.plot(df['data'], df['temperatura'], color='k')\n",
        "eixos.plot(df['data'], df['humidade'], color='r')\n",
        "eixos.plot(df['data'], df['velocidade do vento'], color='b')\n",
        "eixos.set_title('Grandeza no tempo', fontsize=25, pad=20)\n",
        "eixos.set_xlabel('Tempo', fontsize=20)\n",
        "eixos.set_ylabel('Grandeza', fontsize=20)\n",
        "eixos.legend(['Temperatura', 'Humidade', 'Vel. vento'], fontsize=15, loc='best')"
      ],
      "metadata": {
        "id": "x_xMtM4kxgs8"
      },
      "execution_count": null,
      "outputs": []
    },
    {
      "cell_type": "code",
      "execution_count": null,
      "metadata": {
        "id": "wuNGodx9pcRp"
      },
      "outputs": [],
      "source": [
        "import datetime"
      ]
    },
    {
      "cell_type": "code",
      "execution_count": null,
      "metadata": {
        "id": "naVPH4kPpcRp"
      },
      "outputs": [],
      "source": [
        "fig = plt.figure(figsize=(15,8))\n",
        "eixo = fig.add_axes([0, 0, 1, 1])\n",
        "eixo.plot(df['data'], df['temperatura'], color = 'g')\n",
        "\n",
        "eixo.set_xlim(datetime.datetime(2014,1,1),datetime.datetime(2015,1,1)) #grafico dentro de um recorte temporal\n",
        "eixo.set_title('Temperatura no momento', fontsize=25)\n",
        "eixo.set_ylabel('Temperatura', fontsize=20)\n",
        "eixo.set_xlabel('Data', fontsize=20)\n",
        "eixo.legend(['temperatura'], loc = 'lower right', fontsize=15)"
      ]
    },
    {
      "cell_type": "code",
      "source": [
        "#grafico dentro de um recorte temporal\n",
        "fig = plt.figure(figsize=(15,5))\n",
        "eixos = fig.add_axes([0,0,1,1])\n",
        "\n",
        "#eixos.set_xlim(datetime.datetime(2014, 1, 1), datetime.datetime(2014, 12, 31))\n",
        "sel = (df['data'] >= '2014-01-01') & (df['data'] <= '2014-12-31')\n",
        "\n",
        "eixos.plot(df[sel]['data'], df[sel]['temperatura'], color='r', ls='--', marker='o')\n",
        "eixos.set_title('Temperatura no tempo', fontsize=25)\n",
        "eixos.set_xlabel('Tempo', fontsize=20)\n",
        "eixos.set_ylabel('Temperatura', fontsize=20)\n",
        "eixos.grid(True)"
      ],
      "metadata": {
        "id": "37m5TDq7xnoh"
      },
      "execution_count": null,
      "outputs": []
    },
    {
      "cell_type": "code",
      "execution_count": null,
      "metadata": {
        "id": "9kD70TkUpcRp"
      },
      "outputs": [],
      "source": [
        "fig = plt.figure(figsize=(15,8))\n",
        "eixo = fig.add_axes([0, 0, 1, 1])\n",
        "eixo.plot(df['data'], df['temperatura'], color = 'g', marker = 'o') #adicionar marcadores\n",
        "\n",
        "eixo.set_xlim(datetime.datetime(2014,1,1),datetime.datetime(2015,1,1))\n",
        "eixo.set_title('Temperatura no momento', fontsize=25)\n",
        "eixo.set_ylabel('Temperatura', fontsize=20)\n",
        "eixo.set_xlabel('Data', fontsize=20)\n",
        "eixo.legend(['temperatura'], loc = 'lower right', fontsize=15)"
      ]
    },
    {
      "cell_type": "code",
      "execution_count": null,
      "metadata": {
        "id": "NAZ_5mnfpcRq"
      },
      "outputs": [],
      "source": [
        "fig = plt.figure(figsize=(15,8))\n",
        "eixo = fig.add_axes([0, 0, 1, 1])\n",
        "eixo.plot(df['data'], df['temperatura'], color = 'g')\n",
        "\n",
        "eixo.set_xlim(datetime.datetime(2014,1,1),datetime.datetime(2015,1,1))\n",
        "eixo.set_title('Temperatura no momento', fontsize=25)\n",
        "eixo.set_ylabel('Temperatura', fontsize=20)\n",
        "eixo.set_xlabel('Data', fontsize=20)\n",
        "eixo.legend(['temperatura'], loc = 'lower right', fontsize=15)\n",
        "eixo.grid(True) #adiciona o grid"
      ]
    },
    {
      "cell_type": "code",
      "execution_count": null,
      "metadata": {
        "id": "XRqkf5_PpcRq"
      },
      "outputs": [],
      "source": [
        "fig = plt.figure(figsize=(15,8))\n",
        "\n",
        "eixo = fig.add_axes([0, 0, 1, 1])\n",
        "eixo2 = fig.add_axes([0.1, 0.5, 0.4, 0.4]) #([left, bottom, width, height] )"
      ]
    },
    {
      "cell_type": "code",
      "execution_count": null,
      "metadata": {
        "id": "Z9hQ5hYppcRq"
      },
      "outputs": [],
      "source": [
        "fig = plt.figure(figsize=(15,8))\n",
        "\n",
        "eixo = fig.add_axes([0, 0, 1, 1])\n",
        "eixo2 = fig.add_axes([0.1, 0.5, 0.4, 0.4])\n",
        "\n",
        "eixo.grid(True)\n",
        "eixo.plot(df['data'], df['temperatura'], color = 'g')\n",
        "eixo.set_title('Temperatura no momento', fontsize=25, pad=20) #pad -> espacamento entre o titulo e o grafico\n",
        "eixo.legend(['temperatura'], loc='best', fontsize=15)"
      ]
    },
    {
      "cell_type": "code",
      "execution_count": null,
      "metadata": {
        "id": "n9jFkrGBpcRr"
      },
      "outputs": [],
      "source": [
        "fig = plt.figure(figsize=(15,8))\n",
        "\n",
        "eixo = fig.add_axes([0, 0, 1, 1])\n",
        "eixo2 = fig.add_axes([0.1, 0.5, 0.4, 0.4])\n",
        "\n",
        "eixo.grid(True)\n",
        "eixo.plot(df['data'], df['temperatura'], color = 'g')\n",
        "eixo.set_title('Temperatura no momento', fontsize=25, pad=20)\n",
        "eixo.legend(['temperatura'], loc='best', fontsize=15)\n",
        "eixo.set_ylabel('Temperatura', fontsize=20)\n",
        "eixo.set_xlabel('Data', fontsize=20)\n",
        "\n",
        "eixo2.plot(df['data'], df['temperatura'], color = 'b')\n",
        "eixo2.set_title('Temperatura no momento', fontsize=15)\n",
        "eixo2.legend(['temperatura'], loc='best', fontsize=8)\n",
        "eixo2.set_ylabel('Temperatura', fontsize=10)\n",
        "eixo2.set_xlabel('Data', fontsize=10)"
      ]
    },
    {
      "cell_type": "code",
      "execution_count": null,
      "metadata": {
        "id": "CITIDZ8xpcRr"
      },
      "outputs": [],
      "source": [
        "fig = plt.figure(figsize=(15,8))\n",
        "\n",
        "eixo = fig.add_axes([0, 0, 1, 1])\n",
        "eixo2 = fig.add_axes([0.7, 0.65, 0.3, 0.3])\n",
        "\n",
        "eixo.grid(True)\n",
        "eixo.plot(df['data'], df['temperatura'], color = 'g')\n",
        "eixo.set_xlim(datetime.datetime(2014,1,1),datetime.datetime(2015,1,1))\n",
        "eixo.set_title('Temperatura em 2014', fontsize=25, pad=20)\n",
        "eixo.legend(['temperatura'], loc='lower right', fontsize=15)\n",
        "eixo.set_ylabel('Temperatura', fontsize=20)\n",
        "eixo.set_xlabel('Data', fontsize=20)\n",
        "\n",
        "eixo2.plot(df['data'], df['temperatura'], color = 'b')\n",
        "eixo2.set_title('Temperatura no momento', fontsize=15)\n",
        "eixo2.legend(['temperatura'], loc='best', fontsize=8)\n",
        "eixo2.set_ylabel('Temperatura', fontsize=10)\n",
        "eixo2.set_xlabel('Data', fontsize=10)\n",
        "eixo2.grid(True)"
      ]
    },
    {
      "cell_type": "code",
      "execution_count": null,
      "metadata": {
        "id": "RhNgPJbmpcRr"
      },
      "outputs": [],
      "source": [
        "fig = plt.figure(figsize=(15,8))\n",
        "\n",
        "eixo = fig.add_axes([0, 0, 1, 1])\n",
        "eixo2 = fig.add_axes([0.7, 0.65, 0.3, 0.3])\n",
        "\n",
        "eixo.grid(True)\n",
        "eixo.plot(df['data'], df['temperatura'], color = 'g')\n",
        "eixo.set_xlim(datetime.datetime(2014,5,1),datetime.datetime(2014,6,1))\n",
        "eixo.set_title('Temperatura em maio/2014', fontsize=25, pad=20)\n",
        "eixo.legend(['temperatura'], loc='lower right', fontsize=15)\n",
        "eixo.set_ylabel('Temperatura', fontsize=20)\n",
        "eixo.set_xlabel('Data', fontsize=20)\n",
        "\n",
        "eixo2.plot(df['data'], df['temperatura'], color = 'b')\n",
        "eixo2.set_xlim(datetime.datetime(2014,1,1),datetime.datetime(2015,1,1))\n",
        "eixo2.set_title('Temperatura em 2014', fontsize=15)\n",
        "eixo2.legend(['temperatura'], loc='best', fontsize=8)\n",
        "eixo2.set_ylabel('Temperatura', fontsize=10)\n",
        "eixo2.set_xlabel('Data', fontsize=10)\n",
        "eixo2.grid(True)"
      ]
    },
    {
      "cell_type": "code",
      "execution_count": null,
      "metadata": {
        "id": "xQX_ag_qpcRs"
      },
      "outputs": [],
      "source": [
        "fig = plt.figure(figsize=(15,8))\n",
        "\n",
        "eixo = fig.add_axes([0, 0, 1, 1])\n",
        "eixo2 = fig.add_axes([0.68, 0.65, 0.3, 0.3]) #alterei levemente o left\n",
        "\n",
        "eixo.grid(True)\n",
        "eixo.plot(df['data'], df['temperatura'], color = 'g')\n",
        "eixo.set_xlim(datetime.datetime(2014,5,1),datetime.datetime(2014,6,1))\n",
        "eixo.set_ylim(270, 320) #para ajustar a visualizacao na vertical\n",
        "eixo.set_title('Temperatura em maio/2014', fontsize=25, pad=20)\n",
        "eixo.legend(['temperatura'], loc='lower right', fontsize=15)\n",
        "eixo.set_ylabel('Temperatura', fontsize=20)\n",
        "eixo.set_xlabel('Data', fontsize=20)\n",
        "\n",
        "eixo2.plot(df['data'], df['temperatura'], color = 'b')\n",
        "eixo2.set_xlim(datetime.datetime(2014,1,1),datetime.datetime(2015,1,1))\n",
        "eixo2.set_title('Temperatura em 2014', fontsize=15)\n",
        "eixo2.legend(['temperatura'], loc='best', fontsize=8)\n",
        "eixo2.set_ylabel('Temperatura', fontsize=10)\n",
        "eixo2.set_xlabel('Data', fontsize=10)\n",
        "eixo2.grid(True)"
      ]
    },
    {
      "cell_type": "code",
      "source": [
        "#outra forma de fazer\n",
        "fig = plt.figure(figsize=(15,5))\n",
        "eixo1 = fig.add_axes([0, 0, 1, 1])\n",
        "eixo2 = fig.add_axes([0.68, 0.65, 0.3, 0.3]) #left, bottom, width, height\n",
        "\n",
        "sel = (df['data'] >= '2014-01-01') & (df['data'] <= '2014-12-31')\n",
        "\n",
        "eixo1.plot(df['data'], df['temperatura'], color='k', ls='--', marker='o')\n",
        "eixo1.plot(df[sel]['data'], df[sel]['temperatura'], color='r', ls='--', marker='o')\n",
        "eixo1.set_title('Temperatura no tempo', fontsize=12)\n",
        "eixo1.set_xlabel('Tempo', fontsize=10)\n",
        "eixo1.set_ylabel('Temperatura', fontsize=10)\n",
        "eixo1.grid(True)\n",
        "eixo1.set_ylim(260, 370)\n",
        "\n",
        "eixo2.plot(df[sel]['data'], df[sel]['temperatura'], color='r', ls='--', marker='o')\n",
        "eixo2.set_title('Temperatura em 2014', fontsize=12)\n",
        "eixo2.set_xlabel('Tempo', fontsize=10)\n",
        "eixo2.set_ylabel('Temperatura', fontsize=10)\n",
        "eixo2.grid(True)"
      ],
      "metadata": {
        "id": "2juGZytsxtDx"
      },
      "execution_count": null,
      "outputs": []
    },
    {
      "cell_type": "markdown",
      "source": [
        "**Destacar o mês de maio/2014 no gráfico interno**"
      ],
      "metadata": {
        "id": "ncj7tdQ8hFzO"
      }
    },
    {
      "cell_type": "code",
      "execution_count": null,
      "metadata": {
        "id": "S98hbJRJpcRs"
      },
      "outputs": [],
      "source": [
        "fig = plt.figure(figsize=(15,8))\n",
        "\n",
        "eixo = fig.add_axes([0, 0, 1, 1])\n",
        "eixo2 = fig.add_axes([0.7, 0.65, 0.3, 0.3])\n",
        "\n",
        "eixo.grid(True)\n",
        "eixo.plot(df['data'], df['temperatura'], color = 'g')\n",
        "eixo.set_xlim(datetime.datetime(2014,5,1),datetime.datetime(2014,6,1))\n",
        "eixo.set_ylim(270, 320)\n",
        "eixo.set_title('Temperatura em maio/2014', fontsize=25, pad=20)\n",
        "eixo.legend(['temperatura'], loc='lower right', fontsize=15)\n",
        "eixo.set_ylabel('Temperatura', fontsize=20)\n",
        "eixo.set_xlabel('Data', fontsize=20)\n",
        "\n",
        "#filtro de selecao\n",
        "azul_esquerda = df['data'] < datetime.datetime(2014,5,1)\n",
        "azul_direita = df['data'] > datetime.datetime(2014,6,1)\n",
        "\n",
        "eixo2.plot(df['data'], df['temperatura'], color = 'g')\n",
        "eixo2.plot(df[azul_esquerda]['data'],df[azul_esquerda]['temperatura'], color = 'b')\n",
        "eixo2.plot(df[azul_direita]['data'],df[azul_direita]['temperatura'], color = 'b')\n",
        "eixo2.set_xlim(datetime.datetime(2014,1,1),datetime.datetime(2015,1,1))\n",
        "eixo2.set_title('Temperatura em 2014', fontsize=15)\n",
        "eixo2.legend(['maio/2014', '2014'], loc='best', fontsize=8) #ajustando a lista de legendas\n",
        "eixo2.set_ylabel('Temperatura', fontsize=10)\n",
        "eixo2.set_xlabel('Data', fontsize=10)\n",
        "eixo2.grid(True)"
      ]
    },
    {
      "cell_type": "markdown",
      "source": [
        "# Aula 3"
      ],
      "metadata": {
        "id": "cKq8YCKhWBk5"
      }
    },
    {
      "cell_type": "markdown",
      "source": [
        "**Delimitar horizontalmente máximo e mínimo**"
      ],
      "metadata": {
        "id": "0tI0naa_CcgO"
      }
    },
    {
      "cell_type": "code",
      "execution_count": null,
      "metadata": {
        "id": "Qah313_vpdcs"
      },
      "outputs": [],
      "source": [
        "fig = plt.figure(figsize = (15,8))\n",
        "eixo = fig.add_axes([0,0,1,1])\n",
        "\n",
        "eixo.plot(df['data'], df['temperatura'], color = 'g')\n",
        "eixo.set_title('Temperatura no momento', fontsize=25, pad=20)\n",
        "eixo.set_xlabel('Data', fontsize=20)\n",
        "eixo.set_ylabel('Temperatura', fontsize=20)\n",
        "eixo.legend(['Temperatura'], loc='lower right', fontsize=15)\n",
        "eixo.grid(True)\n",
        "\n",
        "eixo.axhline(max(df['temperatura']), color = 'k', linestyle='--') #linha horizontal\n",
        "eixo.axhline(df['temperatura'].min(), color = 'k', linestyle='--')"
      ]
    },
    {
      "cell_type": "markdown",
      "source": [
        "**Fazer uma anotação**"
      ],
      "metadata": {
        "id": "WEhkHUHaDFUa"
      }
    },
    {
      "cell_type": "code",
      "execution_count": null,
      "metadata": {
        "id": "ML3xTBEApdct"
      },
      "outputs": [],
      "source": [
        "fig = plt.figure(figsize = (15,8))\n",
        "eixo = fig.add_axes([0,0,1,1])\n",
        "\n",
        "eixo.plot(df['data'], df['temperatura'], color = 'g')\n",
        "eixo.set_title('Temperatura no momento', fontsize=25, pad=20)\n",
        "eixo.set_xlabel('Data', fontsize=20)\n",
        "eixo.set_ylabel('Temperatura', fontsize=20)\n",
        "eixo.legend(['Temperatura'], loc='lower right', fontsize=15)\n",
        "eixo.grid(True)\n",
        "\n",
        "x1 = df['data'][df['temperatura'].idxmax()] #indice da temperatura maxima\n",
        "y1 = max(df['temperatura']) #valor da temperatura maxima -> df['temperatura'].max()\n",
        "\n",
        "eixo.annotate(\"Máximo\", xy=(x1,y1), fontsize=20) #anotacao(x,y)\n",
        "\n",
        "eixo.axhline(max(df['temperatura']), color = 'k', linestyle='--')\n",
        "eixo.axhline(min(df['temperatura']), color = 'k', linestyle='--')"
      ]
    },
    {
      "cell_type": "markdown",
      "source": [
        "**Anotar com seta e texto**"
      ],
      "metadata": {
        "id": "H9KSCvakGJ9y"
      }
    },
    {
      "cell_type": "code",
      "execution_count": null,
      "metadata": {
        "id": "aoV-szabpdct"
      },
      "outputs": [],
      "source": [
        "fig = plt.figure(figsize = (15,8))\n",
        "eixo = fig.add_axes([0,0,1,1])\n",
        "\n",
        "eixo.plot(df['data'], df['temperatura'], color = 'g')\n",
        "eixo.set_title('Temperatura no momento', fontsize=25, pad=20)\n",
        "eixo.set_xlabel('Data', fontsize=20)\n",
        "eixo.set_ylabel('Temperatura', fontsize=20)\n",
        "eixo.legend(['Temperatura'], loc='lower right', fontsize=15)\n",
        "eixo.grid(True)\n",
        "\n",
        "x1 = df['data'][df['temperatura'].idxmax()] #x destino seta\n",
        "y1 = max(df['temperatura']) #y destino seta\n",
        "\n",
        "x2 = df['data'][df['temperatura'].idxmax() - 7000] #x origem seta, 7000horas antes (+/-)\n",
        "y2 = max(df['temperatura']) - 5 #y origem seta\n",
        "\n",
        "eixo.annotate(\"Máximo\", xy=(x1,y1), fontsize=20,\n",
        "              xytext=(x2,y2), arrowprops=dict(facecolor='k'))\n",
        "\n",
        "eixo.axhline(max(df['temperatura']), color = 'k', linestyle='--')\n",
        "eixo.axhline(min(df['temperatura']), color = 'k', linestyle='--')"
      ]
    },
    {
      "cell_type": "markdown",
      "source": [
        "**Replicar a ideia para o mínimo**"
      ],
      "metadata": {
        "id": "mHnVE4rLHzYf"
      }
    },
    {
      "cell_type": "code",
      "execution_count": null,
      "metadata": {
        "id": "mPN6XhTWpdcu"
      },
      "outputs": [],
      "source": [
        "fig = plt.figure(figsize = (15,8))\n",
        "eixo = fig.add_axes([0,0,1,1])\n",
        "\n",
        "eixo.plot(df['data'], df['temperatura'], color = 'g')\n",
        "eixo.set_title('Temperatura no momento', fontsize=25, pad=20)\n",
        "eixo.set_xlabel('Data', fontsize=20)\n",
        "eixo.set_ylabel('Temperatura', fontsize=20)\n",
        "eixo.legend(['Temperatura'], loc='lower right', fontsize=15)\n",
        "eixo.grid(True)\n",
        "\n",
        "x1 = df['data'][df['temperatura'].idxmax()]\n",
        "y1 = max(df['temperatura'])\n",
        "\n",
        "x2 = df['data'][df['temperatura'].idxmax() - 7000] # para esquerda\n",
        "y2 = max(df['temperatura']) - 5 # para baixo\n",
        "\n",
        "eixo.annotate(\"Máximo\", xy=(x1,y1), fontsize=20,\n",
        "              xytext=(x2,y2), arrowprops=dict(facecolor='k'))\n",
        "\n",
        "x1 = df['data'][df['temperatura'].idxmin()]\n",
        "y1 = min(df['temperatura'])\n",
        "\n",
        "x2 = df['data'][df['temperatura'].idxmin() - 7000] # para esquerda\n",
        "y2 = min(df['temperatura']) + 5 # para cima\n",
        "\n",
        "eixo.annotate(\"Mínimo\", xy=(x1,y1), fontsize=20,\n",
        "              xytext=(x2,y2), arrowprops=dict(facecolor='k'))\n",
        "\n",
        "eixo.axhline(max(df['temperatura']), color = 'k', linestyle='--')\n",
        "eixo.axhline(min(df['temperatura']), color = 'k', linestyle='--')"
      ]
    },
    {
      "cell_type": "markdown",
      "source": [
        "**Análise da temperatura por dia da semana**"
      ],
      "metadata": {
        "id": "__Cax4bqIFeK"
      }
    },
    {
      "cell_type": "code",
      "execution_count": null,
      "metadata": {
        "id": "AvbXSpHYpdcv"
      },
      "outputs": [],
      "source": [
        "temperatura_por_dia_da_semana = df.groupby('dia_da_semana')['temperatura'].mean()\n",
        "nome_dias = ['Domingo', 'Segunda', 'Terça', 'Quarta', 'Quinta', 'Sexta', 'Sábado'] #selecao para colocar em ordem\n",
        "temperatura_por_dia_da_semana = temperatura_por_dia_da_semana[nome_dias]\n",
        "temperatura_por_dia_da_semana"
      ]
    },
    {
      "cell_type": "code",
      "execution_count": null,
      "metadata": {
        "id": "VcgkSTjGpdcv"
      },
      "outputs": [],
      "source": [
        "fig = plt.figure(figsize=(5,4))\n",
        "eixo = fig.add_axes([0,0,1,1])\n",
        "\n",
        "indice = range(len(temperatura_por_dia_da_semana))\n",
        "\n",
        "eixo.bar(indice, temperatura_por_dia_da_semana)\n",
        "eixo.set_title('Temperatura por dia da semana', fontsize=15, pad=10)\n",
        "eixo.set_xlabel('Dia da semana', fontsize=15)\n",
        "eixo.set_ylabel('Temperatura média', fontsize=15)"
      ]
    },
    {
      "cell_type": "code",
      "execution_count": null,
      "metadata": {
        "id": "rH_XTZ78pdcw"
      },
      "outputs": [],
      "source": [
        "fig = plt.figure(figsize=(5,4))\n",
        "eixo = fig.add_axes([0,0,1,1])\n",
        "\n",
        "indice = range(len(temperatura_por_dia_da_semana))\n",
        "\n",
        "eixo.bar(indice, temperatura_por_dia_da_semana)\n",
        "eixo.set_title('Temperatura por dia da semana', fontsize=15, pad=10)\n",
        "eixo.set_xlabel('Dia da semana', fontsize=15)\n",
        "eixo.set_ylabel('Temperatura média', fontsize=15)\n",
        "eixo.set_xticks(indice)\n",
        "eixo.set_xticklabels(nome_dias)\n",
        "fig.show()"
      ]
    },
    {
      "cell_type": "code",
      "execution_count": null,
      "metadata": {
        "id": "2zSg3zeIpdcw"
      },
      "outputs": [],
      "source": [
        "fig = plt.figure(figsize=(5,4))\n",
        "eixo = fig.add_axes([0,0,1,1])\n",
        "\n",
        "indice = range(len(temperatura_por_dia_da_semana))\n",
        "cores = ['black', 'r', 'g', 'b', 'yellow', 'orange', 'magenta'] #cores\n",
        "\n",
        "eixo.bar(indice, temperatura_por_dia_da_semana, color=cores)\n",
        "eixo.set_title('Temperatura por dia da semana', fontsize=15, pad=10)\n",
        "eixo.set_xlabel('Dia da semana', fontsize=15)\n",
        "eixo.set_ylabel('Temperatura média', fontsize=15)\n",
        "eixo.set_xticks(indice)\n",
        "eixo.set_xticklabels(nome_dias)"
      ]
    },
    {
      "cell_type": "code",
      "execution_count": null,
      "metadata": {
        "id": "l6QVyquFpdcw"
      },
      "outputs": [],
      "source": [
        "fig = plt.figure(figsize=(5,4))\n",
        "eixo = fig.add_axes([0,0,1,1])\n",
        "\n",
        "indice = range(len(temperatura_por_dia_da_semana))\n",
        "cores = ['black', 'r', 'g', 'b', 'yellow', 'orange', 'magenta']\n",
        "\n",
        "eixo.bar(indice, temperatura_por_dia_da_semana, color=cores, edgecolor='black') #add cor da borda da barra\n",
        "eixo.set_title('Temperatura por dia da semana', fontsize=15, pad=10)\n",
        "eixo.set_xlabel('Dia da semana', fontsize=15)\n",
        "eixo.set_ylabel('Temperatura média', fontsize=15)\n",
        "eixo.set_xticks(indice)\n",
        "eixo.set_xticklabels(nome_dias)"
      ]
    },
    {
      "cell_type": "markdown",
      "source": [
        "**Visualização em gráfico de pizza**"
      ],
      "metadata": {
        "id": "72PbqmrAXepC"
      }
    },
    {
      "cell_type": "code",
      "source": [
        "temperatura_por_dia_da_semana"
      ],
      "metadata": {
        "id": "W34cGkE_XmGx"
      },
      "execution_count": null,
      "outputs": []
    },
    {
      "cell_type": "code",
      "execution_count": null,
      "metadata": {
        "id": "G3ahA_2dpdcx"
      },
      "outputs": [],
      "source": [
        "fig = plt.figure(figsize=(5,4))\n",
        "eixo = fig.add_axes([0,0,1,1])\n",
        "\n",
        "eixo.pie(temperatura_por_dia_da_semana, labels=temperatura_por_dia_da_semana.index)\n",
        "eixo.set_title('Temperatura por dia da semana', fontsize=15, pad=10)"
      ]
    },
    {
      "cell_type": "code",
      "execution_count": null,
      "metadata": {
        "id": "yU6ZExCfpdcx"
      },
      "outputs": [],
      "source": [
        "fig = plt.figure(figsize=(5,4))\n",
        "eixo = fig.add_axes([0,0,1,1])\n",
        "\n",
        "eixo.pie(temperatura_por_dia_da_semana, labels=temperatura_por_dia_da_semana.index,\n",
        "         autopct='%.1f%%') #add a porcentagem\n",
        "eixo.set_title('Temperatura por dia da semana', fontsize=15, pad=10)"
      ]
    },
    {
      "cell_type": "markdown",
      "source": [
        "**Ênfase ou explosão de partes específicas da pizza**"
      ],
      "metadata": {
        "id": "gnRLPW0YYgVb"
      }
    },
    {
      "cell_type": "code",
      "execution_count": null,
      "metadata": {
        "id": "8w5wowLjpdcx"
      },
      "outputs": [],
      "source": [
        "fig = plt.figure(figsize=(5,4))\n",
        "eixo = fig.add_axes([0,0,1,1])\n",
        "\n",
        "explodir = [0.1, 0, 0, 0, 0, 0.1, 0.1]\n",
        "\n",
        "eixo.pie(temperatura_por_dia_da_semana, labels=temperatura_por_dia_da_semana.index,\n",
        "         autopct='%.1f%%', explode=explodir)\n",
        "eixo.set_title('Temperatura por dia da semana', fontsize=15, pad=10)"
      ]
    },
    {
      "cell_type": "code",
      "execution_count": null,
      "metadata": {
        "id": "GWdzMGGNpdcy"
      },
      "outputs": [],
      "source": [
        "fig = plt.figure(figsize=(5,4))\n",
        "eixo = fig.add_axes([0,0,1,1])\n",
        "\n",
        "explodir = [0.1, 0, 0, 0, 0, 0.1, 0.1]\n",
        "\n",
        "eixo.pie(temperatura_por_dia_da_semana, labels=temperatura_por_dia_da_semana.index,\n",
        "         autopct='%.1f%%', explode=explodir, shadow=True) #add sombra\n",
        "eixo.set_title('Temperatura por dia da semana', fontsize=15, pad=10)"
      ]
    }
  ],
  "metadata": {
    "kernelspec": {
      "display_name": "Python 3",
      "language": "python",
      "name": "python3"
    },
    "language_info": {
      "codemirror_mode": {
        "name": "ipython",
        "version": 3
      },
      "file_extension": ".py",
      "mimetype": "text/x-python",
      "name": "python",
      "nbconvert_exporter": "python",
      "pygments_lexer": "ipython3",
      "version": "3.7.3"
    },
    "colab": {
      "provenance": [],
      "collapsed_sections": [
        "5P-m-Kf5pRUD",
        "1cQDzztLpRUE",
        "ILijTtyLpcRn",
        "cKq8YCKhWBk5"
      ]
    }
  },
  "nbformat": 4,
  "nbformat_minor": 0
}