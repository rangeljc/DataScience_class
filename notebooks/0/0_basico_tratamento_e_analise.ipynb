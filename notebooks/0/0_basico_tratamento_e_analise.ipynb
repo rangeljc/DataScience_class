{
 "cells": [
  {
   "cell_type": "markdown",
   "metadata": {
    "id": "8DB4pgvh7zAk"
   },
   "source": [
    "## **Carregamento de dados e obtenção de informações básicas**"
   ]
  },
  {
   "cell_type": "code",
   "execution_count": null,
   "metadata": {
    "id": "NcH8ThbjijTs"
   },
   "outputs": [],
   "source": [
    "import pandas as pd"
   ]
  },
  {
   "cell_type": "code",
   "execution_count": null,
   "metadata": {
    "id": "4DTHDea6xnS-"
   },
   "outputs": [],
   "source": [
    "arquivo = pd.read_csv(\"db.csv\", sep=';') #dataframe\n",
    "arquivo.head() #opção: .tail() - exibe os ultimos registros do dataframe"
   ]
  },
  {
   "cell_type": "code",
   "execution_count": null,
   "metadata": {
    "id": "S6lavEEaySiN"
   },
   "outputs": [],
   "source": [
    "type(arquivo)"
   ]
  },
  {
   "cell_type": "code",
   "execution_count": null,
   "metadata": {
    "id": "o4g26_J3n1nO"
   },
   "outputs": [],
   "source": [
    "arquivo.dtypes"
   ]
  },
  {
   "cell_type": "code",
   "execution_count": null,
   "metadata": {
    "id": "0KiY0tfWyxMn"
   },
   "outputs": [],
   "source": [
    "arquivo.info()"
   ]
  },
  {
   "cell_type": "code",
   "execution_count": null,
   "metadata": {
    "id": "FcR9aUS6zBwg"
   },
   "outputs": [],
   "source": [
    "arquivo.tail()"
   ]
  },
  {
   "cell_type": "code",
   "execution_count": null,
   "metadata": {
    "id": "f_-DvDdozSWI"
   },
   "outputs": [],
   "source": [
    "arquivo.describe()"
   ]
  },
  {
   "cell_type": "code",
   "execution_count": null,
   "metadata": {
    "id": "iivxpkuSz0ts"
   },
   "outputs": [],
   "source": [
    "arquivo.Ano"
   ]
  },
  {
   "cell_type": "code",
   "execution_count": null,
   "metadata": {
    "id": "QWgl8KGR12jJ"
   },
   "outputs": [],
   "source": [
    "arquivo['Ano'].value_counts()"
   ]
  },
  {
   "cell_type": "markdown",
   "metadata": {
    "id": "0yIt7FVm-_qq"
   },
   "source": [
    "**Utilizar uma coluna como índice**"
   ]
  },
  {
   "cell_type": "code",
   "execution_count": null,
   "metadata": {
    "id": "DG_7URpC-vOG"
   },
   "outputs": [],
   "source": [
    "len(arquivo['Nome'].unique())"
   ]
  },
  {
   "cell_type": "code",
   "execution_count": null,
   "metadata": {
    "id": "gbhwWBCM_Dd3"
   },
   "outputs": [],
   "source": [
    "arquivo['Ano'].unique()"
   ]
  },
  {
   "cell_type": "code",
   "execution_count": null,
   "metadata": {},
   "outputs": [],
   "source": [
    "dados = pd.read_csv('db.csv', sep=';', index_col=0)\n",
    "dados"
   ]
  },
  {
   "cell_type": "markdown",
   "metadata": {
    "id": "wlYxPmpB8Fg_"
   },
   "source": [
    "## **Fazendo seleções de dados**"
   ]
  },
  {
   "cell_type": "code",
   "execution_count": null,
   "metadata": {
    "id": "YSd3HmvS8JIf"
   },
   "outputs": [],
   "source": [
    "dados.columns"
   ]
  },
  {
   "cell_type": "code",
   "execution_count": null,
   "metadata": {
    "id": "EtjUXY_28r5j"
   },
   "outputs": [],
   "source": [
    "dados['Motor'] #série, pois só tem uma dimensão"
   ]
  },
  {
   "cell_type": "code",
   "execution_count": null,
   "metadata": {},
   "outputs": [],
   "source": [
    "type(dados['Motor'])"
   ]
  },
  {
   "cell_type": "code",
   "execution_count": null,
   "metadata": {
    "id": "qgwlEd_ZMNtb"
   },
   "outputs": [],
   "source": [
    "type(dados)"
   ]
  },
  {
   "cell_type": "code",
   "execution_count": null,
   "metadata": {
    "id": "zRsSIeZ9OXVv"
   },
   "outputs": [],
   "source": [
    "dados[['Ano', 'Valor', 'Motor']] #[ [item1, item2, item3, ..., item n] ]"
   ]
  },
  {
   "cell_type": "code",
   "execution_count": null,
   "metadata": {
    "id": "xawrMQq5OfES"
   },
   "outputs": [],
   "source": [
    "dados[['Valor']] #Visualização de série como dataframe"
   ]
  },
  {
   "cell_type": "markdown",
   "metadata": {
    "id": "1DOCuVGCMk4X"
   },
   "source": [
    "**Fatiamentos (slices)**"
   ]
  },
  {
   "cell_type": "code",
   "execution_count": null,
   "metadata": {
    "id": "mXdxwaGiMo41"
   },
   "outputs": [],
   "source": [
    "dados[0:3]"
   ]
  },
  {
   "cell_type": "code",
   "execution_count": null,
   "metadata": {
    "id": "WdbinjH0M22w"
   },
   "outputs": [],
   "source": [
    "dados[['Motor', 'Valor']][0:3]"
   ]
  },
  {
   "cell_type": "code",
   "execution_count": null,
   "metadata": {
    "id": "2llwiYk7M6DN"
   },
   "outputs": [],
   "source": [
    "[i for i in range(10)] # gera uma lista com 10 elementos que vão de zero a 9."
   ]
  },
  {
   "cell_type": "code",
   "execution_count": null,
   "metadata": {
    "id": "xiLfWpZiVnmn"
   },
   "outputs": [],
   "source": [
    "#dados[[0, 9, 257]][['Motor', 'Valor']], o indice nao é mais numerico\n",
    "#dados[['Passat']][['Motor', 'Valor']]"
   ]
  },
  {
   "cell_type": "markdown",
   "metadata": {
    "id": "9x8xXw9uNFc1"
   },
   "source": [
    "**.loc para seleções**\n",
    "\n",
    "Seleciona um grupo de linhas e colunas segundo os rótulos ou uma matriz booleana"
   ]
  },
  {
   "cell_type": "code",
   "execution_count": null,
   "metadata": {
    "id": "iPAsChOmNIng"
   },
   "outputs": [],
   "source": [
    "dados.loc['Passat'] #loc -> localization"
   ]
  },
  {
   "cell_type": "code",
   "execution_count": null,
   "metadata": {
    "id": "GCEdRzFgOoBl"
   },
   "outputs": [],
   "source": [
    "dados.loc[['Passat', 'DS5']]"
   ]
  },
  {
   "cell_type": "code",
   "execution_count": null,
   "metadata": {
    "id": "ePzGUvXTOoWU"
   },
   "outputs": [],
   "source": [
    "dados.loc[['Passat', 'DS5'], ['Motor', 'Valor']]"
   ]
  },
  {
   "cell_type": "code",
   "execution_count": null,
   "metadata": {
    "id": "aeohMuEAO_7P"
   },
   "outputs": [],
   "source": [
    "dados.loc[:, ['Motor', 'Valor']]"
   ]
  },
  {
   "cell_type": "markdown",
   "metadata": {
    "id": "7vMsn3LINJC7"
   },
   "source": [
    "**.iloc para seleções**\n",
    "\n",
    "Seleciona com base nos índices, ou seja, se baseia na posição das informações"
   ]
  },
  {
   "cell_type": "code",
   "execution_count": null,
   "metadata": {
    "id": "n6WzU4e4NLuc"
   },
   "outputs": [],
   "source": [
    "dados.iloc[1] #iloc -> index localization"
   ]
  },
  {
   "cell_type": "code",
   "execution_count": null,
   "metadata": {
    "id": "Nk9kxbbXPkiL"
   },
   "outputs": [],
   "source": [
    "#dados.loc[['Passat', 'DS5'], ['Motor', 'Valor']]\n",
    "dados.iloc[[1, 3], [0, -1]]"
   ]
  },
  {
   "cell_type": "markdown",
   "metadata": {
    "id": "chg0xtXM8Ls3"
   },
   "source": [
    "## **Queries nos dados**"
   ]
  },
  {
   "cell_type": "code",
   "execution_count": null,
   "metadata": {
    "id": "ub2yKHXk8Q2S"
   },
   "outputs": [],
   "source": [
    "#selecionar os carros com motor a diesel\n",
    "selecao = dados['Motor'] == 'Motor Diesel'\n",
    "selecao"
   ]
  },
  {
   "cell_type": "code",
   "execution_count": null,
   "metadata": {
    "id": "2bvF7_x8WNt-"
   },
   "outputs": [],
   "source": [
    "dados[selecao].head()"
   ]
  },
  {
   "cell_type": "code",
   "execution_count": null,
   "metadata": {
    "id": "EzZvfoWAWrJW"
   },
   "outputs": [],
   "source": [
    "#seleção com mais de uma condição (&-and, |-or)\n",
    "selecao = (dados['Motor'] == 'Motor Diesel') & (dados['Valor'] < 80000)"
   ]
  },
  {
   "cell_type": "code",
   "execution_count": null,
   "metadata": {
    "id": "WoTxl6OrW0dC"
   },
   "outputs": [],
   "source": [
    "dados[selecao]"
   ]
  },
  {
   "cell_type": "code",
   "execution_count": null,
   "metadata": {
    "id": "j1DqdUK3W00a"
   },
   "outputs": [],
   "source": [
    "dados[selecao][['Valor', 'Ano']]"
   ]
  },
  {
   "cell_type": "markdown",
   "metadata": {
    "id": "UMkoyhOTYnvG"
   },
   "source": [
    "**Método query**"
   ]
  },
  {
   "cell_type": "code",
   "execution_count": null,
   "metadata": {
    "id": "AtChudpdYe7W"
   },
   "outputs": [],
   "source": [
    "#or, &, |\n",
    "#selecao = (dados['Motor'] == 'Motor Diesel') & (dados['Valor'] < 80000)\n",
    "dados.query('Motor==\"Motor Diesel\" and Valor<80000')"
   ]
  },
  {
   "cell_type": "markdown",
   "metadata": {
    "id": "BsdJku458VEZ"
   },
   "source": [
    "## **Iterando nos dados**"
   ]
  },
  {
   "cell_type": "code",
   "execution_count": null,
   "metadata": {
    "id": "WATcbo6U8YMU"
   },
   "outputs": [],
   "source": [
    "l = [10, 20, 30, 50, -100]"
   ]
  },
  {
   "cell_type": "code",
   "execution_count": null,
   "metadata": {
    "id": "j65JE7wNu7pv"
   },
   "outputs": [],
   "source": [
    "# como nao fazer!\n"
   ]
  },
  {
   "cell_type": "code",
   "execution_count": null,
   "metadata": {
    "id": "DUBG-3JUvKNg"
   },
   "outputs": [],
   "source": [
    "for i in l: #for-each - uma iteração para cada elemento\n",
    "    print(i)"
   ]
  },
  {
   "cell_type": "code",
   "execution_count": null,
   "metadata": {
    "id": "Ybrjak7WvkZW"
   },
   "outputs": [],
   "source": [
    "#for i in range(start=0, stop=obrigatorio, step=1)\n",
    "for i in range(5):\n",
    "    print(l[i])"
   ]
  },
  {
   "cell_type": "code",
   "execution_count": null,
   "metadata": {},
   "outputs": [],
   "source": [
    "#iterar em dataframes\n",
    "#como não fazer\n",
    "for item in dados:\n",
    "    print(item)"
   ]
  },
  {
   "cell_type": "code",
   "execution_count": null,
   "metadata": {},
   "outputs": [],
   "source": [
    "#como fazer\n",
    "list(dados.iterrows())"
   ]
  },
  {
   "cell_type": "code",
   "execution_count": null,
   "metadata": {},
   "outputs": [],
   "source": [
    "for id, row in dados.iterrows():\n",
    "    print(id, row)"
   ]
  },
  {
   "cell_type": "markdown",
   "metadata": {
    "id": "wD6CQawRwyiX"
   },
   "source": [
    "**Exemplo**: Calcular a quilometragem média anual"
   ]
  },
  {
   "cell_type": "code",
   "execution_count": null,
   "metadata": {
    "id": "jOfivsfXxX_P"
   },
   "outputs": [],
   "source": [
    "#kmetrage/(anoAtual - anoFabricação)\n",
    "ano_atual = 2019\n",
    "for id, row in dados.iterrows():\n",
    "    anos_rodando = ano_atual - row['Ano']\n",
    "    if anos_rodando != 0:\n",
    "        dados.loc[id, 'Km_media'] = row['Quilometragem']/anos_rodando\n",
    "    else:\n",
    "        dados.loc[id, 'Km_media'] = 0\n",
    "\n",
    "dados.head()"
   ]
  },
  {
   "cell_type": "code",
   "execution_count": null,
   "metadata": {
    "id": "E1xqOp19vkqJ"
   },
   "outputs": [],
   "source": []
  },
  {
   "cell_type": "markdown",
   "metadata": {
    "id": "3s53IXHAycG6"
   },
   "source": [
    "**Existem outras formas de iterar**, pesquisar por .itertuples() e .items()"
   ]
  },
  {
   "cell_type": "markdown",
   "metadata": {
    "id": "Mx8XCXBB8ZuI"
   },
   "source": [
    "## **Tratamento de dados**"
   ]
  },
  {
   "cell_type": "code",
   "execution_count": null,
   "metadata": {
    "id": "dqExiIhi8dnK"
   },
   "outputs": [],
   "source": [
    "dados.head()"
   ]
  },
  {
   "cell_type": "code",
   "execution_count": null,
   "metadata": {
    "id": "VwI2o4YF4jG5"
   },
   "outputs": [],
   "source": [
    "dados.info()\n",
    "'''\n",
    "Quilometragem tem 197 infos nao-nulas, teria problema para modelos de machine learning\n",
    "'''"
   ]
  },
  {
   "cell_type": "code",
   "execution_count": null,
   "metadata": {
    "id": "ZV_96ENq4jXg"
   },
   "outputs": [],
   "source": [
    "# NaN -> Not a Number\n",
    "selecao = dados['Quilometragem'].isna() # isna() verifica se existem valores do tipo NaN\n",
    "dados[selecao]"
   ]
  },
  {
   "cell_type": "code",
   "execution_count": null,
   "metadata": {
    "id": "rYVB00_q5KsW"
   },
   "outputs": [],
   "source": [
    "dados.fillna(0) #preenche os NaN com 0"
   ]
  },
  {
   "cell_type": "code",
   "execution_count": null,
   "metadata": {
    "id": "E0VtjhJM5K9e"
   },
   "outputs": [],
   "source": [
    "dados.fillna(0, inplace=True) #o inplace efetua de fato as alterações no dataframe"
   ]
  },
  {
   "cell_type": "code",
   "execution_count": null,
   "metadata": {
    "id": "_DlQdexV5dYz"
   },
   "outputs": [],
   "source": [
    "dados.head()"
   ]
  },
  {
   "cell_type": "code",
   "execution_count": null,
   "metadata": {
    "id": "z_sYsFt-5oQo"
   },
   "outputs": [],
   "source": [
    "dados_tmp = pd.read_csv('db.csv', sep=';')\n",
    "dados_tmp.head()"
   ]
  },
  {
   "cell_type": "code",
   "execution_count": null,
   "metadata": {
    "id": "wcJmLDyY5sdF"
   },
   "outputs": [],
   "source": [
    "#dropna() -> apaga os registros com NaN na Quilometragem\n",
    "dados_tmp.dropna(subset=['Quilometragem'])"
   ]
  },
  {
   "cell_type": "code",
   "execution_count": null,
   "metadata": {
    "id": "zfOqqrdl51M4"
   },
   "outputs": [],
   "source": [
    "dados_tmp.dropna(subset=['Quilometragem'], inplace=True)\n",
    "dados_tmp.head()"
   ]
  },
  {
   "cell_type": "markdown",
   "metadata": {
    "id": "gu-wA9iZ6Lc-"
   },
   "source": [
    "**carregando dados originais**"
   ]
  },
  {
   "cell_type": "code",
   "execution_count": null,
   "metadata": {
    "id": "nVsm20lP6IbW"
   },
   "outputs": [],
   "source": [
    "dados_tmp['Ano'].hist()"
   ]
  },
  {
   "cell_type": "code",
   "execution_count": null,
   "metadata": {
    "id": "rVA0bnyA6Tw-"
   },
   "outputs": [],
   "source": [
    "dados_tmp[['Ano']].boxplot()"
   ]
  },
  {
   "cell_type": "code",
   "execution_count": null,
   "metadata": {
    "id": "oCe8m8XT8CLl"
   },
   "outputs": [],
   "source": [
    "dados_tmp[['Ano']].plot.bar()"
   ]
  },
  {
   "cell_type": "code",
   "execution_count": null,
   "metadata": {
    "id": "kChZjU5M8TqZ"
   },
   "outputs": [],
   "source": [
    "dados_tmp[['Ano']].mean()"
   ]
  },
  {
   "cell_type": "code",
   "execution_count": null,
   "metadata": {
    "id": "uT5GTNZT8Wrw"
   },
   "outputs": [],
   "source": [
    "dados_tmp[['Ano']].median()"
   ]
  }
 ],
 "metadata": {
  "colab": {
   "collapsed_sections": [
    "8DB4pgvh7zAk",
    "wlYxPmpB8Fg_",
    "chg0xtXM8Ls3",
    "BsdJku458VEZ",
    "Mx8XCXBB8ZuI"
   ],
   "provenance": []
  },
  "kernelspec": {
   "display_name": "Python 3",
   "language": "python",
   "name": "python3"
  },
  "language_info": {
   "codemirror_mode": {
    "name": "ipython",
    "version": 3
   },
   "file_extension": ".py",
   "mimetype": "text/x-python",
   "name": "python",
   "nbconvert_exporter": "python",
   "pygments_lexer": "ipython3",
   "version": "3.7.1"
  }
 },
 "nbformat": 4,
 "nbformat_minor": 1
}
