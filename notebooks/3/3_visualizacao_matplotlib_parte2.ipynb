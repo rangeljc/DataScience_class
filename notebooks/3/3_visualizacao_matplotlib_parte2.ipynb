{
  "cells": [
    {
      "cell_type": "markdown",
      "source": [
        "# Aula 4"
      ],
      "metadata": {
        "id": "gP6g74Eab1kd"
      }
    },
    {
      "cell_type": "code",
      "execution_count": null,
      "metadata": {
        "id": "0hv2gPRGpeGn"
      },
      "outputs": [],
      "source": [
        "import numpy as np\n",
        "import pandas as pd\n",
        "import matplotlib.pyplot as plt\n",
        "\n",
        "%matplotlib inline"
      ]
    },
    {
      "cell_type": "code",
      "execution_count": null,
      "metadata": {
        "id": "PqbR-XixpeGr"
      },
      "outputs": [],
      "source": [
        "df = pd.read_csv('iris.csv')"
      ]
    },
    {
      "cell_type": "code",
      "execution_count": null,
      "metadata": {
        "id": "FDGDjN4bpeGt"
      },
      "outputs": [],
      "source": [
        "df.head()"
      ]
    },
    {
      "cell_type": "code",
      "source": [],
      "metadata": {
        "id": "wUz02XrUCIn_"
      },
      "execution_count": null,
      "outputs": []
    },
    {
      "cell_type": "code",
      "execution_count": null,
      "metadata": {
        "id": "Ds3W2F0opeGx"
      },
      "outputs": [],
      "source": [
        "fig = plt.figure(figsize=(15,8))\n",
        "eixo = fig.add_axes([0,0,1,1])\n",
        "\n"
      ]
    },
    {
      "cell_type": "code",
      "execution_count": null,
      "metadata": {
        "id": "RPGzHnA-peGy"
      },
      "outputs": [],
      "source": [
        "fig = plt.figure(figsize=(15,8))\n",
        "eixo = fig.add_axes([0,0,1,1])\n",
        "\n",
        "#aumentar o tamanho do 'tick'"
      ]
    },
    {
      "cell_type": "code",
      "execution_count": null,
      "metadata": {
        "id": "7s-pUhPEpeG0"
      },
      "outputs": [],
      "source": [
        "fig = plt.figure(figsize=(15,8))\n",
        "eixo = fig.add_axes([0,0,1,1])\n",
        "\n",
        "#dicionario chave:valor, chave:valor, ...\n",
        "\n",
        "#selecionar quais instancias/registro sao daquela especie\n",
        "#plota os dados daquela especie\n",
        "\n"
      ]
    },
    {
      "cell_type": "markdown",
      "source": [
        "**As vezes pontos podem ficar sobrepostos, marcadores diferentes podem revelar sobreposições**"
      ],
      "metadata": {
        "id": "sdtp8kl8FFgk"
      }
    },
    {
      "cell_type": "code",
      "execution_count": null,
      "metadata": {
        "id": "ttDrFB5cpeG2"
      },
      "outputs": [],
      "source": [
        "fig = plt.figure(figsize=(15,8))\n",
        "eixo = fig.add_axes([0,0,1,1])\n",
        "\n",
        "#marker\n",
        "\n",
        "#add marcadores\n",
        "\n"
      ]
    },
    {
      "cell_type": "code",
      "execution_count": null,
      "metadata": {
        "id": "YzFkrXpOpeG4"
      },
      "outputs": [],
      "source": [
        "fig = plt.figure(figsize=(15,8))\n",
        "eixo = fig.add_axes([0,0,1,1])\n",
        "\n",
        "#aumentado o size do marcador\n",
        "\n"
      ]
    },
    {
      "cell_type": "markdown",
      "source": [
        "**Análise das variáveis/atributos com boxplot**"
      ],
      "metadata": {
        "id": "LWoRuFwMIUhh"
      }
    },
    {
      "cell_type": "code",
      "execution_count": null,
      "metadata": {
        "id": "KqnaAXuApeG6"
      },
      "outputs": [],
      "source": [
        "fig = plt.figure(figsize=(5,4))\n",
        "eixo = fig.add_axes([0,0,1,1])\n",
        "\n"
      ]
    },
    {
      "cell_type": "markdown",
      "source": [
        "**Para todas as variáveis**"
      ],
      "metadata": {
        "id": "IfDJaS84IbRk"
      }
    },
    {
      "cell_type": "code",
      "source": [
        "#eliminar/dropar a coluna (axis=1) 'espécie', pois eh categorica"
      ],
      "metadata": {
        "id": "MCI5dYRyIiEA"
      },
      "execution_count": null,
      "outputs": []
    },
    {
      "cell_type": "code",
      "source": [],
      "metadata": {
        "id": "-Zm9ScLwJQKC"
      },
      "execution_count": null,
      "outputs": []
    },
    {
      "cell_type": "code",
      "source": [],
      "metadata": {
        "id": "yhMEkzNzJQfG"
      },
      "execution_count": null,
      "outputs": []
    },
    {
      "cell_type": "code",
      "execution_count": null,
      "metadata": {
        "id": "xOcHSZ-mpeG7"
      },
      "outputs": [],
      "source": [
        "fig = plt.figure(figsize=(8,5))\n",
        "eixo = fig.add_axes([0,0,1,1])\n",
        "\n",
        "#queremos os valores\n",
        "#queremos os cabecalhos das colunas\n",
        "fig.show()"
      ]
    },
    {
      "cell_type": "code",
      "source": [
        "#Boxplot do Pandas usa matplotlib\n",
        "plt.figure(figsize=(10,6))\n",
        "df.boxplot()\n",
        "#plt.show()"
      ],
      "metadata": {
        "id": "FpMHoQd0Ji8x"
      },
      "execution_count": null,
      "outputs": []
    },
    {
      "cell_type": "code",
      "execution_count": null,
      "metadata": {
        "id": "pj17d7EypeG8"
      },
      "outputs": [],
      "source": [
        "fig = plt.figure(figsize=(8,5))\n",
        "eixo = fig.add_axes([0,0,1,1])\n",
        "\n",
        "#preencher os boxplots\n"
      ]
    },
    {
      "cell_type": "markdown",
      "source": [
        "**Colocando cores diferentes para cada boxplot**"
      ],
      "metadata": {
        "id": "R_TsJy4wL52A"
      }
    },
    {
      "cell_type": "code",
      "source": [
        "#preencher os boxplots\n"
      ],
      "metadata": {
        "id": "s9-o6FKsL95b"
      },
      "execution_count": null,
      "outputs": []
    },
    {
      "cell_type": "code",
      "execution_count": null,
      "metadata": {
        "id": "RziGqRfSpeG_"
      },
      "outputs": [],
      "source": [
        "fig = plt.figure(figsize=(8,5))\n",
        "eixo = fig.add_axes([0,0,1,1])\n",
        "\n",
        "#lista de cores\n",
        "\n",
        "#atribuir os objetos boxplots\n",
        "\n",
        "\n",
        "#para cada caixa, cor iterar com zip de forma conjunta nas (caixas, cores)\n",
        "#associa uma caixa com uma cor\n",
        "\n",
        "#caixas['boxes'][0].set(color='cyan')"
      ]
    },
    {
      "cell_type": "markdown",
      "source": [
        "**Modificar os marcadores para os outliers(fliers)**"
      ],
      "metadata": {
        "id": "Vng2xvMYN12i"
      }
    },
    {
      "cell_type": "code",
      "execution_count": null,
      "metadata": {
        "id": "-wBgBbT7peHA"
      },
      "outputs": [],
      "source": [
        "fig = plt.figure(figsize=(8,5))\n",
        "eixo = fig.add_axes([0,0,1,1])\n",
        "\n"
      ]
    },
    {
      "cell_type": "markdown",
      "source": [
        "**Histogramas**"
      ],
      "metadata": {
        "id": "6YA_fBTcOtUc"
      }
    },
    {
      "cell_type": "code",
      "execution_count": null,
      "metadata": {
        "id": "6pUVfCDDpeHB"
      },
      "outputs": [],
      "source": [
        "fig = plt.figure(figsize=(5,4))\n",
        "eixo = fig.add_axes([0,0,1,1])\n",
        "\n"
      ]
    },
    {
      "cell_type": "markdown",
      "source": [
        "**Aumentar o detalhamento -> quantidade de barras**"
      ],
      "metadata": {
        "id": "dFoR7RSoZKGE"
      }
    },
    {
      "cell_type": "code",
      "execution_count": null,
      "metadata": {
        "id": "vPDQUaxKpeHC"
      },
      "outputs": [],
      "source": [
        "fig = plt.figure(figsize=(5,4))\n",
        "eixo = fig.add_axes([0,0,1,1])\n",
        "\n"
      ]
    },
    {
      "cell_type": "markdown",
      "source": [
        "**Normalizar o histograma**"
      ],
      "metadata": {
        "id": "achKyX7IZvrk"
      }
    },
    {
      "cell_type": "code",
      "execution_count": null,
      "metadata": {
        "id": "T3iexDELpeHD"
      },
      "outputs": [],
      "source": [
        "fig = plt.figure(figsize=(5,4))\n",
        "eixo = fig.add_axes([0,0,1,1])\n",
        "\n",
        "#integral da area eh 1\n"
      ]
    },
    {
      "cell_type": "markdown",
      "source": [
        "**Mudando a orientação**"
      ],
      "metadata": {
        "id": "IsPg3j-3aG1Y"
      }
    },
    {
      "cell_type": "code",
      "source": [
        "fig = plt.figure(figsize=(5,4))\n",
        "eixo = fig.add_axes([0,0,1,1])\n",
        "\n"
      ],
      "metadata": {
        "id": "fXSJfkdCZkyt"
      },
      "execution_count": null,
      "outputs": []
    },
    {
      "cell_type": "markdown",
      "source": [
        "# Aula 5"
      ],
      "metadata": {
        "id": "gl0dPkkZcJKk"
      }
    },
    {
      "cell_type": "markdown",
      "source": [
        "**Anotar os valores de média e desvio padrão no gráfico**"
      ],
      "metadata": {
        "id": "qGKmzXwwcyiY"
      }
    },
    {
      "cell_type": "code",
      "execution_count": null,
      "metadata": {
        "id": "WLZUJUVzpfdq"
      },
      "outputs": [],
      "source": [
        "fig = plt.figure(figsize=(5,4))\n",
        "eixo = fig.add_axes([0,0,1,1])\n",
        "\n"
      ]
    },
    {
      "cell_type": "markdown",
      "source": [
        "**Indicar com linha vertical a média**"
      ],
      "metadata": {
        "id": "KzxV6e9VelAX"
      }
    },
    {
      "cell_type": "code",
      "execution_count": null,
      "metadata": {
        "id": "9mH7s_Lhpfdr"
      },
      "outputs": [],
      "source": [
        "fig = plt.figure(figsize=(5,4))\n",
        "eixo = fig.add_axes([0,0,1,1])\n",
        "\n",
        "#add linha vertical\n",
        "#add anotacao"
      ]
    },
    {
      "cell_type": "code",
      "execution_count": null,
      "metadata": {
        "id": "XiyrRU8Epfdr"
      },
      "outputs": [],
      "source": [
        "fig = plt.figure(figsize=(5,4))\n",
        "eixo = fig.add_axes([0,0,1,1])\n",
        "\n"
      ]
    },
    {
      "cell_type": "markdown",
      "source": [
        "**Análise por espécie e comparação**"
      ],
      "metadata": {
        "id": "91x0EVf-gRW8"
      }
    },
    {
      "cell_type": "code",
      "execution_count": null,
      "metadata": {
        "id": "OWr25_2fpfdr"
      },
      "outputs": [],
      "source": [
        "fig = plt.figure(figsize=(5,4))\n",
        "eixo = fig.add_axes([0,0,1,1])\n",
        "\n",
        "#salvar a figura"
      ]
    },
    {
      "cell_type": "code",
      "execution_count": null,
      "metadata": {
        "id": "W6m510Ympfds"
      },
      "outputs": [],
      "source": [
        "fig = plt.figure(figsize=(5,4))\n",
        "eixo = fig.add_axes([0,0,1,1])\n",
        "\n"
      ]
    },
    {
      "cell_type": "code",
      "execution_count": null,
      "metadata": {
        "id": "1e9OO2l0pfds"
      },
      "outputs": [],
      "source": [
        "fig = plt.figure(figsize=(5,4))\n",
        "eixo = fig.add_axes([0,0,1,1])\n",
        "\n"
      ]
    },
    {
      "cell_type": "markdown",
      "source": [
        "**Modo 1**"
      ],
      "metadata": {
        "id": "-ocqTfibmhJH"
      }
    },
    {
      "cell_type": "code",
      "execution_count": null,
      "metadata": {
        "id": "y4MLUfHOpfds"
      },
      "outputs": [],
      "source": [
        "from PIL import Image\n",
        "\n",
        "largura, altura = Image.open('histograma_ivg.png').size\n",
        "combinada = Image.new(\"RGB\", (3*largura, altura))\n",
        "intervalo = 0\n",
        "for imagem in map(Image.open, ['histograma_iv.png', 'histograma_is.png',\n",
        "                               'histograma_ivg.png']):\n",
        "    combinada.paste(imagem, (intervalo, 0))\n",
        "    intervalo += largura\n",
        "    \n",
        "combinada.save('combinada.png')"
      ]
    },
    {
      "cell_type": "code",
      "execution_count": null,
      "metadata": {
        "id": "J0eD3QUHpfds"
      },
      "outputs": [],
      "source": [
        "combinada"
      ]
    },
    {
      "cell_type": "markdown",
      "source": [
        "**Modo 2**"
      ],
      "metadata": {
        "id": "M4KKnl3_mkIl"
      }
    },
    {
      "cell_type": "code",
      "source": [
        "#funcao\n",
        "def plot_hist(df, especies, xy_mu_std, xy_mu, xy_md):\n",
        "  fig, eixos = plt.subplots(1,len(especies))\n",
        "  fig.set_size_inches(22,8)\n",
        "\n",
        "  for especie, eixo in zip(especies, eixos):\n",
        "\n",
        "    df_tmp = df[df['espécie'] == especie]\n",
        "\n",
        "    mu, sigma = df_tmp['comprimento_pétala'].mean(), df_tmp['comprimento_pétala'].std()\n",
        "    eixo.hist(df_tmp['comprimento_pétala'], bins=20)\n",
        "    eixo.set_title(especie, fontsize=15, pad=10)\n",
        "    eixo.set_xlabel('Comprimento da pétala', fontsize=15)\n",
        "    eixo.grid(True)\n",
        "    \n",
        "    eixo.annotate(f'$\\mu = {mu:.2f}$\\n$\\sigma = {sigma:.2f}$',xy=xy_mu_std[especie], fontsize=20)\n",
        "\n",
        "    eixo.axvline(mu, color = 'k', linestyle='--')\n",
        "    eixo.annotate('média', xy=xy_mu[especie], fontsize=20)\n",
        "\n",
        "    eixo.axvline(df_tmp['comprimento_pétala'].median(), color='g', linestyle='--')\n",
        "    eixo.annotate('mediana', xy=xy_md[especie], fontsize=20,\n",
        "                  color='g')\n",
        "\n",
        "    fig.savefig(f'histograma_{especie}.png', bbox_inches='tight')\n",
        "    "
      ],
      "metadata": {
        "id": "R5OYozxdmlrP"
      },
      "execution_count": null,
      "outputs": []
    },
    {
      "cell_type": "code",
      "source": [
        "#funcao auxiliar\n",
        "def mu_md(df, especie):\n",
        "  sel = df['espécie']==especie\n",
        "  return df[sel]['comprimento_pétala'].mean(), df[sel]['comprimento_pétala'].median()"
      ],
      "metadata": {
        "id": "hymY7MUtrqhh"
      },
      "execution_count": null,
      "outputs": []
    },
    {
      "cell_type": "code",
      "source": [
        "#subplot\n",
        "\n",
        "especies = ['Iris-versicolor','Iris-setosa', 'Iris-virginica']\n",
        "mu_iv, md_iv = mu_md(df, especies[0])\n",
        "mu_is, md_is = mu_md(df, especies[1])\n",
        "mu_ivc, md_ivc = mu_md(df,especies[2])\n",
        "\n",
        "xy_mu_std = {especies[0]:(4.6, 6),\n",
        "             especies[1]:(1.7, 7),\n",
        "             especies[2]:(6.3, 7)\n",
        "            }\n",
        "\n",
        "xy_mu = {especies[0]:(mu_iv-0.5, 5.5),\n",
        "         especies[1]:(mu_is-0.2, 13.5),\n",
        "         especies[2]:(mu_ivc, 8)\n",
        "        }\n",
        "\n",
        "xy_md = {especies[0]:(md_iv-0.7, 6.5),\n",
        "         especies[1]:(md_is+0.05, 12),\n",
        "         especies[2]:(md_ivc, 7)\n",
        "        }\n",
        "\n",
        "plot_hist(df,especies,xy_mu_std, xy_mu, xy_md)\n",
        "\n"
      ],
      "metadata": {
        "id": "bHvQRwEMoZTG"
      },
      "execution_count": null,
      "outputs": []
    }
  ],
  "metadata": {
    "kernelspec": {
      "display_name": "Python 3",
      "language": "python",
      "name": "python3"
    },
    "language_info": {
      "codemirror_mode": {
        "name": "ipython",
        "version": 3
      },
      "file_extension": ".py",
      "mimetype": "text/x-python",
      "name": "python",
      "nbconvert_exporter": "python",
      "pygments_lexer": "ipython3",
      "version": "3.7.3"
    },
    "colab": {
      "provenance": [],
      "collapsed_sections": [
        "gP6g74Eab1kd",
        "gl0dPkkZcJKk"
      ]
    }
  },
  "nbformat": 4,
  "nbformat_minor": 0
}